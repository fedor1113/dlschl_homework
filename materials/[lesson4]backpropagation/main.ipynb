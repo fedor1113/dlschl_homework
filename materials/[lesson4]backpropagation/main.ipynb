{
 "cells": [
  {
   "cell_type": "markdown",
   "metadata": {},
   "source": [
    "# Семинар 4: нейронная сеть"
   ]
  },
  {
   "cell_type": "markdown",
   "metadata": {},
   "source": [
    "*Задание основано на ноутбуке курса Школы Анализа Данных по глубинному обучению.*"
   ]
  },
  {
   "cell_type": "markdown",
   "metadata": {},
   "source": [
    "На этом семинаре мы напишем нейронную сеть с нуля. Реализуемая нами архитектура в целом схожа с тем, как выглядит нейронная сеть в Pytorch.\n",
    "\n",
    "Этот семинар состоит из двух ноутбуков: Modules.ipynb, в котором будет находиться реализация нейронной сети, и этот ноутбук, в котором вы будете выполнять все эксперименты с нейронной сетью. Пожалуйста, не меняйте прототипы функций."
   ]
  },
  {
   "cell_type": "markdown",
   "metadata": {},
   "source": [
    "## Введение"
   ]
  },
  {
   "cell_type": "markdown",
   "metadata": {},
   "source": [
    "Нейронные сети стали популярными по многим причинам, но одна из них - это модульность. Нейронные сети состоят из модулей (слоев), каждый слой реализует какую-то функциональность. Комбинируя имеющиеся слои можно реализовать state-of-art архитектуру с помощью уже имеющейся библиотеки (Pytorch, Tensorflow итд). Часто для реализации множества прорывных современных идей достаточно определить новый слой, или даже просто слегка изменить уже имеющийсяю"
   ]
  },
  {
   "cell_type": "markdown",
   "metadata": {},
   "source": [
    "Давайте для начала посмотрим на нейронную сеть как на черный ящик (нас не интересует как он устроен, но когда мы просим его что-то сделать - он вежливо выполняет просьбу). Какую функциональность должна иметь нейронная сеть? Такую же как и остальные модели машинного обучения, а именно:\n",
    "\n",
    "1) По данному входу (input) она должна выдавать предсказания (output)\n",
    "\n",
    "2) Она должна быть обучаемой (уметь подстраиваться под имеющиеся данные)\n",
    "\n",
    "Остановимся пока на первом пункте. Назовем метод, который по данному входу дает какие-то предсказания **forward** (если вы делали домашнее задание - то это в точности метод **forward_pass** из него).\n",
    "\n"
   ]
  },
  {
   "cell_type": "markdown",
   "metadata": {},
   "source": [
    "NN.forward(input)"
   ]
  },
  {
   "cell_type": "markdown",
   "metadata": {},
   "source": [
    "## Forward"
   ]
  },
  {
   "cell_type": "code",
   "execution_count": null,
   "metadata": {
    "collapsed": true
   },
   "outputs": [],
   "source": [
    "%matplotlib inline\n",
    "from time import time, sleep\n",
    "import numpy as np\n",
    "import matplotlib.pyplot as plt\n",
    "from IPython import display"
   ]
  },
  {
   "cell_type": "markdown",
   "metadata": {},
   "source": [
    "## Dumb forward pass"
   ]
  },
  {
   "cell_type": "markdown",
   "metadata": {},
   "source": [
    "\n",
    "\n",
    "Реализуйте метод dumb_forward в `Modules.ipynb` для модуля Linear."
   ]
  },
  {
   "cell_type": "code",
   "execution_count": null,
   "metadata": {
    "collapsed": true
   },
   "outputs": [],
   "source": [
    "%run modules.ipynb\n",
    "%load_ext autoreload\n",
    "%autoreload 2\n",
    "\n",
    "def rel_error(x, y):\n",
    "    \"\"\" returns relative error \"\"\"\n",
    "    return np.max(np.abs(x - y) / (np.maximum(1e-8, np.abs(x) + np.abs(y))))"
   ]
  },
  {
   "cell_type": "markdown",
   "metadata": {},
   "source": [
    "Протестируйте ваш dumb_forward на искуственно сгенерированных данных."
   ]
  },
  {
   "cell_type": "code",
   "execution_count": null,
   "metadata": {
    "collapsed": true
   },
   "outputs": [],
   "source": [
    "\n",
    "input_size = 4\n",
    "num_classes = 3\n",
    "num_inputs = 5\n",
    "\n",
    "def init_linear():\n",
    "    np.random.seed(0)\n",
    "    return Linear(input_size, num_classes)\n",
    "\n",
    "def init_toy_data():\n",
    "    np.random.seed(1)\n",
    "    X = 10 * np.random.randn(num_inputs, input_size)\n",
    "    y = np.array([0, 1, 2, 2, 1])\n",
    "    return X, y\n",
    "\n",
    "linear = init_linear()\n",
    "X, y = init_toy_data()"
   ]
  },
  {
   "cell_type": "code",
   "execution_count": null,
   "metadata": {
    "collapsed": true
   },
   "outputs": [],
   "source": [
    "output = linear.dumb_forward(X)\n",
    "print('Your output:')\n",
    "print(output)\n",
    "print()\n",
    "print('correct output:')\n",
    "correct_output = np.asarray(\n",
    "[[ -1.54788446,  -6.00658097,   6.39369587],\n",
    " [ -3.07885716,  -8.08969546,  11.56531411],\n",
    " [  0.19697038,  -9.59100515,   5.43998673],\n",
    " [ -0.31239372,  -5.33085678,  1.94239605],\n",
    " [ -1.66825993,   1.10786278,   0.51528511]])\n",
    "print(correct_output)\n",
    "print()\n",
    "\n",
    "# The difference should be very small. We get < 1e-7\n",
    "print('Difference between your scores and correct scores:')\n",
    "print(rel_error(output, correct_output))"
   ]
  },
  {
   "cell_type": "markdown",
   "metadata": {},
   "source": [
    "Проверим, что результат совпадает с тем, что мы получили ранее."
   ]
  },
  {
   "cell_type": "code",
   "execution_count": null,
   "metadata": {
    "collapsed": true
   },
   "outputs": [],
   "source": [
    "sequential = Sequential()\n",
    "linear_small = Linear(n_in=2, n_out=2)\n",
    "linear_small.W = np.array([[0.9, 0.3], [0.2, 0.8]])\n",
    "linear_small.b = np.zeros(2)\n",
    "sequential.add(linear_small)\n",
    "sequential.add(Sigmoid())"
   ]
  },
  {
   "cell_type": "code",
   "execution_count": null,
   "metadata": {
    "collapsed": true
   },
   "outputs": [],
   "source": [
    "X_small = np.array([[1, 0.5]])\n",
    "output_small = sequential.forward(X_small)\n",
    "print('Your output:')\n",
    "print(output_small)\n",
    "print()\n",
    "print('correct output:')\n",
    "correct_output_small = np.asarray([[0.7408, 0.6457]])\n",
    "print(correct_output_small)\n",
    "print()\n",
    "\n",
    "print('Difference between your scores and correct scores:')\n",
    "print(rel_error(output_small, correct_output_small))"
   ]
  },
  {
   "cell_type": "markdown",
   "metadata": {},
   "source": [
    "# Forward"
   ]
  },
  {
   "cell_type": "markdown",
   "metadata": {},
   "source": [
    "Реализуйте метод forward в модуле Linear с помощью матричных операций библиотеки numpy."
   ]
  },
  {
   "cell_type": "code",
   "execution_count": null,
   "metadata": {
    "collapsed": true
   },
   "outputs": [],
   "source": [
    "%run modules.ipynb\n",
    "\n",
    "output = linear.forward(X)\n",
    "print('Your output:')\n",
    "print(output)\n",
    "print()\n",
    "print('correct output:')\n",
    "print(correct_output)\n",
    "print()\n",
    "\n",
    "# The difference should be very small. We get < 1e-7\n",
    "print('Difference between your scores and correct scores:')\n",
    "print(rel_error(output, correct_output))"
   ]
  },
  {
   "cell_type": "markdown",
   "metadata": {},
   "source": [
    "# Backward"
   ]
  },
  {
   "cell_type": "markdown",
   "metadata": {},
   "source": [
    "Реализуйте методы updateGradInput и accGradParameters для модуля Linear."
   ]
  },
  {
   "cell_type": "code",
   "execution_count": null,
   "metadata": {
    "collapsed": true
   },
   "outputs": [],
   "source": [
    "%run modules.ipynb\n",
    "from gradient_check import eval_numerical_gradient\n",
    "\n",
    "# Используйте численное дифференцирования чтобы проверить вашу реализацию подсчета градиента\n",
    "# Если ваша реализация верна, то относительная ошибка будет не больше 1e-5\n",
    "\n",
    "linear = init_linear()\n",
    "output = linear.forward(X)\n",
    "grad_output = np.ones_like(output)\n",
    "\n",
    "def calc_numerical_grad_for_linear(X=X, linear=linear, eps=1e-5):\n",
    "    n_objects, input_size = X.shape\n",
    "    n_classes, _ = linear.W.shape\n",
    "    W = linear.W.copy()\n",
    "    W_grad = np.zeros_like(W)\n",
    "    for row_idx in range(num_classes):\n",
    "        for column_idx in range(input_size):\n",
    "            linear.W = W.copy()\n",
    "            linear.W[row_idx][column_idx] += eps\n",
    "            right_output = linear.forward(X).sum()\n",
    "            linear.W = W.copy()\n",
    "            linear.W[row_idx][column_idx] -= eps\n",
    "            left_output = linear.forward(X).sum()\n",
    "            W_grad[row_idx][column_idx] = (right_output - left_output) / (2 * eps)\n",
    "    X_grad = np.zeros_like(X)\n",
    "    for obj_idx in range(n_objects):\n",
    "        for column_idx in range(input_size):\n",
    "            right_X = X.copy()\n",
    "            right_X[obj_idx][column_idx] += eps\n",
    "            right_output = linear.forward(right_X).sum()\n",
    "            left_X = X.copy()\n",
    "            left_X[obj_idx][column_idx] -= eps\n",
    "            left_output = linear.forward(left_X).sum()\n",
    "            X_grad[obj_idx][column_idx] = (right_output - left_output) / (2 * eps)\n",
    "    return W_grad, X_grad\n",
    "\n",
    "W_grad_numerical, X_grad_numerical = calc_numerical_grad_for_linear()\n",
    "X_grad = linear.backward(X, np.ones_like(output))\n",
    "W_grad = linear.getGradParameters()[0]\n",
    "\n",
    "print('Your gradient w.r.t W:')\n",
    "print(W_grad)\n",
    "print()\n",
    "print('correct gradient w.r.t W:')\n",
    "print(W_grad_numerical)\n",
    "print()\n",
    "\n",
    "print('Difference between your scores and correct scores:')\n",
    "print(rel_error(X_grad, X_grad_numerical))\n",
    "print('Your gradient w.r.t input:')\n",
    "print(X_grad)\n",
    "print()\n",
    "print('correct gradient w.r.t input:')\n",
    "print(X_grad_numerical)\n",
    "print()\n",
    "\n",
    "print('Difference between your scores and correct scores:')\n",
    "print(rel_error(X_grad, X_grad_numerical))"
   ]
  }
 ],
 "metadata": {
  "kernelspec": {
   "display_name": "Python 3",
   "language": "python",
   "name": "python3"
  },
  "language_info": {
   "codemirror_mode": {
    "name": "ipython",
    "version": 3
   },
   "file_extension": ".py",
   "mimetype": "text/x-python",
   "name": "python",
   "nbconvert_exporter": "python",
   "pygments_lexer": "ipython3",
   "version": "3.6.3"
  }
 },
 "nbformat": 4,
 "nbformat_minor": 1
}
