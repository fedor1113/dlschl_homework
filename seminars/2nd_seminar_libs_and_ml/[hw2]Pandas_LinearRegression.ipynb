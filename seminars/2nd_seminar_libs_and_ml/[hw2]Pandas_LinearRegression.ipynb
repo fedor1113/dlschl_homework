{
 "cells": [
  {
   "cell_type": "markdown",
   "metadata": {},
   "source": [
    "# Школа глубокого обучения\n",
    "\n",
    "<a href=\"https://mipt.ru/science/labs/laboratoriya-neyronnykh-sistem-i-glubokogo-obucheniya/\"><img align=\"right\" src=\"https://avatars1.githubusercontent.com/u/29918795?v=4&s=200\" alt=\"DeepHackLab\" style=\"position:relative;top:-40px;right:10px;height:100px;\" /></a>\n",
    "\n",
    "\n",
    "\n",
    "### Физтех-Школа Прикладной математики и информатики МФТИ \n",
    "### Лаборатория нейронных сетей и глубокого обучения (DeepHackLab)"
   ]
  },
  {
   "cell_type": "markdown",
   "metadata": {},
   "source": [
    "В данной работе мы предлагаем вам ознакомиться на практике с очень важной моделью - Линейной регрессией. \n",
    "Мы будем работать с данными [Socr](http://wiki.stat.ucla.edu/socr/index.php/SOCR_Data_Dinov_020108_HeightsWeights). Данный датасет включает в себя 25 000 записей человеческих высот и весов. Эти данные были получены в 1993 году Обследованием роста 25 000 детей от рождения до 18 лет, набранных из центров здоровья матери и ребенка (MCHC) и школ."
   ]
  },
  {
   "cell_type": "markdown",
   "metadata": {},
   "source": [
    "Если у вас нет библиотеки **seaborn** просьба установить ее командой \n",
    "\n",
    "``` sh\n",
    "conda install seaborn\n",
    "```"
   ]
  },
  {
   "cell_type": "code",
   "execution_count": null,
   "metadata": {},
   "outputs": [],
   "source": [
    "import numpy as np\n",
    "import pandas as pd\n",
    "import seaborn as sns\n",
    "import matplotlib.pyplot as plt\n",
    "%matplotlib inline"
   ]
  },
  {
   "cell_type": "markdown",
   "metadata": {},
   "source": [
    "Для начала мы немного поучимся работать с данными. Это нам понадобится в дальнейшем."
   ]
  },
  {
   "cell_type": "markdown",
   "metadata": {},
   "source": [
    "### Pandas\n",
    "\n",
    "Основными структурами данных в Pandas являются классы Series и DataFrame. Seuies -- одномерный индексированный массив данных некоторого фиксированного типа. DataFrame – это структура данных, представляющая собой таблицу. Тут все просто. Данный инструмент дает огромные возможности в первичной обраьотке данных."
   ]
  },
  {
   "cell_type": "markdown",
   "metadata": {},
   "source": [
    "Для того чтобы считать данные используется команда read_csv(). "
   ]
  },
  {
   "cell_type": "code",
   "execution_count": null,
   "metadata": {},
   "outputs": [],
   "source": [
    "data = pd.read_csv('./data/weights_heights.csv', index_col='Index')"
   ]
  },
  {
   "cell_type": "markdown",
   "metadata": {},
   "source": [
    "После этого стоит построить гистограммы распределения признаков - это позволяет понять природу признака. Также благодаря гистограмме можно найти какие-то значения, сильно не похожие на другие - \"выбросы\" в данных. \n",
    "Вы уже умеете строить гистограммы в matplotlib. Но это же можно делать с помощью встроенного в  pandas методом plot Pandas DataFrame с аргументом.\n",
    "\n",
    "* y='Height' - тот признак, распределение которого мы строим\n",
    "* kind='hist' - означает, что строится гистограмма\n",
    "* color='red' - цвет"
   ]
  },
  {
   "cell_type": "code",
   "execution_count": 2,
   "metadata": {
    "scrolled": true
   },
   "outputs": [
    {
     "data": {
      "text/plain": [
       "<matplotlib.axes._subplots.AxesSubplot at 0x10f909a90>"
      ]
     },
     "execution_count": 2,
     "metadata": {},
     "output_type": "execute_result"
    },
    {
     "data": {
      "image/png": "[encoded data removed]",
      "text/plain": [
       "<matplotlib.figure.Figure at 0x10f9e05c0>"
      ]
     },
     "metadata": {},
     "output_type": "display_data"
    }
   ],
   "source": [
    "data.plot(y='Height', kind='hist', \n",
    "           color='red',  title='Height distribution')"
   ]
  },
  {
   "cell_type": "markdown",
   "metadata": {},
   "source": [
    "### Задание 1 \n",
    "\n",
    "* Посмотрите на первые 5 записей с помощью метода head Pandas DataFrame, это позволяет познакомиться с данными, как минимум, посмотреть на признаки и их природу (количественный, категориальный и т.д.).*\n",
    "* Нарисуйте гистограмму распределения веса с помощью метода plot Pandas DataFrame. Сделайте гистограмму синей, подпишите картинку."
   ]
  },
  {
   "cell_type": "code",
   "execution_count": null,
   "metadata": {},
   "outputs": [],
   "source": [
    "# Первые 5 записей"
   ]
  },
  {
   "cell_type": "code",
   "execution_count": null,
   "metadata": {},
   "outputs": [],
   "source": [
    "# Постройте график"
   ]
  },
  {
   "cell_type": "markdown",
   "metadata": {},
   "source": [
    "Применение функции к каждому столбцу: **apply**\n",
    "\n",
    "Пример: С помощью известной вам функции посмотри максимальные значения в колонках."
   ]
  },
  {
   "cell_type": "code",
   "execution_count": null,
   "metadata": {},
   "outputs": [],
   "source": [
    "data.apply(np.max)"
   ]
  },
  {
   "cell_type": "markdown",
   "metadata": {},
   "source": [
    "Для извлечения отдельного столбца можно использовать конструкцию вида DataFrame['Name']. Воспользуемся этим для ответа на вопрос: какова средний рост человека? (Данные в дюймах)"
   ]
  },
  {
   "cell_type": "code",
   "execution_count": null,
   "metadata": {},
   "outputs": [],
   "source": [
    "data['Height'].mean()"
   ]
  },
  {
   "cell_type": "markdown",
   "metadata": {},
   "source": [
    "Датафреймы можно индексировать по названию столбца или строки и по порядковому номеру. Для индексации по названию используется метод loc, по номеру — iloc."
   ]
  },
  {
   "cell_type": "code",
   "execution_count": 2,
   "metadata": {},
   "outputs": [
    {
     "data": {
      "text/plain": [
       "Index\n",
       "1    112.9925\n",
       "2    136.4873\n",
       "3    153.0269\n",
       "4    142.3354\n",
       "5    144.2971\n",
       "Name: Weight, dtype: float64"
      ]
     },
     "execution_count": 2,
     "metadata": {},
     "output_type": "execute_result"
    }
   ],
   "source": [
    "data.loc[0:5, 'Weight']"
   ]
  },
  {
   "cell_type": "code",
   "execution_count": 2,
   "metadata": {},
   "outputs": [
    {
     "data": {
      "text/plain": [
       "Index\n",
       "1    112.9925\n",
       "2    136.4873\n",
       "3    153.0269\n",
       "4    142.3354\n",
       "5    144.2971\n",
       "Name: Weight, dtype: float64"
      ]
     },
     "execution_count": 2,
     "metadata": {},
     "output_type": "execute_result"
    }
   ],
   "source": [
    "data.iloc[0:5, 1]"
   ]
  },
  {
   "cell_type": "markdown",
   "metadata": {},
   "source": [
    "Теперь попробуйте вывести всех людей у кого вес больше 120(футов) и посчитать их количество. \n",
    "_Подсказка_: умная индексация как в numpy тут есть."
   ]
  },
  {
   "cell_type": "code",
   "execution_count": null,
   "metadata": {},
   "outputs": [],
   "source": [
    "#  Ваш код здесь"
   ]
  },
  {
   "cell_type": "markdown",
   "metadata": {},
   "source": [
    "Рассмотрим еще один интересный способ анализа данных. Изучение зависимостей в признаках. Это можно делать с помощью метода $scatter\\_matrix$ Pandas Data Frame или pairplot библиотеки Seaborn."
   ]
  },
  {
   "cell_type": "markdown",
   "metadata": {},
   "source": [
    "Для того, чтобы у нас была зависимость в данных, введем новый признак - индекс массы тела."
   ]
  },
  {
   "cell_type": "code",
   "execution_count": null,
   "metadata": {},
   "outputs": [],
   "source": [
    "def make_bmi(height_inch, weight_pound):\n",
    "    METER_TO_INCH, KILO_TO_POUND = 39.37, 2.20462\n",
    "    return (weight_pound / KILO_TO_POUND) / \\\n",
    "           (height_inch / METER_TO_INCH) ** 2"
   ]
  },
  {
   "cell_type": "markdown",
   "metadata": {},
   "source": [
    "### Задание  2\n",
    "\n",
    "Примените функцию make_bmi"
   ]
  },
  {
   "cell_type": "code",
   "execution_count": null,
   "metadata": {},
   "outputs": [],
   "source": [
    "data['BMI'] = data.apply(lambda row: make_bmi(row['Height'], \n",
    "                                              row['Weight']), axis=1)"
   ]
  },
  {
   "cell_type": "markdown",
   "metadata": {},
   "source": [
    "Постройте картинку, на которой будут отображены попарные зависимости признаков ,\n",
    "'Height', \n",
    "'Weight' и \n",
    "'BMI' друг от друга. Используйте метод pairplot библиотеки Seaborn."
   ]
  },
  {
   "cell_type": "code",
   "execution_count": null,
   "metadata": {},
   "outputs": [],
   "source": [
    "# Ваш код здесь"
   ]
  },
  {
   "cell_type": "markdown",
   "metadata": {},
   "source": [
    "### Задание  3\n",
    "Создайте в DataFrame data новый признак weight_category, который будет иметь 3 значения: 1 – если вес меньше 120 фунтов. (~ 54 кг.), 3 - если вес больше или равен 150 фунтов (~68 кг.), 2 – в остальных случаях."
   ]
  },
  {
   "cell_type": "code",
   "execution_count": null,
   "metadata": {},
   "outputs": [],
   "source": [
    "# Ваш код здесь\n",
    "def weight_category(weight):\n",
    "    pass"
   ]
  },
  {
   "cell_type": "code",
   "execution_count": null,
   "metadata": {},
   "outputs": [],
   "source": [
    "data['weight_cat'] = # Ваш код здесь"
   ]
  },
  {
   "cell_type": "markdown",
   "metadata": {},
   "source": [
    "Посмотрите как удобно можно анализировать категориальные признаки:"
   ]
  },
  {
   "cell_type": "code",
   "execution_count": null,
   "metadata": {},
   "outputs": [],
   "source": [
    "data['weight_cat'].value_counts()"
   ]
  },
  {
   "cell_type": "markdown",
   "metadata": {},
   "source": [
    "Постройте scatter plot зависимости роста от веса, используя метод plot для Pandas DataFrame с аргументом kind='scatter'. Подпишите картинку."
   ]
  },
  {
   "cell_type": "code",
   "execution_count": null,
   "metadata": {},
   "outputs": [],
   "source": [
    "# Ваш plot здесь"
   ]
  },
  {
   "cell_type": "markdown",
   "metadata": {},
   "source": [
    "## Минимизация среднеквадратичной ошибки"
   ]
  },
  {
   "cell_type": "markdown",
   "metadata": {},
   "source": [
    "Надеюсь, что вы уже знаете, что же такое линейная регрессия и как она решается.\n",
    "В простейшей постановке задача прогноза значения вещественного признака по прочим признакам  решается минимизацией квадратичной функции ошибки. Это довольна простая задача. \n",
    "Сейчас мне хотелось бы скорее показать, что вообще происходит в регресси. Так что если будет совсем не понятно, то пишите, добавлю код или разъеснения. "
   ]
  },
  {
   "cell_type": "markdown",
   "metadata": {},
   "source": [
    "Немного разъеснения с картинками, чтобы удостовериться, что вы понимаете о чем речь.\n",
    "\n",
    "$y = \\beta_0 + \\beta_1 * x$:\n",
    "\n",
    "\n",
    "Коэффициенты оцениваются с использованием критерия наименьших квадратов, что означает, что мы минимизируем сумму квадратов остатков (или «сумма квадратов ошибок»):\n",
    "\n",
    "<img src=\"img/mse.png\" alt=\"\" style=\"width: 600px;\"/>\n",
    "Ответим на важный вопрос: какие элементы присутствуют на диаграмме?\n",
    "\n",
    "* Черными точками являются наблюдаемые значения x и y.\n",
    "* Синяя линия - наша линия наименьших квадратов.\n",
    "* Красные линии - это остатки, которые являются расстояниями между наблюдаемыми значениями и линией наименьших квадратов\n",
    "Как коэффициенты модели связаны с линией наименьших квадратов?\n",
    "$ \\beta_0 $ - это сдвиг (значение $ y $ при $ x $ = 0)\n",
    "$ \\beta_1 $ - наклон (изменение в $ y $, деленное на изменение в $ x $)\n",
    "\n",
    "<img src=\"img/lr.png\" alt=\"\" style=\"width: 600px;\"/>\n"
   ]
  },
  {
   "cell_type": "markdown",
   "metadata": {},
   "source": [
    "### Задача * (Посмотреть ее нужно всем)\n",
    "\n",
    "Попробуйте написать функцию, которая по двум параметрам $w_0$ и $w_1$ вычисляет квадратичную ошибку приближения зависимости роста $y$ от веса $x$ прямой линией $y = w_0 + w_1 * x$:\n",
    "$$error(w_0, w_1) = \\sum_{i=1}^n {(y_i - (w_0 + w_1 * x_i))}^2 $$\n",
    "Здесь $n$ – число наблюдений в наборе данных, $y_i$ и $x_i$ – рост и вес $i$-ого человека в наборе данных. "
   ]
  },
  {
   "cell_type": "code",
   "execution_count": null,
   "metadata": {},
   "outputs": [],
   "source": [
    "def error(w0, w1):\n",
    "    # Ваш код здесь\n",
    "    pass"
   ]
  },
  {
   "cell_type": "markdown",
   "metadata": {},
   "source": [
    "Итак, мы решаем задачу: как через облако точек, соответсвующих наблюдениям в нашем наборе данных, в пространстве признаков \"Рост\" и \"Вес\" провести прямую линию так, чтобы минимизировать функционал( указанный выше\n",
    "error($w_0$, $w_1$). Для начала давайте отобразим хоть какие-то прямые и убедимся, что они плохо передают зависимость роста от веса."
   ]
  },
  {
   "cell_type": "code",
   "execution_count": 2,
   "metadata": {},
   "outputs": [
    {
     "data": {
      "text/plain": [
       "<matplotlib.legend.Legend at 0x110244fd0>"
      ]
     },
     "execution_count": 2,
     "metadata": {},
     "output_type": "execute_result"
    },
    {
     "data": {
      "image/png": "[encoded data removed]",
      "text/plain": [
       "<matplotlib.figure.Figure at 0x11026cf98>"
      ]
     },
     "metadata": {},
     "output_type": "display_data"
    }
   ],
   "source": [
    "x=np.array(data['Weight'])\n",
    "w0,w1=60,0.05\n",
    "y1 = [w0+t*w1 for t in x]\n",
    "\n",
    "data.plot(y='Height',x='Weight', kind='scatter', \n",
    "           color='blue',  title='Height (Weight) depending')\n",
    "\n",
    "plt.plot(x, y1, color=\"red\", label=\"line1\")\n",
    "plt.grid(True)\n",
    "plt.legend(loc='upper left')"
   ]
  },
  {
   "cell_type": "markdown",
   "metadata": {},
   "source": [
    "### Задание\n",
    "\n",
    "Добавьте на график еще одну пряму с другим весом зеленого цвета."
   ]
  },
  {
   "cell_type": "code",
   "execution_count": null,
   "metadata": {},
   "outputs": [],
   "source": [
    "# Ваш код здесь"
   ]
  },
  {
   "cell_type": "markdown",
   "metadata": {},
   "source": [
    "Минимизация квадратичной функции ошибки - относительная простая задача, поскольку функция выпуклая. Для такой задачи существует много методов оптимизации. Посмотрим, как функция ошибки зависит от одного параметра (наклон прямой), если второй параметр (свободный член) зафиксировать."
   ]
  },
  {
   "cell_type": "markdown",
   "metadata": {},
   "source": [
    "Посмотрим график зависимости функции потерь\n"
   ]
  },
  {
   "cell_type": "code",
   "execution_count": 2,
   "metadata": {},
   "outputs": [
    {
     "data": {
      "text/plain": [
       "<matplotlib.legend.Legend at 0x10ff901d0>"
      ]
     },
     "execution_count": 2,
     "metadata": {},
     "output_type": "execute_result"
    },
    {
     "data": {
      "image/png": "[encoded data removed]",
      "text/plain": [
       "<matplotlib.figure.Figure at 0x10f909e48>"
      ]
     },
     "metadata": {},
     "output_type": "display_data"
    }
   ],
   "source": [
    "w0=50.\n",
    "w = np.arange(-0.5, 0.8, 0.1)\n",
    "\n",
    "err = [error(w0,w1) for w1 in w]\n",
    "plt.title('Error')\n",
    "plt.xlabel('w1 ')\n",
    "plt.ylabel('error(50,w1)')\n",
    "\n",
    "plt.plot(w, err, color=\"red\", label=\"function of error\")\n",
    "plt.legend()"
   ]
  },
  {
   "cell_type": "markdown",
   "metadata": {},
   "source": [
    "Видно, что у нас есть явный минимум функции. Попробуем найти такое значение w1, чтобы error была наименьешей"
   ]
  },
  {
   "cell_type": "markdown",
   "metadata": {},
   "source": [
    "Используем немного магии и оптимизации, чтобы получить желаемый вес $w_1$ в диапазоне [-5,5]."
   ]
  },
  {
   "cell_type": "code",
   "execution_count": 2,
   "metadata": {},
   "outputs": [
    {
     "name": "stdout",
     "output_type": "stream",
     "text": [
      "0.141091651151 79510.63244\n"
     ]
    }
   ],
   "source": [
    "import scipy\n",
    "from scipy.optimize import minimize_scalar\n",
    "\n",
    "def error_wrap(w1):\n",
    "    return error(50,w1)\n",
    "\n",
    "min=minimize_scalar(error_wrap, bounds=(-5,5), method='bounded')\n",
    "w1_opt=min.x\n",
    "print(min.x, min.fun)"
   ]
  },
  {
   "cell_type": "markdown",
   "metadata": {},
   "source": [
    "Теперь когда у нас есть наше оптимальное значение веса, мы можем пострить регрессию роста в зависимости от веса. То есть для определенных значений веса мы можем прежсказать рост ( на данном промежутке). Это если кто не понял, что тут вообще происходит."
   ]
  },
  {
   "cell_type": "code",
   "execution_count": 2,
   "metadata": {},
   "outputs": [
    {
     "data": {
      "text/plain": [
       "<matplotlib.legend.Legend at 0x1102546d8>"
      ]
     },
     "execution_count": 2,
     "metadata": {},
     "output_type": "execute_result"
    },
    {
     "data": {
      "image/png": "[encoded data removed]",
      "text/plain": [
       "<matplotlib.figure.Figure at 0x11083ef60>"
      ]
     },
     "metadata": {},
     "output_type": "display_data"
    }
   ],
   "source": [
    "x=np.array(data['Weight'])\n",
    "\n",
    "w0,w1=50,w1_opt\n",
    "y = [w0+t*w1 for t in x]\n",
    "\n",
    "data.plot(y='Height',x='Weight', kind='scatter', \n",
    "           color='blue',  title='Height (Weight) depending')\n",
    "\n",
    "plt.plot(x, y, color=\"red\", label=\"lineOptimum\")\n",
    "\n",
    "plt.grid(True)\n",
    "plt.legend(loc='upper left')"
   ]
  },
  {
   "cell_type": "markdown",
   "metadata": {},
   "source": [
    "Если вы руками написали функционал ошибок и получили такие же графики как и у нас, то вы правильно сделали звездочку. Данное задание было направлено на понимание данных и восприятие линейной регресси. Это понадобится на следующей лекции, где уже будут представлены нейронные сети."
   ]
  },
  {
   "cell_type": "markdown",
   "metadata": {},
   "source": [
    "По всем вопросам : [```t.khakhulin@gmail.com```](mailto:t.khakhulin@gmail.com) или в телеграме [t.me/vitaminotar](https://t.me/vitaminotar)"
   ]
  },
  {
   "cell_type": "markdown",
   "metadata": {},
   "source": [
    "#### Дополнительное чтение\n",
    "\n",
    "Все же в данном занятии линейная регрессия была раскрыта довольно поверхностно. Для ознакомления рекомендую [статью](https://habrahabr.ru/company/ods/blog/323890/) из блога ods."
   ]
  }
 ],
 "metadata": {
  "kernelspec": {
   "display_name": "Python 3",
   "language": "python",
   "name": "python3"
  },
  "language_info": {
   "codemirror_mode": {
    "name": "ipython",
    "version": 3
   },
   "file_extension": ".py",
   "mimetype": "text/x-python",
   "name": "python",
   "nbconvert_exporter": "python",
   "pygments_lexer": "ipython3",
   "version": "3.6.3"
  }
 },
 "nbformat": 4,
 "nbformat_minor": 2
}
