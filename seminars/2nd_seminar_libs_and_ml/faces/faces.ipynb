{
 "cells": [
  {
   "cell_type": "markdown",
   "metadata": {},
   "source": [
    "# Школа глубокого обучения\n",
    "\n",
    "<a href=\"https://mipt.ru/science/labs/laboratoriya-neyronnykh-sistem-i-glubokogo-obucheniya/\"><img align=\"right\" src=\"https://avatars1.githubusercontent.com/u/29918795?v=4&s=200\" alt=\"DeepHackLab\" style=\"position:relative;top:-40px;right:10px;height:100px;\" /></a>\n",
    "\n",
    "\n",
    "\n",
    "### Физтех-Школа Прикладной математики и информатики МФТИ \n",
    "### Лаборатория нейронных сетей и глубокого обучения (DeepHackLab)"
   ]
  },
  {
   "cell_type": "markdown",
   "metadata": {},
   "source": [
    "## Домашнее задание 2\n",
    "*Щелчков Дмитрий (@demikandr в telegram) *\n",
    "### Классификация лиц методом ближайших соседей "
   ]
  },
  {
   "cell_type": "code",
   "execution_count": null,
   "metadata": {
    "collapsed": true
   },
   "outputs": [],
   "source": [
    "import numpy as np\n",
    "from matplotlib import pyplot as plt\n",
    "\n",
    "%matplotlib inline"
   ]
  },
  {
   "cell_type": "markdown",
   "metadata": {},
   "source": [
    "В этом задании вы обучите очень простую модель для распознавания лиц. С точки зрения машинного обучения это будет задача многоклассовой классификации -- для каждого объекта надо определить к какому классу он принадлежит (чье лицо на фотографии). В качестве метрики качества будем использовать accuracy - долю верно опознанных лиц (верно определенных классов).\n",
    "\n",
    "В процессе вам потребуется ответить на несколько вопросов и заполнить отчет о проведенных экспериментах. Отчет должен содержать описание того, что вы сделали, и результаты, которые вы получили. Пример: \"Я начинал делать домашку за 10,7, 5, 3, 1 и -1 день от дедлайна. Я обнаружил, что максимальная оценка достигается, если начинать делать домашку хотя бы за 5 дней до дедлайна.\"\n",
    "\n",
    "### Загрузим данные"
   ]
  },
  {
   "cell_type": "code",
   "execution_count": null,
   "metadata": {},
   "outputs": [],
   "source": [
    "import scipy.io\n",
    "\n",
    "image_h, image_w = 32, 32\n",
    "\n",
    "data = scipy.io.loadmat('faces_data.mat')\n",
    "\n",
    "# data - это словарь из четырех матриц: train_faces, train_labels, test_faces, test_labels\n",
    "#\n",
    "# Каждый столбец матрицы train_faces является транспонированной картинкой преобразованной\n",
    "# в одномерный столбец. Получим из этого массив картинок.\n",
    "# \n",
    "# Каждый элемент массива train_labels - это номер класса соответствующего изображения, где\n",
    "# классы пронумернованы от 1 до 40. Как правило, удобнее нумеровать классы начиная с нуля.\n",
    "\n",
    "X_train = data['train_faces'].reshape((image_w, image_h, -1)).transpose((2, 1, 0))\n",
    "y_train = (data['train_labels'] - 1).reshape((-1,))\n",
    "X_test = # Ваш код здесь\n",
    "y_test = # Ваш код здесь\n",
    "\n",
    "n_features = X_train.shape[1]\n",
    "n_train = len(y_train)\n",
    "n_test = len(y_test)\n",
    "n_classes = len(np.unique(y_train))\n",
    "\n",
    "print('Dataset loaded.')\n",
    "print('  Image size        : {}x{}'.format(image_h, image_w))\n",
    "print('  Train images      : {}'.format(n_train))\n",
    "print('  Test images       : {}'.format(n_test))\n",
    "print('  Number of classes : {}'.format(n_classes))"
   ]
  },
  {
   "cell_type": "markdown",
   "metadata": {},
   "source": [
    "Посмотрим на лица."
   ]
  },
  {
   "cell_type": "code",
   "execution_count": null,
   "metadata": {},
   "outputs": [],
   "source": [
    "plt.figure()\n",
    "plt.imshow(X_train[0], cmap=plt.cm.gray)\n",
    "plt.xticks(()) # Удаляет метки на оси Ox\n",
    "plt.yticks(()) # Удаляет метки на оси Oy\n",
    "plt.show()"
   ]
  },
  {
   "cell_type": "markdown",
   "metadata": {},
   "source": [
    "Чтобы не выводить лица каждый раз голыми руками напишем вспомогательную функцию."
   ]
  },
  {
   "cell_type": "code",
   "execution_count": null,
   "metadata": {
    "collapsed": true
   },
   "outputs": [],
   "source": [
    "def plot_gallery(images, titles, h, w, n_row=3, n_col=6):\n",
    "    \"\"\"Вспомогательная функция для отрисовки лиц\"\"\"\n",
    "    plt.figure(figsize=(1.5 * n_col, 1.7 * n_row))\n",
    "    plt.subplots_adjust(bottom=0, left=.01, right=.99, top=.90, hspace=.35)\n",
    "    for i in range(n_row * n_col):\n",
    "        plt.subplot(n_row, n_col, i + 1)\n",
    "        plt.imshow(images[i].reshape((h, w)), cmap=plt.cm.gray, interpolation='nearest')\n",
    "        plt.title(titles[i], size=12)\n",
    "        plt.xticks(())\n",
    "        plt.yticks(())"
   ]
  },
  {
   "cell_type": "code",
   "execution_count": null,
   "metadata": {},
   "outputs": [],
   "source": [
    "titles = [str(y) for y in y_train]\n",
    "\n",
    "plot_gallery(X_train, titles, image_h, image_w)"
   ]
  },
  {
   "cell_type": "markdown",
   "metadata": {},
   "source": [
    "## Привыкаем к пространствам большой размерности\n",
    "\n",
    "Точка/вектор (это два эквивалентных термина) в N-мерном пространстве - это набор из N чисел. Так (1, 2, 0.3, -4, 0) - это вектор пятимерного пространства.\n",
    "\n",
    "Расстояние между точками X и Y равно $\\sqrt{\\sum_i (x_i - y_i)^2}$.\n",
    "\n",
    "Легко заметить, что в двухмерном случае мы получаем знакомую вам из геометрии точку и расстояние между точками. Вектора можно поэлементно складывать и вычитать -- точно так же как в двухмерном случае. Если вы изучаете какой-то алгоритм аппелирующий к геометрии, то можете представлять себе все происходящее в 2-х/3-х мерном случае, а потом говорить \"в N-мерном случае всё будет аналогично\". Все так делают."
   ]
  },
  {
   "cell_type": "markdown",
   "metadata": {},
   "source": [
    "## К ближайших соседей (K nearest neighbors)\n",
    "\n",
    "Идея алгоритмов \"ближайших соседей\" проста - если понятие расстояния между примерами введено достаточно удачно (это может быть евклидово расстнояние между точками, определенное выше, угол между векторами, итд), то близкие в смысле этого расстояния примеры чаще лежат в одном классе, чем в разных. Классификация каждого объекта происходит следующим образом:\n",
    "\n",
    "1) Вычисляется расстояние до каждого из объектов обучающей выборки\n",
    "\n",
    "2) Отобраются k объектов обучающей выборки, расстояние до которых минимально\n",
    "\n",
    "3) Класс классифицируемого объекта — это класс, наиболее часто встречающийся среди k ближайших соседей\n",
    "\n",
    "Например, объект на рисунке ниже будет отнесен к оранжевому классу.\n",
    "\n",
    "<img src=\"files/screenshot.gif\">\n",
    "\n",
    "Посмотрим на результат применения KNN к искуственно сгенерированной выборке."
   ]
  },
  {
   "cell_type": "code",
   "execution_count": null,
   "metadata": {},
   "outputs": [],
   "source": [
    "from sklearn.datasets import make_circles\n",
    "X, y = make_circles(n_samples=200, noise=0.1, factor=0.6)\n",
    "\n",
    "plt.figure(figsize=(5, 5))\n",
    "plt.scatter(*X.T, c=y, cmap=plt.cm.brg)\n",
    "plt.show()"
   ]
  },
  {
   "cell_type": "markdown",
   "metadata": {},
   "source": [
    "Мы воспользуемся готовой реализацией классификатора KNN из библиотеки sklearn, которая содержит множество различных алгоритмов машинного обучения и метрик."
   ]
  },
  {
   "cell_type": "code",
   "execution_count": null,
   "metadata": {},
   "outputs": [],
   "source": [
    "from sklearn.neighbors import KNeighborsClassifier\n",
    "\n",
    "knn = KNeighborsClassifier(n_neighbors=3)\n",
    "knn.fit(X, y)\n",
    "\n",
    "print('Mean accuracy: ', knn.score(X, y)) # accuracy - это процент правильно классифицированных объектов.\n",
    "\n",
    "xx, yy = np.meshgrid(np.linspace(-1.5, 1.5, 100), np.linspace(-1.5, 1.5, 100))\n",
    "Z = knn.predict(np.c_[xx.ravel(), yy.ravel()])\n",
    "Z = Z.reshape(xx.shape)\n",
    "plt.figure(figsize=(5, 5))\n",
    "plt.contourf(xx, yy, Z, cmap=plt.cm.Spectral)\n",
    "plt.scatter(*X.T, c=y, cmap=plt.cm.brg)\n",
    "plt.show()"
   ]
  },
  {
   "cell_type": "markdown",
   "metadata": {},
   "source": [
    "### Вопрос: даст ли линейная регрессия хороший результат на сгенерированных выше данных? Почему?\n",
    "\n",
    "*Ответ:*\n",
    "\n",
    "### Вопрос: в каких случаях KNN будет работать плохо?\n",
    "\n",
    "*Ответ:*"
   ]
  },
  {
   "cell_type": "markdown",
   "metadata": {},
   "source": [
    "____________________________________________________________________________________________________________\n",
    "\n",
    "### Применим KNN к нашей задаче\n",
    "\n",
    "В данной задаче объектами будут лица, а их признаками - вектор пикселей. Будем использовать обычную евклидову метрику: расстояние между изображениями $X$ и $Y$ равно $\\sqrt{\\sum_{i,j} (X_{i,j}-Y_{i,j})^2}$.\n",
    "\n",
    "Обучите KNN с дефолтными параметрами и посчитайте процент правильно распознанных лиц на тестовой выборке."
   ]
  },
  {
   "cell_type": "code",
   "execution_count": null,
   "metadata": {},
   "outputs": [],
   "source": [
    "X_train_matrix = X_train.reshape((-1, image_h * image_w))\n",
    "\n",
    "# Ваш код здесь\n",
    "\n",
    "print('Test score: {}'.format(test_score))"
   ]
  },
  {
   "cell_type": "markdown",
   "metadata": {},
   "source": [
    "Поэкспериментируйте и опишите свои результаты. \n",
    "Идеи для дальнейших экспериментов:\n",
    "\n",
    "1) Попробуйте найти оптимальный параметр количества ближайших соседей.\n",
    "\n",
    "2) Посмотрите вляет ли разрешение изображения на качество классификации. Для изменения разрешения изображения можно воспользоваться функцией scipy.misc.imresize.\n",
    "\n",
    "3*) Проведите те же самые эксперименты для линейной регрессии. Работает ли это лучше/хуже KNN? Почему?"
   ]
  },
  {
   "cell_type": "code",
   "execution_count": null,
   "metadata": {
    "collapsed": true
   },
   "outputs": [],
   "source": [
    "# Ваш код здесь"
   ]
  },
  {
   "cell_type": "markdown",
   "metadata": {},
   "source": [
    "### Отчет:\n"
   ]
  }
 ],
 "metadata": {
  "kernelspec": {
   "display_name": "Python 3",
   "language": "python",
   "name": "python3"
  },
  "language_info": {
   "codemirror_mode": {
    "name": "ipython",
    "version": 3
   },
   "file_extension": ".py",
   "mimetype": "text/x-python",
   "name": "python",
   "nbconvert_exporter": "python",
   "pygments_lexer": "ipython3",
   "version": "3.6.2"
  }
 },
 "nbformat": 4,
 "nbformat_minor": 2
}
