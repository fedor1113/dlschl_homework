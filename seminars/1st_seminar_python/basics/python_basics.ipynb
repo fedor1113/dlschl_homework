{
 "cells": [
  {
   "cell_type": "markdown",
   "metadata": {},
   "source": [
    "# Школа глубокого обучения\n",
    "\n",
    "<a href=\"https://mipt.ru/science/labs/laboratoriya-neyronnykh-sistem-i-glubokogo-obucheniya/\"><img align=\"right\" src=\"https://avatars1.githubusercontent.com/u/29918795?v=4&s=200\" alt=\"DeepHackLab\" style=\"position:relative;top:-40px;right:10px;height:100px;\" /></a>\n",
    "\n",
    "\n",
    "\n",
    "### Физтех-Школа Прикладной математики и информатики МФТИ \n",
    "### Лаборатория нейронных сетей и глубокого обучения (DeepHackLab)"
   ]
  },
  {
   "cell_type": "markdown",
   "metadata": {},
   "source": [
    "## Занятие 1. Python и Jupyter Notebook"
   ]
  },
  {
   "cell_type": "markdown",
   "metadata": {},
   "source": [
    "*Захаркин Илья (ФИВТ 3 курс)*"
   ]
  },
  {
   "cell_type": "markdown",
   "metadata": {},
   "source": [
    "<img align=left src=\"https://cdn.fedoramagazine.org/wp-content/uploads/2015/11/Python_logo.png\" style=\"height:160px;\" />\n",
    "\n",
    "<img align=center src=\"https://1.bp.blogspot.com/-16utHnlB3Ao/V4tpG8NBX0I/AAAAAAAAA7M/vDQ1p40JpE8M34eCr-UdriSV04Dn8au7QCLcB/s1600/jupyter-logo.png\" style=\"height:90px;\" />"
   ]
  },
  {
   "cell_type": "markdown",
   "metadata": {},
   "source": [
    "---"
   ]
  },
  {
   "cell_type": "markdown",
   "metadata": {},
   "source": [
    "**Приветствуем Вас в Школе Глубокого Обучения от Физтех-Школы ПМИ МФТИ!**  \n",
    "\n",
    "Перед тем как начать складывать уровни нейросеточек как блинчики, нужно быть хорошо знакомым с библиотеками глубокого обучения и языком, на котором они написаны. \n",
    "В нашем курсе мы будем использовать язык **Python**, так как он является оптимальным сочетанием простоты, силы и количества библиотек глубокого обучения, написанных для него. "
   ]
  },
  {
   "cell_type": "markdown",
   "metadata": {},
   "source": [
    "На этом занятии мы научимся:  \n",
    "\n",
    "- Установить интерактивную среду разработки на Python - Jupyter Notebook и разобраться, как в ней работать\n",
    "- Установить сам Python\n",
    "- Научиться (или освежить память) писать программы на Python, изучив его основы\n",
    "- Научиться писать производительный код с помощью библиотеки NumPy\n",
    "- Научиться строить графики с помощью библиотеки Matplotlib"
   ]
  },
  {
   "cell_type": "markdown",
   "metadata": {},
   "source": [
    "## Установка Jupyter\n",
    "\n",
    "Инструкция по установке Jupyter Notebook: http://jupyter.readthedocs.org/en/latest/install.html\n",
    "\n",
    "После установки запуск осуществляется командой в консоли:  \n",
    "\n",
    "`jupyter notebook`\n",
    "\n",
    "Через несколько секунд должна открыться страница в браузере со списком файлов директории, в котороый была запущена команда (можно не ждать и самим перейти по http://localhost:8888/ - обычно там располагается локальный \"сервер\" Jupyter Notebook`а)."
   ]
  },
  {
   "cell_type": "markdown",
   "metadata": {},
   "source": [
    "## Онлайн Jupyter Notebook\n",
    "\n",
    "Можно ничего не устанавливать и работать с сайтом https://try.jupyter.org/\n",
    "\n",
    "На сайте можно создать новый файл `(New -> Python 2/3)` или загрузить файл с компьютера с помощью `Upload`.\n",
    "\n",
    "Будьте внимательны!\n",
    "<b>Сайт не сохраняет ваши файлы</b> и удаляет их после закрытия страницы.\n",
    "Чтобы загрузить файл себе откройте его нажмите `File -> Download as -> ipynb`.\n",
    "\n",
    "Можно так же пользоваться сайтом https://cloud.sagemath.com/."
   ]
  },
  {
   "cell_type": "markdown",
   "metadata": {},
   "source": [
    "# Работа с Python в Jupyter Notebook\n",
    "\n",
    "Чтобы создать новый файл, кликните New -> Python.\n",
    "\n",
    "Ноутбук состоит из ячеек (cells), которые бывают текстовыми (Markdown) и кодовыми (Code).\n",
    "Выбрать тип ячейки можно на панели управления.\n",
    "\n",
    "Работа с ячейками:\n",
    "<ul>\n",
    "    <li> Выбор ячейки — нажмите на нее мышкой.</li>\n",
    "    <li> Редактирование — нажмите на нее два раза.</li>\n",
    "    <li> Запуск ячейки — `SHIFT+ENTER` или нажмите на кнопку <button class='fa fa-play icon-play btn btn-xs btn-default'></button> на панеле.</li>\n",
    "    <li> Добавление новой ячейки — нажмите на кнопку <button class='fa fa-plus icon-plus btn btn-xs btn-default'></button> на панеле.</li>\n",
    "    <li> Удаление ячейки — нажмите на кнопку <button class='fa fa-cut icon-cut btn btn-xs btn-default'></button> на панеле.</li>\n",
    "    <li> Перемещение ячейки — нажмите на вертикальные стрелки.</li>\n",
    "</ul>"
   ]
  },
  {
   "cell_type": "markdown",
   "metadata": {},
   "source": [
    "Текстовые ячейки содержат в себе обычный текст, который может включать в себя формулы $\\LaTeX$ и `html`-команды:  \n",
    "\n",
    "$$f(x) = \\frac{1}{x}$$  \n",
    "\n",
    "$\\LaTeX$ cheat sheet -  https://wch.github.io/latexsheet/"
   ]
  },
  {
   "cell_type": "markdown",
   "metadata": {},
   "source": [
    "## Основы Python"
   ]
  },
  {
   "cell_type": "markdown",
   "metadata": {},
   "source": [
    "Сейчас существуют две часто используемые версии Питона — **Python 2** и **Python 3**. Эти версии довольно похожи, но есть отличия, из-за которых они **не являются совместимыми** - программы, написанные на одной версии языка, могут не работать в другой.  \n",
    "\n",
    "В нашем курсе мы будем писать на **Python 3**. Точная версия не принципиальна, но она должна быть >= 3.5  \n",
    "\n",
    "Если Вы пользуетесь каким-либо из дистрибутивов Linux, то Python скорее всего уже установлен.\n",
    "Попробуйте в терминале следующие команды для запуска интерактивного режима работы:\n",
    "\n",
    "`python` или `python3` или `python2`\n",
    "\n",
    "Выход: `Ctrl+D`\n",
    "\n",
    "Режим работы, в котором выполнится код из файла main.py\n",
    "\n",
    "`python main.py`\n",
    "\n",
    "Помощь: **`help(X)`**, где `X` — то, по чему нужна помощь.  \n",
    "Выход из помощи: `q`."
   ]
  },
  {
   "cell_type": "markdown",
   "metadata": {},
   "source": [
    "<img align=center src=\"http://images7.memedroid.com/images/UPLOADED973/596e4c96650e5.jpeg\" style=\"height:400px;\"/>"
   ]
  },
  {
   "cell_type": "markdown",
   "metadata": {},
   "source": [
    "## Общая информация о языке\n",
    "\n",
    "**Название** - **«Питон» или «Пайтон»** (в честь комедийных серий BBC «Летающий цирк Монти-Пайтона»)  \n",
    "**Создатель** - **голландец Гвидо ван Россум (Guido van Rossum)** (в 1991 году)  \n",
    "\n",
    "**Особенности**:  \n",
    "- интерпретируемый\n",
    "- объектно-ориентированный\n",
    "- высокоуровневый язык\n",
    "- встроенные высокоуровневые структуры данных\n",
    "- динамическая типизация\n",
    "- синтаксис прост в изучении\n",
    "- поддержка модулей и пакетов (большинство библиотек\n",
    "бесплатны)\n",
    "- универсальный\n",
    "- интеграция с другими языками (C (Cython), C++, Java (JPython))  \n",
    "\n",
    "**Стиль оформления кода** - **PEP8** (если Вы хороший человек).  \n",
    "\n",
    "*Самое главное из PEP8:*  \n",
    "- отступ – 4 пробела\n",
    "- длина строки < 80 символов\n",
    "- переменные: var_recommended\n",
    "- константы: CONST_RECOMMENDED"
   ]
  },
  {
   "cell_type": "code",
   "execution_count": null,
   "metadata": {
    "collapsed": true
   },
   "outputs": [],
   "source": [
    "import this"
   ]
  },
  {
   "cell_type": "markdown",
   "metadata": {},
   "source": [
    "## Типы"
   ]
  },
  {
   "cell_type": "markdown",
   "metadata": {},
   "source": [
    "**Все типы данных** в Python относятся к одной из **2-х категорий**: **изменяемые (mutable)** и **неизменяемые (immutable)**.   \n",
    "\n",
    "*Неизменяемые объекты*:  \n",
    "* числовые данные (int, float), \n",
    "* bool,\n",
    "* None,\n",
    "* символьные строки (class 'str'), \n",
    "* кортежи (tuple).  \n",
    "\n",
    "*Изменяемые объекты*:  \n",
    "* списки (list), \n",
    "* множества (set), \n",
    "* словари (dict).  \n",
    "\n",
    "Вновь определяемые пользователем типы (классы) могут быть определены как неизменяемые или изменяемые. Изменяемость объектов определённого типа является принципиально важной характеристикой, определяющей, может ли объект такого типа **выступать в качестве ключа для словарей (dict)** или нет."
   ]
  },
  {
   "cell_type": "markdown",
   "metadata": {},
   "source": [
    "### int"
   ]
  },
  {
   "cell_type": "code",
   "execution_count": null,
   "metadata": {
    "collapsed": true
   },
   "outputs": [],
   "source": [
    "x = 5\n",
    "\n",
    "print(x, '|', type(x))"
   ]
  },
  {
   "cell_type": "code",
   "execution_count": null,
   "metadata": {
    "collapsed": true
   },
   "outputs": [],
   "source": [
    "a = 4 + 5\n",
    "b = 4 * 5\n",
    "c = 5 // 4\n",
    "\n",
    "print(a, b, c)"
   ]
  },
  {
   "cell_type": "code",
   "execution_count": null,
   "metadata": {
    "collapsed": true
   },
   "outputs": [],
   "source": [
    "print( -(5 // 4) )"
   ]
  },
  {
   "cell_type": "code",
   "execution_count": null,
   "metadata": {
    "collapsed": true
   },
   "outputs": [],
   "source": [
    "print( -5 // 4 )"
   ]
  },
  {
   "cell_type": "code",
   "execution_count": null,
   "metadata": {
    "collapsed": true
   },
   "outputs": [],
   "source": [
    "x = 5 * 1000000000 * 1000000000 * 10**9 + 1\n",
    "print(x, '|', type(x))"
   ]
  },
  {
   "cell_type": "markdown",
   "metadata": {},
   "source": [
    "### float"
   ]
  },
  {
   "cell_type": "code",
   "execution_count": null,
   "metadata": {
    "collapsed": true
   },
   "outputs": [],
   "source": [
    "y = 12.345\n",
    "\n",
    "print(y, type(y))"
   ]
  },
  {
   "cell_type": "code",
   "execution_count": null,
   "metadata": {
    "collapsed": true
   },
   "outputs": [],
   "source": [
    "a = 4.2 + 5.1\n",
    "b = 4.2 * 5.1\n",
    "c = 5.0 / 4.0\n",
    "\n",
    "print(a, b, c)"
   ]
  },
  {
   "cell_type": "code",
   "execution_count": null,
   "metadata": {
    "collapsed": true
   },
   "outputs": [],
   "source": [
    "a = 5\n",
    "b = 4\n",
    "print(float(a) / float(b))"
   ]
  },
  {
   "cell_type": "code",
   "execution_count": null,
   "metadata": {
    "collapsed": true
   },
   "outputs": [],
   "source": [
    "print(a / b)"
   ]
  },
  {
   "cell_type": "markdown",
   "metadata": {},
   "source": [
    "### bool"
   ]
  },
  {
   "cell_type": "code",
   "execution_count": null,
   "metadata": {
    "collapsed": true
   },
   "outputs": [],
   "source": [
    "a = True\n",
    "b = False\n",
    "\n",
    "print(a, '|', type(a))\n",
    "\n",
    "print(b, '|', type(b))"
   ]
  },
  {
   "cell_type": "code",
   "execution_count": null,
   "metadata": {
    "collapsed": true
   },
   "outputs": [],
   "source": [
    "print(a + b)\n",
    "print(a + a)\n",
    "print(b + b)"
   ]
  },
  {
   "cell_type": "code",
   "execution_count": null,
   "metadata": {
    "collapsed": true
   },
   "outputs": [],
   "source": [
    "print(int(a), int(b))"
   ]
  },
  {
   "cell_type": "code",
   "execution_count": null,
   "metadata": {
    "collapsed": true
   },
   "outputs": [],
   "source": [
    "print(True and False, '\\n')\n",
    "\n",
    "print(True or True, '\\n')\n",
    "\n",
    "print(not False, '\\n')"
   ]
  },
  {
   "cell_type": "markdown",
   "metadata": {},
   "source": [
    "### None"
   ]
  },
  {
   "cell_type": "code",
   "execution_count": null,
   "metadata": {
    "collapsed": true
   },
   "outputs": [],
   "source": [
    "z = None\n",
    "print(z, '|', type(z))"
   ]
  },
  {
   "cell_type": "code",
   "execution_count": null,
   "metadata": {
    "collapsed": true
   },
   "outputs": [],
   "source": [
    "int(z)"
   ]
  },
  {
   "cell_type": "code",
   "execution_count": null,
   "metadata": {
    "collapsed": true
   },
   "outputs": [],
   "source": [
    "if z is None:\n",
    "    z = 'I am None!'\n",
    "z"
   ]
  },
  {
   "cell_type": "markdown",
   "metadata": {},
   "source": [
    "### str"
   ]
  },
  {
   "cell_type": "markdown",
   "metadata": {},
   "source": [
    "В *python2.7* есть отдельный тип **unicode**. В *python3.5 (и выше)* (который будем использовать мы) всё это включено в тип **str**."
   ]
  },
  {
   "cell_type": "code",
   "execution_count": null,
   "metadata": {
    "collapsed": true
   },
   "outputs": [],
   "source": [
    "x = \"abc\"\n",
    "y = 'xyz'\n",
    "print(x, '|', type(x))\n",
    "print(y, '|', type(y))"
   ]
  },
  {
   "cell_type": "code",
   "execution_count": null,
   "metadata": {
    "collapsed": true
   },
   "outputs": [],
   "source": [
    "a = 'Андрей'\n",
    "b = \"Михайлович\"\n",
    "s = a + \" \" + b\n",
    "print(s)"
   ]
  },
  {
   "cell_type": "code",
   "execution_count": null,
   "metadata": {
    "collapsed": true
   },
   "outputs": [],
   "source": [
    "print(a.upper())\n",
    "print(a.lower())"
   ]
  },
  {
   "cell_type": "code",
   "execution_count": null,
   "metadata": {
    "collapsed": true
   },
   "outputs": [],
   "source": [
    "print(len(a))"
   ]
  },
  {
   "cell_type": "code",
   "execution_count": null,
   "metadata": {
    "collapsed": true
   },
   "outputs": [],
   "source": [
    "print(bool(a))\n",
    "print(bool(\"\" + ''))"
   ]
  },
  {
   "cell_type": "code",
   "execution_count": null,
   "metadata": {
    "collapsed": true
   },
   "outputs": [],
   "source": [
    "print(a)\n",
    "print(a[0])\n",
    "print(a[1])\n",
    "print(a[0:3])"
   ]
  },
  {
   "cell_type": "code",
   "execution_count": null,
   "metadata": {
    "collapsed": true
   },
   "outputs": [],
   "source": [
    "print(a[0:4:2])"
   ]
  },
  {
   "cell_type": "code",
   "execution_count": null,
   "metadata": {
    "collapsed": true
   },
   "outputs": [],
   "source": [
    "x = 'Роберт Дауни Младший'\n",
    "print(x, type(x))\n",
    "y = x.encode('utf-8')\n",
    "print(y, type(y))\n",
    "z = y.decode('utf-8')\n",
    "print(z, type(z))\n",
    "q = y.decode('cp1251')\n",
    "print(q, type(q))"
   ]
  },
  {
   "cell_type": "markdown",
   "metadata": {},
   "source": [
    "### Метод `split()`:"
   ]
  },
  {
   "cell_type": "code",
   "execution_count": null,
   "metadata": {
    "collapsed": true
   },
   "outputs": [],
   "source": [
    "splitted_line = \"Райгородский Андрей Михайлович\".split(' ')\n",
    "print(splitted_line)"
   ]
  },
  {
   "cell_type": "markdown",
   "metadata": {},
   "source": [
    "### tuple"
   ]
  },
  {
   "cell_type": "code",
   "execution_count": null,
   "metadata": {
    "collapsed": true
   },
   "outputs": [],
   "source": [
    "t = ('a', 5, 12.345)\n",
    "t"
   ]
  },
  {
   "cell_type": "code",
   "execution_count": null,
   "metadata": {
    "collapsed": true
   },
   "outputs": [],
   "source": [
    "t.append(5)"
   ]
  },
  {
   "cell_type": "code",
   "execution_count": null,
   "metadata": {
    "collapsed": true
   },
   "outputs": [],
   "source": [
    "dir(t)"
   ]
  },
  {
   "cell_type": "code",
   "execution_count": null,
   "metadata": {
    "collapsed": true
   },
   "outputs": [],
   "source": [
    "t.index('a')"
   ]
  },
  {
   "cell_type": "code",
   "execution_count": null,
   "metadata": {
    "collapsed": true
   },
   "outputs": [],
   "source": [
    "t[2]"
   ]
  },
  {
   "cell_type": "code",
   "execution_count": null,
   "metadata": {
    "collapsed": true
   },
   "outputs": [],
   "source": [
    "m = (1, 2, 3)\n",
    "\n",
    "t + m"
   ]
  },
  {
   "cell_type": "code",
   "execution_count": null,
   "metadata": {
    "collapsed": true
   },
   "outputs": [],
   "source": [
    "t - m"
   ]
  },
  {
   "cell_type": "code",
   "execution_count": null,
   "metadata": {
    "collapsed": true
   },
   "outputs": [],
   "source": [
    "len(m)"
   ]
  },
  {
   "cell_type": "markdown",
   "metadata": {},
   "source": [
    "#### Поменять переменные местами"
   ]
  },
  {
   "cell_type": "code",
   "execution_count": null,
   "metadata": {
    "collapsed": true
   },
   "outputs": [],
   "source": [
    "a = -5\n",
    "b = 100\n",
    "\n",
    "a, b = b, a\n",
    "\n",
    "print('a:', a, '\\nb:', b)"
   ]
  },
  {
   "cell_type": "markdown",
   "metadata": {},
   "source": [
    "### Немного про встроенные функции"
   ]
  },
  {
   "cell_type": "markdown",
   "metadata": {},
   "source": [
    "В Python есть так называем **магические** (или служебные) методы - они начинаются и заканчиваются на двойное нижнее подчёркивание: \\__len\\__, \\__add\\__ ..."
   ]
  },
  {
   "cell_type": "code",
   "execution_count": null,
   "metadata": {
    "collapsed": true
   },
   "outputs": [],
   "source": [
    "__builtin__"
   ]
  },
  {
   "cell_type": "markdown",
   "metadata": {},
   "source": [
    "Также в Python есть **встроенные** функции и методы, которые являются в некотором смысле универсальными.  \n",
    "Функция `dir()` выводит список всех атрибутов (имён - методы, функции, классы..), которые есть у модуля/класса/объекта:"
   ]
  },
  {
   "cell_type": "markdown",
   "metadata": {},
   "source": [
    "Давайте посмотрим на встроенные и служебные имена Python (не все):"
   ]
  },
  {
   "cell_type": "code",
   "execution_count": null,
   "metadata": {
    "collapsed": true,
    "scrolled": true
   },
   "outputs": [],
   "source": [
    "dir(__builtin__)"
   ]
  },
  {
   "cell_type": "markdown",
   "metadata": {},
   "source": [
    "---\n",
    "### Задание 1\n",
    "\n",
    "Выведите список атрибутов класса Exception."
   ]
  },
  {
   "cell_type": "code",
   "execution_count": 6,
   "metadata": {},
   "outputs": [
    {
     "name": "stdout",
     "output_type": "stream",
     "text": [
      "['__cause__', '__class__', '__context__', '__delattr__', '__dict__', '__dir__', '__doc__', '__eq__', '__format__', '__ge__', '__getattribute__', '__gt__', '__hash__', '__init__', '__init_subclass__', '__le__', '__lt__', '__ne__', '__new__', '__reduce__', '__reduce_ex__', '__repr__', '__setattr__', '__setstate__', '__sizeof__', '__str__', '__subclasshook__', '__suppress_context__', '__traceback__', 'args', 'with_traceback']\n"
     ]
    }
   ],
   "source": [
    "# Ваш код здесь\n",
    "print(dir(Exception))"
   ]
  },
  {
   "cell_type": "markdown",
   "metadata": {},
   "source": [
    "---"
   ]
  },
  {
   "cell_type": "markdown",
   "metadata": {},
   "source": [
    "### Полезно"
   ]
  },
  {
   "cell_type": "markdown",
   "metadata": {},
   "source": [
    "- При вызове метода какого-то класса (или функции какого-то модуля) можно написать его имя и через точку нажать **tab**:  \n",
    "\n",
    "<имя\\_объекта\\_класса(модуля)>**.[tab]**  \n",
    "\n",
    "Тогда всплывёт меню, в котором можно выбрать из всех существующих в этом классе методов (функций модуля)."
   ]
  },
  {
   "cell_type": "code",
   "execution_count": null,
   "metadata": {
    "collapsed": true
   },
   "outputs": [],
   "source": [
    "__builtin__.help()"
   ]
  },
  {
   "cell_type": "markdown",
   "metadata": {},
   "source": [
    "- Получение быстрой справки (help()) для любого объекта Python:"
   ]
  },
  {
   "cell_type": "code",
   "execution_count": null,
   "metadata": {
    "collapsed": true
   },
   "outputs": [],
   "source": [
    "?__builtin__"
   ]
  },
  {
   "cell_type": "markdown",
   "metadata": {},
   "source": [
    "### Структуры данных и встроенные функции"
   ]
  },
  {
   "cell_type": "markdown",
   "metadata": {},
   "source": [
    "### list"
   ]
  },
  {
   "cell_type": "code",
   "execution_count": null,
   "metadata": {
    "collapsed": true
   },
   "outputs": [],
   "source": [
    "a = list()\n",
    "b = []\n",
    "\n",
    "print(a == b)"
   ]
  },
  {
   "cell_type": "code",
   "execution_count": null,
   "metadata": {
    "collapsed": true
   },
   "outputs": [],
   "source": [
    "my_list = ['string', 100, 5.678, None]\n",
    "my_list"
   ]
  },
  {
   "cell_type": "markdown",
   "metadata": {},
   "source": [
    "* `list(range(start, end[, step]))` - получить последовательность (список) целых чисел, начинающуюся со `start`, заканчивающуюся в `end-1` и шагом `step`"
   ]
  },
  {
   "cell_type": "code",
   "execution_count": null,
   "metadata": {
    "collapsed": true
   },
   "outputs": [],
   "source": [
    "array = range(1, 10, 2)\n",
    "print(array, '|', type(array))"
   ]
  },
  {
   "cell_type": "code",
   "execution_count": null,
   "metadata": {
    "collapsed": true
   },
   "outputs": [],
   "source": [
    "array = list(array)\n",
    "print(array, '|', type(array))"
   ]
  },
  {
   "cell_type": "code",
   "execution_count": null,
   "metadata": {
    "collapsed": true
   },
   "outputs": [],
   "source": [
    "array[1]"
   ]
  },
  {
   "cell_type": "code",
   "execution_count": null,
   "metadata": {
    "collapsed": true
   },
   "outputs": [],
   "source": [
    "array[-1]"
   ]
  },
  {
   "cell_type": "code",
   "execution_count": null,
   "metadata": {
    "collapsed": true
   },
   "outputs": [],
   "source": [
    "for i in range(5):\n",
    "    print(i)"
   ]
  },
  {
   "cell_type": "markdown",
   "metadata": {},
   "source": [
    "* Перевернуть список:"
   ]
  },
  {
   "cell_type": "code",
   "execution_count": null,
   "metadata": {
    "collapsed": true
   },
   "outputs": [],
   "source": [
    "array = array[::-1]\n",
    "array"
   ]
  },
  {
   "cell_type": "markdown",
   "metadata": {},
   "source": [
    "* Срезы (`slice`'s) - это объекты языка Python, позволяющие получить какую-то часть итерируемого объекта.  \n",
    "Пример:"
   ]
  },
  {
   "cell_type": "code",
   "execution_count": null,
   "metadata": {
    "collapsed": true
   },
   "outputs": [],
   "source": [
    "foo = list(range(10))\n",
    "foo"
   ]
  },
  {
   "cell_type": "code",
   "execution_count": null,
   "metadata": {
    "collapsed": true
   },
   "outputs": [],
   "source": [
    "foo[:5]"
   ]
  },
  {
   "cell_type": "code",
   "execution_count": null,
   "metadata": {
    "collapsed": true
   },
   "outputs": [],
   "source": [
    "foo[5:]"
   ]
  },
  {
   "cell_type": "code",
   "execution_count": null,
   "metadata": {
    "collapsed": true
   },
   "outputs": [],
   "source": [
    "foo[2:5]"
   ]
  },
  {
   "cell_type": "code",
   "execution_count": null,
   "metadata": {
    "collapsed": true
   },
   "outputs": [],
   "source": [
    "slice_2_5 = slice(2, 5)\n",
    "print(slice_2_5, '|', type(slice_2_5))"
   ]
  },
  {
   "cell_type": "code",
   "execution_count": null,
   "metadata": {
    "collapsed": true
   },
   "outputs": [],
   "source": [
    "foo[slice_2_5]"
   ]
  },
  {
   "cell_type": "markdown",
   "metadata": {},
   "source": [
    "* `S.join(iterable)` - возвращает строку, которая является конкатенацией строк из `iterable`. Разделитель между строками - строка `S`"
   ]
  },
  {
   "cell_type": "code",
   "execution_count": null,
   "metadata": {
    "collapsed": true
   },
   "outputs": [],
   "source": [
    "str_array = ['a', 'b', 'c', 'd', 'e']"
   ]
  },
  {
   "cell_type": "code",
   "execution_count": null,
   "metadata": {
    "collapsed": true
   },
   "outputs": [],
   "source": [
    "' '.join(str_array)"
   ]
  },
  {
   "cell_type": "code",
   "execution_count": null,
   "metadata": {
    "collapsed": true
   },
   "outputs": [],
   "source": [
    "'!_and_!'.join(str_array)"
   ]
  },
  {
   "cell_type": "markdown",
   "metadata": {},
   "source": [
    "* Списки можно \"склеивать\":"
   ]
  },
  {
   "cell_type": "code",
   "execution_count": null,
   "metadata": {
    "collapsed": true
   },
   "outputs": [],
   "source": [
    "a = [1, 2, 3]\n",
    "b = [4, 5, 6]\n",
    "\n",
    "print(a + b)"
   ]
  },
  {
   "cell_type": "markdown",
   "metadata": {},
   "source": [
    "### Методы класса list"
   ]
  },
  {
   "cell_type": "code",
   "execution_count": null,
   "metadata": {
    "collapsed": true,
    "scrolled": true
   },
   "outputs": [],
   "source": [
    "dir(list)"
   ]
  },
  {
   "cell_type": "markdown",
   "metadata": {},
   "source": [
    "* `L.append(element)` - добавляет элемент `element` в список `L`"
   ]
  },
  {
   "cell_type": "code",
   "execution_count": null,
   "metadata": {
    "collapsed": true
   },
   "outputs": [],
   "source": [
    "l = [4, 5, 1, 3, 2]\n",
    "\n",
    "l.append('BANG!')\n",
    "l"
   ]
  },
  {
   "cell_type": "markdown",
   "metadata": {},
   "source": [
    "* `sorted(iterable, key)` - возвращает объект, являющийся отсортированной в соответствии с компаратором (по ключу) `key` версией объекта `iterable`. **НЕ изменяет начальный объект!**"
   ]
  },
  {
   "cell_type": "code",
   "execution_count": null,
   "metadata": {
    "collapsed": true
   },
   "outputs": [],
   "source": [
    "print(sorted(l), '|', l)"
   ]
  },
  {
   "cell_type": "code",
   "execution_count": null,
   "metadata": {
    "collapsed": true
   },
   "outputs": [],
   "source": [
    "l.pop()"
   ]
  },
  {
   "cell_type": "code",
   "execution_count": null,
   "metadata": {
    "collapsed": true
   },
   "outputs": [],
   "source": [
    "print(sorted(l), '|', l)"
   ]
  },
  {
   "cell_type": "code",
   "execution_count": 3,
   "metadata": {
    "collapsed": true
   },
   "outputs": [],
   "source": [
    "def cmp(string):\n",
    "    return len(string)"
   ]
  },
  {
   "cell_type": "code",
   "execution_count": null,
   "metadata": {
    "collapsed": true
   },
   "outputs": [],
   "source": [
    "names = ['Александр', 'Василий', 'Анастасия', 'Соня', 'Френк', 'Оля']\n",
    "sorted(names, key=cmp)"
   ]
  },
  {
   "cell_type": "code",
   "execution_count": null,
   "metadata": {
    "collapsed": true
   },
   "outputs": [],
   "source": [
    "names = ['Александр', 'Василий', 'Анастасия', 'Соня', 'Френк', 'Оля']\n",
    "sorted(names, key=lambda x: len(x))"
   ]
  },
  {
   "cell_type": "code",
   "execution_count": null,
   "metadata": {
    "collapsed": true
   },
   "outputs": [],
   "source": [
    "names"
   ]
  },
  {
   "cell_type": "markdown",
   "metadata": {},
   "source": [
    "* `L.sort(key)` - сортирует лист L в соответствии с компаратором (по ключу) key. **Изменяет начальный объект!**"
   ]
  },
  {
   "cell_type": "code",
   "execution_count": null,
   "metadata": {
    "collapsed": true
   },
   "outputs": [],
   "source": [
    "l = [1, 2, 3, 4, 5]\n",
    "\n",
    "l.append('BANG!')\n",
    "l\n",
    "\n",
    "l.sort()"
   ]
  },
  {
   "cell_type": "code",
   "execution_count": null,
   "metadata": {
    "collapsed": true
   },
   "outputs": [],
   "source": [
    "l.pop()"
   ]
  },
  {
   "cell_type": "code",
   "execution_count": null,
   "metadata": {
    "collapsed": true
   },
   "outputs": [],
   "source": [
    "l"
   ]
  },
  {
   "cell_type": "code",
   "execution_count": null,
   "metadata": {
    "collapsed": true
   },
   "outputs": [],
   "source": [
    "l.sort(reverse=True)\n",
    "l"
   ]
  },
  {
   "cell_type": "markdown",
   "metadata": {},
   "source": [
    "* `L.count(element)` - возвращает количество вхождений элемента `element` в список `L`"
   ]
  },
  {
   "cell_type": "code",
   "execution_count": null,
   "metadata": {
    "collapsed": true
   },
   "outputs": [],
   "source": [
    "l.count(1)"
   ]
  },
  {
   "cell_type": "code",
   "execution_count": null,
   "metadata": {
    "collapsed": true
   },
   "outputs": [],
   "source": [
    "l.count('padabum')"
   ]
  },
  {
   "cell_type": "code",
   "execution_count": null,
   "metadata": {
    "collapsed": true
   },
   "outputs": [],
   "source": [
    "len(l)"
   ]
  },
  {
   "cell_type": "markdown",
   "metadata": {},
   "source": [
    "`L.index(element)` - возвращает индекс элемента `element` в списке `L`, если он там присутствует, `None` иначе"
   ]
  },
  {
   "cell_type": "code",
   "execution_count": null,
   "metadata": {
    "collapsed": true
   },
   "outputs": [],
   "source": [
    "l.index(3)"
   ]
  },
  {
   "cell_type": "markdown",
   "metadata": {},
   "source": [
    "---"
   ]
  },
  {
   "cell_type": "markdown",
   "metadata": {},
   "source": [
    "### Задание 2\n"
   ]
  },
  {
   "cell_type": "markdown",
   "metadata": {},
   "source": [
    "1. Создайте два списка одинаковых размеров из одинаковых элементов:  \n",
    "`items = [какие-то элементы]`  \n",
    "`shuffled_items = [эти же элементы, но расставленные в другом порядке]`  \n",
    "\n",
    "2. Отсортируйте список `items` в соответствие с ключом так, чтобы получился список `shuffled_items`"
   ]
  },
  {
   "cell_type": "code",
   "execution_count": 4,
   "metadata": {},
   "outputs": [
    {
     "name": "stdout",
     "output_type": "stream",
     "text": [
      "['potatoes', 'tomatoes', 'and... unicorns!', 'potatoes', 'tomatoes', 'and... unicorns!', 'potatoes', 'tomatoes', 'and... unicorns!', 'potatoes', 'tomatoes', 'and... unicorns!', 'potatoes', 'tomatoes', 'and... unicorns!', 'potatoes', 'tomatoes', 'and... unicorns!', 'potatoes', 'tomatoes', 'and... unicorns!']\n",
      "['and... unicorns!', 'and... unicorns!', 'and... unicorns!', 'and... unicorns!', 'and... unicorns!', 'and... unicorns!', 'and... unicorns!', 'potatoes', 'tomatoes', 'potatoes', 'tomatoes', 'potatoes', 'tomatoes', 'potatoes', 'tomatoes', 'potatoes', 'tomatoes', 'potatoes', 'tomatoes', 'potatoes', 'tomatoes']\n"
     ]
    }
   ],
   "source": [
    "# Ваш код здесь\n",
    "items = [\"potatoes\", \"tomatoes\", \"and... unicorns!\"]*7\n",
    "shuffled_items = list(sorted(items, key=lambda x: -(cmp(x))))\n",
    "\n",
    "print(items)\n",
    "print(shuffled_items)"
   ]
  },
  {
   "cell_type": "markdown",
   "metadata": {},
   "source": [
    "---"
   ]
  },
  {
   "cell_type": "markdown",
   "metadata": {},
   "source": [
    "### Циклы - for и while"
   ]
  },
  {
   "cell_type": "code",
   "execution_count": null,
   "metadata": {
    "collapsed": true
   },
   "outputs": [],
   "source": [
    "models = ['decision tree', 'linear model', 'svm', 'ensemble']\n",
    "\n",
    "for model in models:\n",
    "    print(model)"
   ]
  },
  {
   "cell_type": "code",
   "execution_count": null,
   "metadata": {
    "collapsed": true
   },
   "outputs": [],
   "source": [
    "x = 100\n",
    "\n",
    "while x > 50:\n",
    "    x -= 10\n",
    "    print(x)"
   ]
  },
  {
   "cell_type": "markdown",
   "metadata": {},
   "source": [
    "### enumerate, zip"
   ]
  },
  {
   "cell_type": "code",
   "execution_count": null,
   "metadata": {
    "collapsed": true
   },
   "outputs": [],
   "source": [
    "first = 'a b c d e f g'.split(' ')\n",
    "second = '1 2 3 4 5 6 7'.split(' ')\n",
    "\n",
    "zip(first, second)"
   ]
  },
  {
   "cell_type": "code",
   "execution_count": null,
   "metadata": {
    "collapsed": true
   },
   "outputs": [],
   "source": [
    "list(zip(first, second))"
   ]
  },
  {
   "cell_type": "code",
   "execution_count": null,
   "metadata": {
    "collapsed": true
   },
   "outputs": [],
   "source": [
    "methods = dir(__builtin__)\n",
    "\n",
    "for num, method in enumerate(methods):\n",
    "    if num % 5 == 0:\n",
    "        print(num, method)"
   ]
  },
  {
   "cell_type": "code",
   "execution_count": null,
   "metadata": {
    "collapsed": true
   },
   "outputs": [],
   "source": [
    "enum = enumerate(first)\n",
    "list(enum)"
   ]
  },
  {
   "cell_type": "code",
   "execution_count": null,
   "metadata": {
    "collapsed": true
   },
   "outputs": [],
   "source": [
    "enum = enumerate(first)\n",
    "zip_style = zip(range(0, len(first)), first)\n",
    "\n",
    "print(list(enum) == list(zip_style))"
   ]
  },
  {
   "cell_type": "markdown",
   "metadata": {},
   "source": [
    "---\n",
    "\n",
    "### Задание 3\n",
    "\n",
    "1. Создайте список `a`, состоящий из каких-то элементов.\n",
    "2. Создайте список `b` такого же размера, как `a`, состоящий из каких-то элементов.\n",
    "3. Выведите нумерованный список пар из элементов списков `a` и `b`."
   ]
  },
  {
   "cell_type": "code",
   "execution_count": 9,
   "metadata": {},
   "outputs": [
    {
     "name": "stdout",
     "output_type": "stream",
     "text": [
      "0 - The Mountains of Madness | Jonathan Strange\n",
      "1 - Magic Mirror | Harry Potter\n",
      "2 - Cthulhu | Nathaniel Chanticleer\n",
      "3 - Magic Wand | Gandalf\n",
      "4 - Invisibility Cloak | Sabriel\n",
      "5 - Resurrection Stone | Rincewind\n"
     ]
    }
   ],
   "source": [
    "# Ваш код здесь\n",
    "a = [\"The Mountains of Madness\", \"Magic Mirror\", \"Cthulhu\", \"Magic Wand\"\n",
    "     , \"Invisibility Cloak\", \"Resurrection Stone\"]\n",
    "b = [\"Jonathan Strange\", \"Harry Potter\", \"Nathaniel Chanticleer\", \"Gandalf\"\n",
    "     , \"Sabriel\", \"Rincewind\"]\n",
    "\n",
    "resl = list(enumerate(zip(a, b)))\n",
    "for e in resl:\n",
    "    print(e[0], \"-\", e[1][0], \"|\", e[1][1])"
   ]
  },
  {
   "cell_type": "markdown",
   "metadata": {},
   "source": [
    "---"
   ]
  },
  {
   "cell_type": "markdown",
   "metadata": {},
   "source": [
    "### list comprehensions"
   ]
  },
  {
   "cell_type": "code",
   "execution_count": null,
   "metadata": {
    "collapsed": true
   },
   "outputs": [],
   "source": [
    "a = [x for x in range(1, 6)]\n",
    "a"
   ]
  },
  {
   "cell_type": "code",
   "execution_count": null,
   "metadata": {
    "collapsed": true
   },
   "outputs": [],
   "source": [
    "def f(x):\n",
    "    return x ** 2"
   ]
  },
  {
   "cell_type": "code",
   "execution_count": null,
   "metadata": {
    "collapsed": true,
    "scrolled": true
   },
   "outputs": [],
   "source": [
    "b = [f(x) for x in range(1, 10)]\n",
    "c = [x ** 2 for x in range(1, 10)]\n",
    "print(b, '==', c)"
   ]
  },
  {
   "cell_type": "code",
   "execution_count": null,
   "metadata": {
    "collapsed": true
   },
   "outputs": [],
   "source": [
    "[x if x in 'aeiou' else '*' for x in 'apple']"
   ]
  },
  {
   "cell_type": "code",
   "execution_count": null,
   "metadata": {
    "collapsed": true
   },
   "outputs": [],
   "source": [
    "def foo(i):\n",
    "    return i, i + 1\n",
    "\n",
    "l = []\n",
    "for i in range(3):\n",
    "    for x in foo(i):\n",
    "        l.append(str(x))\n",
    "        \n",
    "l"
   ]
  },
  {
   "cell_type": "code",
   "execution_count": 58,
   "metadata": {},
   "outputs": [
    {
     "data": {
      "text/plain": [
       "['0', '1', '1', '2', '2', '3']"
      ]
     },
     "execution_count": 58,
     "metadata": {},
     "output_type": "execute_result"
    }
   ],
   "source": [
    "l = [str(x) for i in range(3) for x in foo(i)]\n",
    "l"
   ]
  },
  {
   "cell_type": "markdown",
   "metadata": {},
   "source": [
    "---"
   ]
  },
  {
   "cell_type": "markdown",
   "metadata": {},
   "source": [
    "### Задание 4"
   ]
  },
  {
   "cell_type": "markdown",
   "metadata": {},
   "source": [
    "*Выведите* список из 100 чисел *через запятую*. **Циклами пользоваться нельзя.**"
   ]
  },
  {
   "cell_type": "code",
   "execution_count": 13,
   "metadata": {
    "scrolled": true
   },
   "outputs": [
    {
     "name": "stdout",
     "output_type": "stream",
     "text": [
      "0, 1, 2, 3, 4, 5, 6, 7, 8, 9, 10, 11, 12, 13, 14, 15, 16, 17, 18, 19, 20, 21, 22, 23, 24, 25, 26, 27, 28, 29, 30, 31, 32, 33, 34, 35, 36, 37, 38, 39, 40, 41, 42, 43, 44, 45, 46, 47, 48, 49, 50, 51, 52, 53, 54, 55, 56, 57, 58, 59, 60, 61, 62, 63, 64, 65, 66, 67, 68, 69, 70, 71, 72, 73, 74, 75, 76, 77, 78, 79, 80, 81, 82, 83, 84, 85, 86, 87, 88, 89, 90, 91, 92, 93, 94, 95, 96, 97, 98, 9\n"
     ]
    }
   ],
   "source": [
    "# Ваш код здесь\n",
    "# хотелось извратиться...)\n",
    "# print(\"\".join(map(lambda x: str(x[0])+x[1], list(enumerate([\", \"]*100))))[:-2])\n",
    "\n",
    "# :) range и map\n",
    "# print(\"\".join(map(lambda x: str(x)+\", \", range(100)))[:-2])\n",
    "\n",
    "# рекурсия\n",
    "# def prnm(pr=0):\n",
    "#     if pr == 98:\n",
    "#         return \"99\"\n",
    "#     return str(pr) + \", \" + prnm(pr+1)\n",
    "\n",
    "# print(prnm())\n",
    "\n",
    "# не круто - они не в порядке возростания и повторяются\n",
    "# print((\"1, 2, 3, 4, \"*25)[:-2])\n",
    "\n",
    "# если имелась в виду \"магия\" - то вот она:\n",
    "l = [i for i in range(100)]\n",
    "print(l.__str__()[1:-2])"
   ]
  },
  {
   "cell_type": "markdown",
   "metadata": {},
   "source": [
    "---"
   ]
  },
  {
   "cell_type": "markdown",
   "metadata": {},
   "source": [
    "### functions, lambdas"
   ]
  },
  {
   "cell_type": "markdown",
   "metadata": {},
   "source": [
    "<img align=center src=\"http://stopnonsense.com/wp-content/uploads/Running-is-running.jpg\" style=\"height:300px;\"/>"
   ]
  },
  {
   "cell_type": "code",
   "execution_count": null,
   "metadata": {
    "collapsed": true
   },
   "outputs": [],
   "source": [
    "def make_coffee(size, sugar_dose=3, **kwargs):\n",
    "    if sugar_dose > 5:\n",
    "        return 'Too much sugar! Be careful! :('\n",
    "    else:\n",
    "        return 'Done: cup of {0} ml size; amount of sugar = {1}'.format(size, sugar_dose)"
   ]
  },
  {
   "cell_type": "code",
   "execution_count": null,
   "metadata": {
    "collapsed": true
   },
   "outputs": [],
   "source": [
    "make_coffee(100)"
   ]
  },
  {
   "cell_type": "code",
   "execution_count": null,
   "metadata": {
    "collapsed": true
   },
   "outputs": [],
   "source": [
    "make_coffee(200, 1)"
   ]
  },
  {
   "cell_type": "code",
   "execution_count": null,
   "metadata": {
    "collapsed": true
   },
   "outputs": [],
   "source": [
    "make_coffee(100, 6)"
   ]
  },
  {
   "cell_type": "code",
   "execution_count": null,
   "metadata": {
    "collapsed": true
   },
   "outputs": [],
   "source": [
    "make_coffee(120, 5, name='Ilya', gender='male')  # kwargs"
   ]
  },
  {
   "cell_type": "code",
   "execution_count": null,
   "metadata": {
    "collapsed": true
   },
   "outputs": [],
   "source": [
    "negation = lambda x: -x\n",
    "a = 5\n",
    "print(negation(a))"
   ]
  },
  {
   "cell_type": "markdown",
   "metadata": {},
   "source": [
    "### map, reduce, filter"
   ]
  },
  {
   "cell_type": "markdown",
   "metadata": {},
   "source": [
    "* `map(func, iterables)` - выполняет преобразование func над элементами iterables и возвращает **новый** `iterable`:"
   ]
  },
  {
   "cell_type": "code",
   "execution_count": 52,
   "metadata": {
    "collapsed": true
   },
   "outputs": [],
   "source": [
    "words = dir(list)"
   ]
  },
  {
   "cell_type": "code",
   "execution_count": 53,
   "metadata": {
    "scrolled": true
   },
   "outputs": [
    {
     "name": "stdout",
     "output_type": "stream",
     "text": [
      "[7, 9, 12, 11, 11, 7, 7, 6, 10, 6, 16, 11, 6, 8, 8, 8, 8, 17, 8, 6, 7, 6, 7, 6, 7, 10, 13, 8, 12, 8, 11, 11, 10, 7, 16, 6, 5, 4, 5, 6, 5, 6, 3, 6, 7, 4]\n",
      "\n",
      "['__add__', '__class__', '__contains__', '__delattr__', '__delitem__', '__dir__', '__doc__', '__eq__', '__format__', '__ge__', '__getattribute__', '__getitem__', '__gt__', '__hash__', '__iadd__', '__imul__', '__init__', '__init_subclass__', '__iter__', '__le__', '__len__', '__lt__', '__mul__', '__ne__', '__new__', '__reduce__', '__reduce_ex__', '__repr__', '__reversed__', '__rmul__', '__setattr__', '__setitem__', '__sizeof__', '__str__', '__subclasshook__', 'append', 'clear', 'copy', 'count', 'extend', 'index', 'insert', 'pop', 'remove', 'reverse', 'sort']\n"
     ]
    }
   ],
   "source": [
    "letter_counts = list(map(lambda x: len(x), words))\n",
    "\n",
    "print(letter_counts)\n",
    "print()\n",
    "print(words)"
   ]
  },
  {
   "cell_type": "code",
   "execution_count": null,
   "metadata": {
    "collapsed": true
   },
   "outputs": [],
   "source": [
    "l1 = [1,2,3,4]\n",
    "l2 = [11, 12, 13, 14, 15]\n",
    "l3 = [101, 102, 103]\n",
    "\n",
    "triple_sum = list(map(lambda x, y, z: x + y + z, l1, l2, l3))\n",
    "print(triple_sum)"
   ]
  },
  {
   "cell_type": "markdown",
   "metadata": {},
   "source": [
    "* `reduce(func, iterables)` - производит вычисление с элементами последовательности, результатом которого является **одно значение**:"
   ]
  },
  {
   "cell_type": "code",
   "execution_count": 61,
   "metadata": {
    "collapsed": true
   },
   "outputs": [],
   "source": [
    "from functools import reduce"
   ]
  },
  {
   "cell_type": "code",
   "execution_count": 62,
   "metadata": {},
   "outputs": [
    {
     "name": "stdout",
     "output_type": "stream",
     "text": [
      "378\n"
     ]
    }
   ],
   "source": [
    "sum_of_counts = reduce(lambda x, y: x + y, letter_counts)\n",
    "print(sum_of_counts)"
   ]
  },
  {
   "cell_type": "markdown",
   "metadata": {
    "collapsed": true
   },
   "source": [
    "* `filter(predicate, iterable)` - оставляет только те элементы, для которых **верен** предикат (функция, возвращающая bool):"
   ]
  },
  {
   "cell_type": "code",
   "execution_count": null,
   "metadata": {
    "collapsed": true
   },
   "outputs": [],
   "source": [
    "mixed = ['мак', 'просо', 'мак', 'мак', 'просо', 'мак', 'просо', 'просо', 'просо', 'мак']\n",
    "only_mac = list(filter(lambda x: x == 'мак', mixed))\n",
    "print(only_mac)"
   ]
  },
  {
   "cell_type": "markdown",
   "metadata": {},
   "source": [
    "---"
   ]
  },
  {
   "cell_type": "markdown",
   "metadata": {},
   "source": [
    "### Задание 5\n",
    "\n",
    "1. Дан массив строк: `['agfkd.,f', 'Qksdf;sb&..', 'asdoo*', 'bgf...d', 're54()kj[]].'] `\n",
    "2. Создайте список, состоящий из количества точек в каждой строке. Выведите его\n",
    "3. Создайте новый список, в котором будут только строки, в которых более 2-х точек. Выведите его  \n",
    "\n",
    "Циклами пользоваться нельзя."
   ]
  },
  {
   "cell_type": "code",
   "execution_count": 69,
   "metadata": {},
   "outputs": [
    {
     "name": "stdout",
     "output_type": "stream",
     "text": [
      "[1, 2, 0, 3, 1]\n",
      "['bgf...d']\n"
     ]
    }
   ],
   "source": [
    "# Ваш код здесь\n",
    "strs = ['agfkd.,f', 'Qksdf;sb&..', 'asdoo*', 'bgf...d', 're54()kj[]].']\n",
    "points = [i.count(\".\") for i in strs]\n",
    "print(points)\n",
    "strs_improved = list(filter(lambda x: x.count(\".\") > 2, strs))\n",
    "print(strs_improved)"
   ]
  },
  {
   "cell_type": "markdown",
   "metadata": {},
   "source": [
    "---"
   ]
  },
  {
   "cell_type": "markdown",
   "metadata": {},
   "source": [
    "### set"
   ]
  },
  {
   "cell_type": "code",
   "execution_count": null,
   "metadata": {
    "collapsed": true
   },
   "outputs": [],
   "source": [
    "s = set()\n",
    "s"
   ]
  },
  {
   "cell_type": "code",
   "execution_count": null,
   "metadata": {
    "collapsed": true
   },
   "outputs": [],
   "source": [
    "dir(s)"
   ]
  },
  {
   "cell_type": "code",
   "execution_count": null,
   "metadata": {
    "collapsed": true
   },
   "outputs": [],
   "source": [
    "s.add(1)\n",
    "s.add('a')\n",
    "s.add(None)\n",
    "s.add('bullet')\n",
    "print(s)"
   ]
  },
  {
   "cell_type": "code",
   "execution_count": null,
   "metadata": {
    "collapsed": true
   },
   "outputs": [],
   "source": [
    "s1 = set(range(0, 10))\n",
    "s2 = set(range(5, 15))"
   ]
  },
  {
   "cell_type": "code",
   "execution_count": null,
   "metadata": {
    "collapsed": true
   },
   "outputs": [],
   "source": [
    "print(s1.difference(s2))\n",
    "print()\n",
    "print(s2.difference(s1))"
   ]
  },
  {
   "cell_type": "code",
   "execution_count": null,
   "metadata": {
    "collapsed": true
   },
   "outputs": [],
   "source": [
    "s1.intersection(s2)"
   ]
  },
  {
   "cell_type": "code",
   "execution_count": null,
   "metadata": {
    "collapsed": true
   },
   "outputs": [],
   "source": [
    "s1.union(s2)"
   ]
  },
  {
   "cell_type": "code",
   "execution_count": null,
   "metadata": {
    "collapsed": true
   },
   "outputs": [],
   "source": [
    "print('s1: ', s1, '\\ns2: ', s2)"
   ]
  },
  {
   "cell_type": "markdown",
   "metadata": {},
   "source": [
    "### dict"
   ]
  },
  {
   "cell_type": "code",
   "execution_count": null,
   "metadata": {
    "collapsed": true
   },
   "outputs": [],
   "source": [
    "d = {}\n",
    "dd = dict()\n",
    "\n",
    "print(d == dd, '|', type(d))"
   ]
  },
  {
   "cell_type": "code",
   "execution_count": null,
   "metadata": {
    "collapsed": true
   },
   "outputs": [],
   "source": [
    "dir(dict)"
   ]
  },
  {
   "cell_type": "code",
   "execution_count": null,
   "metadata": {
    "collapsed": true
   },
   "outputs": [],
   "source": [
    "d['a'] = 100\n",
    "d"
   ]
  },
  {
   "cell_type": "code",
   "execution_count": null,
   "metadata": {
    "collapsed": true
   },
   "outputs": [],
   "source": [
    "d = dict(short='dict', long='dictionary')\n",
    "d"
   ]
  },
  {
   "cell_type": "code",
   "execution_count": null,
   "metadata": {
    "collapsed": true
   },
   "outputs": [],
   "source": [
    "d = dict([(1, 1), (2, 4)])\n",
    "d"
   ]
  },
  {
   "cell_type": "code",
   "execution_count": null,
   "metadata": {
    "collapsed": true
   },
   "outputs": [],
   "source": [
    "d = dict.fromkeys(['a', 'b'])\n",
    "d"
   ]
  },
  {
   "cell_type": "code",
   "execution_count": null,
   "metadata": {
    "collapsed": true
   },
   "outputs": [],
   "source": [
    "d = dict.fromkeys(['a', 'b'], 100)\n",
    "d"
   ]
  },
  {
   "cell_type": "markdown",
   "metadata": {},
   "source": [
    "**dict comprehensions**"
   ]
  },
  {
   "cell_type": "code",
   "execution_count": null,
   "metadata": {
    "collapsed": true
   },
   "outputs": [],
   "source": [
    "d = {a: a ** 2 for a in range(7)}\n",
    "d"
   ]
  },
  {
   "cell_type": "markdown",
   "metadata": {},
   "source": [
    "### !"
   ]
  },
  {
   "cell_type": "markdown",
   "metadata": {},
   "source": [
    "Будьте осторожны, если ключа, по которому поступил запрос, нет в словаре, то выбросит исключение:"
   ]
  },
  {
   "cell_type": "code",
   "execution_count": null,
   "metadata": {
    "collapsed": true
   },
   "outputs": [],
   "source": [
    "d = {1: 100, 2: 200, 3: 300}\n",
    "d['a']"
   ]
  },
  {
   "cell_type": "markdown",
   "metadata": {},
   "source": [
    "Поэтому безопаснее использовать **get(key)**. Тогда, если нужно, можно проверить на **None**:"
   ]
  },
  {
   "cell_type": "code",
   "execution_count": null,
   "metadata": {
    "collapsed": true
   },
   "outputs": [],
   "source": [
    "d.get(1)"
   ]
  },
  {
   "cell_type": "code",
   "execution_count": null,
   "metadata": {
    "collapsed": true
   },
   "outputs": [],
   "source": [
    "d.get('a') == None"
   ]
  },
  {
   "cell_type": "markdown",
   "metadata": {},
   "source": [
    "Самое часто используемое - получение ключей, получение значений и получение всего вместе:"
   ]
  },
  {
   "cell_type": "code",
   "execution_count": null,
   "metadata": {
    "collapsed": true
   },
   "outputs": [],
   "source": [
    "print(d.keys(), '|', type(d.keys()))\n",
    "\n",
    "\n",
    "print(list(d.keys()))"
   ]
  },
  {
   "cell_type": "code",
   "execution_count": null,
   "metadata": {
    "collapsed": true
   },
   "outputs": [],
   "source": [
    "print(d.values(), '|', type(d.values()))\n",
    "\n",
    "\n",
    "print(list(d.values()))"
   ]
  },
  {
   "cell_type": "code",
   "execution_count": null,
   "metadata": {
    "collapsed": true
   },
   "outputs": [],
   "source": [
    "print(d.items(), '|', type(d.items()))\n",
    "\n",
    "\n",
    "print(list(d.items()))"
   ]
  },
  {
   "cell_type": "markdown",
   "metadata": {
    "collapsed": true
   },
   "source": [
    "### modules"
   ]
  },
  {
   "cell_type": "markdown",
   "metadata": {
    "collapsed": true
   },
   "source": [
    "**Модули** - это \"библиотеки\" Python. То есть это самостоятельные, объединённые технически и логически, именованные части Python кода"
   ]
  },
  {
   "cell_type": "markdown",
   "metadata": {
    "collapsed": true
   },
   "source": [
    "* О модулях необходимо знать только одно - как их импортировать:"
   ]
  },
  {
   "cell_type": "code",
   "execution_count": null,
   "metadata": {
    "collapsed": true
   },
   "outputs": [],
   "source": [
    "import collections"
   ]
  },
  {
   "cell_type": "markdown",
   "metadata": {},
   "source": [
    "* Импортировать только какой-то компонент из модуля:"
   ]
  },
  {
   "cell_type": "code",
   "execution_count": 14,
   "metadata": {
    "collapsed": true
   },
   "outputs": [],
   "source": [
    "from collections import Counter"
   ]
  },
  {
   "cell_type": "markdown",
   "metadata": {},
   "source": [
    "* Импортировать с другим именем (чаще всего используется для локаничности кода):"
   ]
  },
  {
   "cell_type": "code",
   "execution_count": 15,
   "metadata": {
    "collapsed": true
   },
   "outputs": [],
   "source": [
    "import collections as cool_lib"
   ]
  },
  {
   "cell_type": "code",
   "execution_count": 16,
   "metadata": {
    "collapsed": true
   },
   "outputs": [],
   "source": [
    "count = cool_lib.Counter()"
   ]
  },
  {
   "cell_type": "markdown",
   "metadata": {},
   "source": [
    "Жизненный пример:"
   ]
  },
  {
   "cell_type": "code",
   "execution_count": 17,
   "metadata": {
    "collapsed": true
   },
   "outputs": [],
   "source": [
    "import numpy as np"
   ]
  },
  {
   "cell_type": "markdown",
   "metadata": {},
   "source": [
    "### files"
   ]
  },
  {
   "cell_type": "code",
   "execution_count": 80,
   "metadata": {
    "collapsed": true
   },
   "outputs": [],
   "source": [
    "path = './20_newsgroups/sci.space/62478'"
   ]
  },
  {
   "cell_type": "code",
   "execution_count": null,
   "metadata": {
    "collapsed": true
   },
   "outputs": [],
   "source": [
    "file = open(path, mode='r')\n",
    "print([line for line in file][0])\n",
    "file.close()"
   ]
  },
  {
   "cell_type": "markdown",
   "metadata": {},
   "source": [
    "| Режим | Обозначение |\n",
    "|-------|-------------|\n",
    "| **'r'**  | Открытие на **чтение** (является значением по умолчанию) |\n",
    "| **'rb'** | Открытие на **чтение**, в предположении, что будут считываться **байты** |\n",
    "| **'w'** | Открытие на **запись**, содержимое файла удаляется. Если файла не существует, создается новый |\n",
    "| **'wb**' | Открытие на **запись байтов**, содержимое файла удаляется. Если файла не существует, создается новый |\n",
    "| **'a'** | Открытие на **дозапись**, информация добавляется **в конец файла** |\n",
    "| **'r+'** | Открыть файл на **чтение И запись**. Если файла нет, **новый НЕ создаётся** |\n",
    "| **'a+'** | Открыть файл на **чтение И запись в конец файла**. Если файла нет, **новый создаётся** |\n",
    "| **'t'** | Открытие файла **как текстового** (по умолчанию) |"
   ]
  },
  {
   "cell_type": "code",
   "execution_count": null,
   "metadata": {
    "collapsed": true
   },
   "outputs": [],
   "source": [
    "with open(path, mode='r') as test_file:\n",
    "    for line in test_file:\n",
    "        print(line)"
   ]
  },
  {
   "cell_type": "markdown",
   "metadata": {},
   "source": [
    "### classes"
   ]
  },
  {
   "cell_type": "code",
   "execution_count": null,
   "metadata": {
    "collapsed": true
   },
   "outputs": [],
   "source": [
    "class Human:\n",
    "    def __init__(self, name='', age=None, deep_learning_specialist=False):\n",
    "        self.name = name\n",
    "        self.age = age\n",
    "        self.deep_learning_specialist = deep_learning_specialist\n",
    "    \n",
    "    def set_age(self, age):\n",
    "        self.age = age\n",
    "    \n",
    "    def get_age(self):\n",
    "        return self.age\n",
    "    \n",
    "    def __str__(self):\n",
    "        return 'Name: {}\\nAge: {} \\\n",
    "                \\nIs deep learning specialist: {}'.format(self.name, self.age, \n",
    "                                                          self.deep_learning_specialist)\n",
    "\n",
    "class DLSchoolStudent(Human):\n",
    "    def __init__(self, name='', age=None, deep_learning_specialist=False):\n",
    "        super().__init__(name, age, deep_learning_specialist)\n",
    "        self.total_grade = None\n",
    "        self.deep_learning_specialist = True\n",
    "    \n",
    "    def __str__(self):\n",
    "        return super().__str__()"
   ]
  },
  {
   "cell_type": "code",
   "execution_count": null,
   "metadata": {
    "collapsed": true
   },
   "outputs": [],
   "source": [
    "human = Human('Person', 17)\n",
    "print(human)"
   ]
  },
  {
   "cell_type": "code",
   "execution_count": null,
   "metadata": {
    "collapsed": true
   },
   "outputs": [],
   "source": [
    "student = DLSchoolStudent('Good Person', 18)\n",
    "print(student)"
   ]
  },
  {
   "cell_type": "markdown",
   "metadata": {},
   "source": [
    "### exceptions"
   ]
  },
  {
   "cell_type": "code",
   "execution_count": null,
   "metadata": {
    "collapsed": true
   },
   "outputs": [],
   "source": [
    "dir(__builtin__)"
   ]
  },
  {
   "cell_type": "code",
   "execution_count": null,
   "metadata": {
    "collapsed": true
   },
   "outputs": [],
   "source": [
    "raise KeyboardInterrupt()"
   ]
  },
  {
   "cell_type": "code",
   "execution_count": null,
   "metadata": {
    "collapsed": true
   },
   "outputs": [],
   "source": [
    "my_dict = {1: 100, 2: 200}\n",
    "print(my_dict['NEW'])"
   ]
  },
  {
   "cell_type": "code",
   "execution_count": null,
   "metadata": {
    "collapsed": true
   },
   "outputs": [],
   "source": [
    "try:\n",
    "    my_dict = {1: 100, 2: 200}\n",
    "    print(my_dict['NEW'])\n",
    "except KeyError:\n",
    "    print('Caught KeyError!')"
   ]
  },
  {
   "cell_type": "markdown",
   "metadata": {},
   "source": [
    "### Полезные библиотеки Python"
   ]
  },
  {
   "cell_type": "markdown",
   "metadata": {},
   "source": [
    "### glob"
   ]
  },
  {
   "cell_type": "code",
   "execution_count": 28,
   "metadata": {
    "collapsed": true
   },
   "outputs": [],
   "source": [
    "import glob"
   ]
  },
  {
   "cell_type": "code",
   "execution_count": null,
   "metadata": {
    "collapsed": true
   },
   "outputs": [],
   "source": [
    "!dir"
   ]
  },
  {
   "cell_type": "code",
   "execution_count": 29,
   "metadata": {},
   "outputs": [
    {
     "data": {
      "text/plain": [
       "[]"
      ]
     },
     "execution_count": 29,
     "metadata": {},
     "output_type": "execute_result"
    }
   ],
   "source": [
    "glob.glob('./[0-9].*')"
   ]
  },
  {
   "cell_type": "code",
   "execution_count": 30,
   "metadata": {},
   "outputs": [
    {
     "data": {
      "text/plain": [
       "['dice.png']"
      ]
     },
     "execution_count": 30,
     "metadata": {},
     "output_type": "execute_result"
    }
   ],
   "source": [
    "glob.glob('*.png')"
   ]
  },
  {
   "cell_type": "code",
   "execution_count": null,
   "metadata": {
    "collapsed": true
   },
   "outputs": [],
   "source": [
    "glob.glob('?.jpg')"
   ]
  },
  {
   "cell_type": "code",
   "execution_count": null,
   "metadata": {
    "collapsed": true
   },
   "outputs": [],
   "source": [
    "glob.glob('./**/', recursive=True)"
   ]
  },
  {
   "cell_type": "code",
   "execution_count": null,
   "metadata": {
    "collapsed": true
   },
   "outputs": [],
   "source": [
    "glob.glob('**/*.txt', recursive=True)"
   ]
  },
  {
   "cell_type": "markdown",
   "metadata": {},
   "source": [
    "### tqdm"
   ]
  },
  {
   "cell_type": "markdown",
   "metadata": {},
   "source": [
    "* Устанавливаем виджеты:\n",
    "\n",
    "`pip install ipywidgets`  \n",
    "\n",
    "(или `conda install -c conda-forge ipywidgets`)\n",
    "\n",
    "* Разрешаем их использование в Jupyter Notebook:  \n",
    "\n",
    "`jupyter nbextension enable --py --sys-prefix widgetsnbextension`  \n",
    "\n",
    "* Перезагружаем ядро (Restart Kernel)  \n",
    "\n",
    "\n",
    "* Устанавливаем tqdm:  \n",
    "\n",
    "`pip install tqdm`  \n",
    "\n",
    "(или `conda install -c conda-forge tqdm`)  \n",
    "\n",
    "Больше про tqdm: https://pypi.python.org/pypi/tqdm"
   ]
  },
  {
   "cell_type": "code",
   "execution_count": 18,
   "metadata": {
    "collapsed": true
   },
   "outputs": [],
   "source": [
    "from tqdm import tqdm\n",
    "from tqdm import tnrange, tqdm_notebook\n",
    "from time import sleep"
   ]
  },
  {
   "cell_type": "code",
   "execution_count": 20,
   "metadata": {},
   "outputs": [
    {
     "name": "stderr",
     "output_type": "stream",
     "text": [
      "100%|██████████| 1000/1000 [00:10<00:00, 97.40it/s]\n"
     ]
    }
   ],
   "source": [
    "cnt = 0\n",
    "for i in tqdm(range(1000)):\n",
    "    sleep(0.01)\n",
    "    cnt += 1"
   ]
  },
  {
   "cell_type": "code",
   "execution_count": 21,
   "metadata": {},
   "outputs": [
    {
     "data": {
      "application/vnd.jupyter.widget-view+json": {
       "model_id": "9e60d8b88b814135968c9029a0894872",
       "version_major": 2,
       "version_minor": 0
      },
      "text/html": [
       "<p>Failed to display Jupyter Widget of type <code>HBox</code>.</p>\n",
       "<p>\n",
       "  If you're reading this message in Jupyter Notebook or JupyterLab, it may mean\n",
       "  that the widgets JavaScript is still loading. If this message persists, it\n",
       "  likely means that the widgets JavaScript library is either not installed or\n",
       "  not enabled. See the <a href=\"https://ipywidgets.readthedocs.io/en/stable/user_install.html\">Jupyter\n",
       "  Widgets Documentation</a> for setup instructions.\n",
       "</p>\n",
       "<p>\n",
       "  If you're reading this message in another notebook frontend (for example, a static\n",
       "  rendering on GitHub or <a href=\"https://nbviewer.jupyter.org/\">NBViewer</a>),\n",
       "  it may mean that your frontend doesn't currently support widgets.\n",
       "</p>\n"
      ],
      "text/plain": [
       "HBox(children=(IntProgress(value=0, description='1st loop', max=10), HTML(value='')))"
      ]
     },
     "metadata": {},
     "output_type": "display_data"
    },
    {
     "data": {
      "application/vnd.jupyter.widget-view+json": {
       "model_id": "04b2289149e24328b1c3e77993302a03",
       "version_major": 2,
       "version_minor": 0
      },
      "text/html": [
       "<p>Failed to display Jupyter Widget of type <code>HBox</code>.</p>\n",
       "<p>\n",
       "  If you're reading this message in Jupyter Notebook or JupyterLab, it may mean\n",
       "  that the widgets JavaScript is still loading. If this message persists, it\n",
       "  likely means that the widgets JavaScript library is either not installed or\n",
       "  not enabled. See the <a href=\"https://ipywidgets.readthedocs.io/en/stable/user_install.html\">Jupyter\n",
       "  Widgets Documentation</a> for setup instructions.\n",
       "</p>\n",
       "<p>\n",
       "  If you're reading this message in another notebook frontend (for example, a static\n",
       "  rendering on GitHub or <a href=\"https://nbviewer.jupyter.org/\">NBViewer</a>),\n",
       "  it may mean that your frontend doesn't currently support widgets.\n",
       "</p>\n"
      ],
      "text/plain": [
       "HBox(children=(IntProgress(value=0, description='2nd loop'), HTML(value='')))"
      ]
     },
     "metadata": {},
     "output_type": "display_data"
    },
    {
     "data": {
      "application/vnd.jupyter.widget-view+json": {
       "model_id": "e2da6c36c3cc466e8e14ad351e0f2a4e",
       "version_major": 2,
       "version_minor": 0
      },
      "text/html": [
       "<p>Failed to display Jupyter Widget of type <code>HBox</code>.</p>\n",
       "<p>\n",
       "  If you're reading this message in Jupyter Notebook or JupyterLab, it may mean\n",
       "  that the widgets JavaScript is still loading. If this message persists, it\n",
       "  likely means that the widgets JavaScript library is either not installed or\n",
       "  not enabled. See the <a href=\"https://ipywidgets.readthedocs.io/en/stable/user_install.html\">Jupyter\n",
       "  Widgets Documentation</a> for setup instructions.\n",
       "</p>\n",
       "<p>\n",
       "  If you're reading this message in another notebook frontend (for example, a static\n",
       "  rendering on GitHub or <a href=\"https://nbviewer.jupyter.org/\">NBViewer</a>),\n",
       "  it may mean that your frontend doesn't currently support widgets.\n",
       "</p>\n"
      ],
      "text/plain": [
       "HBox(children=(IntProgress(value=0, description='2nd loop'), HTML(value='')))"
      ]
     },
     "metadata": {},
     "output_type": "display_data"
    },
    {
     "data": {
      "application/vnd.jupyter.widget-view+json": {
       "model_id": "6d7a5151b1534fb1b4891e7dcd30a824",
       "version_major": 2,
       "version_minor": 0
      },
      "text/html": [
       "<p>Failed to display Jupyter Widget of type <code>HBox</code>.</p>\n",
       "<p>\n",
       "  If you're reading this message in Jupyter Notebook or JupyterLab, it may mean\n",
       "  that the widgets JavaScript is still loading. If this message persists, it\n",
       "  likely means that the widgets JavaScript library is either not installed or\n",
       "  not enabled. See the <a href=\"https://ipywidgets.readthedocs.io/en/stable/user_install.html\">Jupyter\n",
       "  Widgets Documentation</a> for setup instructions.\n",
       "</p>\n",
       "<p>\n",
       "  If you're reading this message in another notebook frontend (for example, a static\n",
       "  rendering on GitHub or <a href=\"https://nbviewer.jupyter.org/\">NBViewer</a>),\n",
       "  it may mean that your frontend doesn't currently support widgets.\n",
       "</p>\n"
      ],
      "text/plain": [
       "HBox(children=(IntProgress(value=0, description='2nd loop'), HTML(value='')))"
      ]
     },
     "metadata": {},
     "output_type": "display_data"
    },
    {
     "data": {
      "application/vnd.jupyter.widget-view+json": {
       "model_id": "5bf903a51f614c818473deb12ed7ed28",
       "version_major": 2,
       "version_minor": 0
      },
      "text/html": [
       "<p>Failed to display Jupyter Widget of type <code>HBox</code>.</p>\n",
       "<p>\n",
       "  If you're reading this message in Jupyter Notebook or JupyterLab, it may mean\n",
       "  that the widgets JavaScript is still loading. If this message persists, it\n",
       "  likely means that the widgets JavaScript library is either not installed or\n",
       "  not enabled. See the <a href=\"https://ipywidgets.readthedocs.io/en/stable/user_install.html\">Jupyter\n",
       "  Widgets Documentation</a> for setup instructions.\n",
       "</p>\n",
       "<p>\n",
       "  If you're reading this message in another notebook frontend (for example, a static\n",
       "  rendering on GitHub or <a href=\"https://nbviewer.jupyter.org/\">NBViewer</a>),\n",
       "  it may mean that your frontend doesn't currently support widgets.\n",
       "</p>\n"
      ],
      "text/plain": [
       "HBox(children=(IntProgress(value=0, description='2nd loop'), HTML(value='')))"
      ]
     },
     "metadata": {},
     "output_type": "display_data"
    },
    {
     "data": {
      "application/vnd.jupyter.widget-view+json": {
       "model_id": "f7bfce9d04dc4b65905e953f7184376a",
       "version_major": 2,
       "version_minor": 0
      },
      "text/html": [
       "<p>Failed to display Jupyter Widget of type <code>HBox</code>.</p>\n",
       "<p>\n",
       "  If you're reading this message in Jupyter Notebook or JupyterLab, it may mean\n",
       "  that the widgets JavaScript is still loading. If this message persists, it\n",
       "  likely means that the widgets JavaScript library is either not installed or\n",
       "  not enabled. See the <a href=\"https://ipywidgets.readthedocs.io/en/stable/user_install.html\">Jupyter\n",
       "  Widgets Documentation</a> for setup instructions.\n",
       "</p>\n",
       "<p>\n",
       "  If you're reading this message in another notebook frontend (for example, a static\n",
       "  rendering on GitHub or <a href=\"https://nbviewer.jupyter.org/\">NBViewer</a>),\n",
       "  it may mean that your frontend doesn't currently support widgets.\n",
       "</p>\n"
      ],
      "text/plain": [
       "HBox(children=(IntProgress(value=0, description='2nd loop'), HTML(value='')))"
      ]
     },
     "metadata": {},
     "output_type": "display_data"
    },
    {
     "data": {
      "application/vnd.jupyter.widget-view+json": {
       "model_id": "c9278bcfa6d54e179bacf52a8d8833de",
       "version_major": 2,
       "version_minor": 0
      },
      "text/html": [
       "<p>Failed to display Jupyter Widget of type <code>HBox</code>.</p>\n",
       "<p>\n",
       "  If you're reading this message in Jupyter Notebook or JupyterLab, it may mean\n",
       "  that the widgets JavaScript is still loading. If this message persists, it\n",
       "  likely means that the widgets JavaScript library is either not installed or\n",
       "  not enabled. See the <a href=\"https://ipywidgets.readthedocs.io/en/stable/user_install.html\">Jupyter\n",
       "  Widgets Documentation</a> for setup instructions.\n",
       "</p>\n",
       "<p>\n",
       "  If you're reading this message in another notebook frontend (for example, a static\n",
       "  rendering on GitHub or <a href=\"https://nbviewer.jupyter.org/\">NBViewer</a>),\n",
       "  it may mean that your frontend doesn't currently support widgets.\n",
       "</p>\n"
      ],
      "text/plain": [
       "HBox(children=(IntProgress(value=0, description='2nd loop'), HTML(value='')))"
      ]
     },
     "metadata": {},
     "output_type": "display_data"
    },
    {
     "data": {
      "application/vnd.jupyter.widget-view+json": {
       "model_id": "ea70a8b979944fc98bfecfcf35d1a8df",
       "version_major": 2,
       "version_minor": 0
      },
      "text/html": [
       "<p>Failed to display Jupyter Widget of type <code>HBox</code>.</p>\n",
       "<p>\n",
       "  If you're reading this message in Jupyter Notebook or JupyterLab, it may mean\n",
       "  that the widgets JavaScript is still loading. If this message persists, it\n",
       "  likely means that the widgets JavaScript library is either not installed or\n",
       "  not enabled. See the <a href=\"https://ipywidgets.readthedocs.io/en/stable/user_install.html\">Jupyter\n",
       "  Widgets Documentation</a> for setup instructions.\n",
       "</p>\n",
       "<p>\n",
       "  If you're reading this message in another notebook frontend (for example, a static\n",
       "  rendering on GitHub or <a href=\"https://nbviewer.jupyter.org/\">NBViewer</a>),\n",
       "  it may mean that your frontend doesn't currently support widgets.\n",
       "</p>\n"
      ],
      "text/plain": [
       "HBox(children=(IntProgress(value=0, description='2nd loop'), HTML(value='')))"
      ]
     },
     "metadata": {},
     "output_type": "display_data"
    },
    {
     "data": {
      "application/vnd.jupyter.widget-view+json": {
       "model_id": "3495f16ba80949a589549286a054471f",
       "version_major": 2,
       "version_minor": 0
      },
      "text/html": [
       "<p>Failed to display Jupyter Widget of type <code>HBox</code>.</p>\n",
       "<p>\n",
       "  If you're reading this message in Jupyter Notebook or JupyterLab, it may mean\n",
       "  that the widgets JavaScript is still loading. If this message persists, it\n",
       "  likely means that the widgets JavaScript library is either not installed or\n",
       "  not enabled. See the <a href=\"https://ipywidgets.readthedocs.io/en/stable/user_install.html\">Jupyter\n",
       "  Widgets Documentation</a> for setup instructions.\n",
       "</p>\n",
       "<p>\n",
       "  If you're reading this message in another notebook frontend (for example, a static\n",
       "  rendering on GitHub or <a href=\"https://nbviewer.jupyter.org/\">NBViewer</a>),\n",
       "  it may mean that your frontend doesn't currently support widgets.\n",
       "</p>\n"
      ],
      "text/plain": [
       "HBox(children=(IntProgress(value=0, description='2nd loop'), HTML(value='')))"
      ]
     },
     "metadata": {},
     "output_type": "display_data"
    },
    {
     "data": {
      "application/vnd.jupyter.widget-view+json": {
       "model_id": "fdb3f824a88049f881b9d16c346c82f4",
       "version_major": 2,
       "version_minor": 0
      },
      "text/html": [
       "<p>Failed to display Jupyter Widget of type <code>HBox</code>.</p>\n",
       "<p>\n",
       "  If you're reading this message in Jupyter Notebook or JupyterLab, it may mean\n",
       "  that the widgets JavaScript is still loading. If this message persists, it\n",
       "  likely means that the widgets JavaScript library is either not installed or\n",
       "  not enabled. See the <a href=\"https://ipywidgets.readthedocs.io/en/stable/user_install.html\">Jupyter\n",
       "  Widgets Documentation</a> for setup instructions.\n",
       "</p>\n",
       "<p>\n",
       "  If you're reading this message in another notebook frontend (for example, a static\n",
       "  rendering on GitHub or <a href=\"https://nbviewer.jupyter.org/\">NBViewer</a>),\n",
       "  it may mean that your frontend doesn't currently support widgets.\n",
       "</p>\n"
      ],
      "text/plain": [
       "HBox(children=(IntProgress(value=0, description='2nd loop'), HTML(value='')))"
      ]
     },
     "metadata": {},
     "output_type": "display_data"
    },
    {
     "data": {
      "application/vnd.jupyter.widget-view+json": {
       "model_id": "71206a7355ed40959ec4f8d67b5ded1b",
       "version_major": 2,
       "version_minor": 0
      },
      "text/html": [
       "<p>Failed to display Jupyter Widget of type <code>HBox</code>.</p>\n",
       "<p>\n",
       "  If you're reading this message in Jupyter Notebook or JupyterLab, it may mean\n",
       "  that the widgets JavaScript is still loading. If this message persists, it\n",
       "  likely means that the widgets JavaScript library is either not installed or\n",
       "  not enabled. See the <a href=\"https://ipywidgets.readthedocs.io/en/stable/user_install.html\">Jupyter\n",
       "  Widgets Documentation</a> for setup instructions.\n",
       "</p>\n",
       "<p>\n",
       "  If you're reading this message in another notebook frontend (for example, a static\n",
       "  rendering on GitHub or <a href=\"https://nbviewer.jupyter.org/\">NBViewer</a>),\n",
       "  it may mean that your frontend doesn't currently support widgets.\n",
       "</p>\n"
      ],
      "text/plain": [
       "HBox(children=(IntProgress(value=0, description='2nd loop'), HTML(value='')))"
      ]
     },
     "metadata": {},
     "output_type": "display_data"
    },
    {
     "name": "stdout",
     "output_type": "stream",
     "text": [
      "\n"
     ]
    }
   ],
   "source": [
    "for i in tnrange(10, desc='1st loop'):\n",
    "    for j in tqdm_notebook(range(100), desc='2nd loop', leave=False):\n",
    "        sleep(0.01)"
   ]
  },
  {
   "cell_type": "markdown",
   "metadata": {},
   "source": [
    "### collections"
   ]
  },
  {
   "cell_type": "markdown",
   "metadata": {},
   "source": [
    "* `defaultdict()` - класс словаря, у которого есть значение по умолчанию - порой очень пригождается:"
   ]
  },
  {
   "cell_type": "code",
   "execution_count": 22,
   "metadata": {
    "collapsed": true
   },
   "outputs": [],
   "source": [
    "from collections import defaultdict"
   ]
  },
  {
   "cell_type": "code",
   "execution_count": 23,
   "metadata": {},
   "outputs": [
    {
     "name": "stdout",
     "output_type": "stream",
     "text": [
      "0\n",
      "5\n"
     ]
    }
   ],
   "source": [
    "d = defaultdict(int)\n",
    "\n",
    "print(d['key'])\n",
    "\n",
    "d['key'] = 5\n",
    "print(d['key'])  # 5"
   ]
  },
  {
   "cell_type": "code",
   "execution_count": 24,
   "metadata": {},
   "outputs": [
    {
     "name": "stdout",
     "output_type": "stream",
     "text": [
      "empty\n",
      "full\n"
     ]
    }
   ],
   "source": [
    "d = defaultdict(lambda: 'empty')\n",
    "print(d['key'])\n",
    "\n",
    "d['key'] = 'full'\n",
    "print(d['key'])"
   ]
  },
  {
   "cell_type": "code",
   "execution_count": 25,
   "metadata": {},
   "outputs": [
    {
     "name": "stdout",
     "output_type": "stream",
     "text": [
      "defaultdict(<class 'list'>, {})\n",
      "defaultdict(<class 'list'>, {'list1': [100, 200]})\n",
      "[100, 200]\n"
     ]
    }
   ],
   "source": [
    "d = defaultdict(list)\n",
    "print(d)\n",
    "\n",
    "d['list1'].append(100)\n",
    "d['list1'].append(200)\n",
    "print(d)\n",
    "print(d['list1'])"
   ]
  },
  {
   "cell_type": "markdown",
   "metadata": {},
   "source": [
    "* `Counter()` - класс словаря, предназначенного для счётчиков. По сути, `== defaultdict(int)`:"
   ]
  },
  {
   "cell_type": "code",
   "execution_count": 26,
   "metadata": {
    "collapsed": true
   },
   "outputs": [],
   "source": [
    "from collections import Counter"
   ]
  },
  {
   "cell_type": "code",
   "execution_count": 27,
   "metadata": {},
   "outputs": [
    {
     "name": "stdout",
     "output_type": "stream",
     "text": [
      "Counter({'r': 224, 'o': 136, 'e': 132, 't': 98, 'n': 98, 'i': 85, 'a': 63, 's': 59, 'E': 57, 'c': 48, 'l': 43, 'd': 39, 'p': 38, '_': 38, 'm': 31, 'u': 29, 'y': 22, 'g': 21, 'b': 16, 'I': 14, 'x': 13, 'h': 12, 'W': 11, 'f': 9, 'F': 8, 'v': 8, 'N': 8, 'A': 7, 'P': 7, 'R': 7, 'S': 7, 'U': 7, 'O': 6, 'D': 6, 'T': 6, 'B': 5, 'k': 5, 'C': 5, 'L': 3, 'w': 3, 'K': 2, 'M': 2, 'z': 2, 'G': 1, 'V': 1, 'Z': 1, 'Y': 1, 'H': 1, 'j': 1})\n"
     ]
    }
   ],
   "source": [
    "counter = Counter()\n",
    "\n",
    "for word in dir(__builtin__):\n",
    "    for letter in word:\n",
    "        counter[letter] += 1  # или .update(value)\n",
    "    \n",
    "print(counter)"
   ]
  },
  {
   "cell_type": "markdown",
   "metadata": {},
   "source": [
    "---"
   ]
  },
  {
   "cell_type": "markdown",
   "metadata": {},
   "source": [
    "### Задание 6\n",
    "\n",
    "1. Создайте словарь счётчиков\n",
    "2. Создайте переменную, в которую сохраните все пути к нужным текстовым файлам *(расположены по адресу `'./20_newsgroups/sci.space/'`)*\n",
    "3. Для каждого текста (текстового файла) посчитайте сколько каждое слово (из этого текста) встретилось в этом тексте (используйте предыдущие пункты)"
   ]
  },
  {
   "cell_type": "code",
   "execution_count": 49,
   "metadata": {},
   "outputs": [
    {
     "name": "stdout",
     "output_type": "stream",
     "text": [
      "В ./20_newsgroups/sci.space/62479 есть слова: \n",
      "--- Newsgroups:\n",
      "--- sci.space\n",
      "--- Path:\n",
      "--- cantaloupe.srv.cs.cmu.edu!das-news.harvard.edu!noc.near.net!howland.reston.ans.net!zaphod.mps.ohio-state.edu!cs.utexas.edu!uunet!nih-csl!NewsWatcher!user\n",
      "--- From:\n",
      "--- england@helix.nih.gov\n",
      "--- (Mad\n",
      "--- Vlad)\n",
      "--- Subject:\n",
      "--- Satellite\n",
      "--- Capabilities-Patriot\n",
      "--- Games\n",
      "--- Message-ID:\n",
      "--- <england-170593093754@156.40.182.12>\n",
      "--- Followup-To:\n",
      "--- Sender:\n",
      "--- postman@alw.nih.gov\n",
      "--- (AMDS\n",
      "--- Postmaster)\n",
      "--- Organization:\n",
      "--- Nat'l\n",
      "--- Inst\n",
      "--- of\n",
      "--- Health\n",
      "--- Date:\n",
      "--- Mon,\n",
      "--- 17\n",
      "--- May\n",
      "--- 1993\n",
      "--- 13:37:43\n",
      "--- GMT\n",
      "--- Lines:\n",
      "--- 20\n",
      "--- Hello\n",
      "--- netters,\n",
      "--- I'm\n",
      "--- new\n",
      "--- to\n",
      "--- this\n",
      "--- board\n",
      "--- and\n",
      "--- I\n",
      "--- thought\n",
      "--- might\n",
      "--- be\n",
      "--- the\n",
      "--- best\n",
      "--- place\n",
      "--- for\n",
      "--- my\n",
      "--- post.\n",
      "--- have\n",
      "--- a\n",
      "--- question\n",
      "--- regarding\n",
      "--- satellite\n",
      "--- technology\n",
      "--- seen\n",
      "--- in\n",
      "--- movie\n",
      "--- Patriot\n",
      "--- Games.\n",
      "--- In\n",
      "--- movies,\n",
      "--- CIA\n",
      "--- utilizes\n",
      "--- its\n",
      "--- orbitting\n",
      "--- sats\n",
      "--- pinpoint\n",
      "--- specific\n",
      "--- terrorist\n",
      "--- camp\n",
      "--- N\n",
      "--- Africa.\n",
      "--- The\n",
      "--- photos\n",
      "--- taken\n",
      "--- by\n",
      "--- are\n",
      "--- stunning!\n",
      "--- know\n",
      "--- that\n",
      "--- capable\n",
      "--- photographing\n",
      "--- license\n",
      "--- plates\n",
      "--- vehicles.\n",
      "--- My\n",
      "--- is\n",
      "--- this:\n",
      "--- was\n",
      "--- out\n",
      "--- British\n",
      "--- SAS.\n",
      "--- And\n",
      "--- while\n",
      "--- SAS\n",
      "--- action,\n",
      "--- team\n",
      "--- watching\n",
      "--- warroom\n",
      "--- back\n",
      "--- Langley,\n",
      "--- VA.\n",
      "--- action\n",
      "--- clear\n",
      "--- appeared\n",
      "--- relayed\n",
      "--- via\n",
      "--- sat.\n",
      "--- at\n",
      "--- night\n",
      "--- photography\n",
      "--- an\n",
      "--- x-ray\n",
      "--- type.\n",
      "--- That\n",
      "--- is,\n",
      "--- one\n",
      "--- could\n",
      "--- see\n",
      "--- within\n",
      "--- tents/structures\n",
      "--- camp.\n",
      "--- Does\n",
      "--- such\n",
      "--- techology\n",
      "--- exist\n",
      "--- what\n",
      "--- it's\n",
      "--- nature?\n",
      "--- i.e.,\n",
      "--- UV,\n",
      "--- IR,\n",
      "--- x-ray,\n",
      "--- etc.\n",
      "--- PS\n",
      "--- Who\n",
      "--- wrote\n",
      "--- book\n",
      "--- Games?\n",
      "--- Mad\n",
      "--- Vlad\n",
      "\n",
      "В ./20_newsgroups/sci.space/62709 есть слова: \n",
      "--- Xref:\n",
      "--- cantaloupe.srv.cs.cmu.edu\n",
      "--- sci.environment:30893\n",
      "--- misc.consumers:69410\n",
      "--- misc.invest:42838\n",
      "--- sci.astro:36227\n",
      "--- talk.environment:12373\n",
      "--- talk.politics.space:2934\n",
      "--- sci.space:62709\n",
      "--- rec.backcountry:32440\n",
      "--- misc.rural:6404\n",
      "--- misc.headlines:42335\n",
      "--- Path:\n",
      "--- cantaloupe.srv.cs.cmu.edu!das-news.harvard.edu!noc.near.net!howland.reston.ans.net!ux1.cso.uiuc.edu!uchinews!raistlin!timbuk.cray.com!equalizer!sdcrsi!network.ucsd.edu!lyapunov.ucsd.edu!mbk\n",
      "--- From:\n",
      "--- mbk@lyapunov.ucsd.edu\n",
      "--- (Matt\n",
      "--- Kennel)\n",
      "--- Newsgroups:\n",
      "--- sci.environment,misc.consumers,misc.invest,sci.astro,talk.environment,talk.politics.space,sci.space,rec.backcountry,misc.rural,misc.headlines,k12.chat.teacher\n",
      "--- Subject:\n",
      "--- Re:\n",
      "--- Space\n",
      "--- Marketing\n",
      "--- would\n",
      "--- be\n",
      "--- wonderfull.\n",
      "--- Date:\n",
      "--- 16\n",
      "--- May\n",
      "--- 1993\n",
      "--- 21:57:53\n",
      "--- GMT\n",
      "--- Organization:\n",
      "--- Institute\n",
      "--- For\n",
      "--- Nonlinear\n",
      "--- Science,\n",
      "--- UCSD\n",
      "--- Lines:\n",
      "--- 34\n",
      "--- Message-ID:\n",
      "--- <1t6dd1$11v@network.ucsd.edu>\n",
      "--- References:\n",
      "--- <1993May16.143120.2248@ucsu.Colorado.EDU>\n",
      "--- NNTP-Posting-Host:\n",
      "--- lyapunov.ucsd.edu\n",
      "--- X-Newsreader:\n",
      "--- Tin\n",
      "--- 1.1\n",
      "--- PL3\n",
      "--- fcrary@ucsu.Colorado.EDU\n",
      "--- (Frank\n",
      "--- Crary)\n",
      "--- writes:\n",
      "--- :\n",
      "--- While\n",
      "--- I'm\n",
      "--- sure\n",
      "--- Sagan\n",
      "--- considers\n",
      "--- it\n",
      "--- sacrilegious,\n",
      "--- that\n",
      "--- wouldn't\n",
      "--- because\n",
      "--- of\n",
      "--- his\n",
      "--- doubtfull\n",
      "--- credibility\n",
      "--- as\n",
      "--- an\n",
      "--- astronomer.\n",
      "--- Modern,\n",
      "--- ground-based,\n",
      "--- visible\n",
      "--- light\n",
      "--- astronomy\n",
      "--- (what\n",
      "--- these\n",
      "--- proposed\n",
      "--- orbiting\n",
      "--- billboards\n",
      "--- upset)\n",
      "--- is\n",
      "--- already\n",
      "--- a\n",
      "--- dying\n",
      "--- field:\n",
      "--- The\n",
      "--- opacity\n",
      "--- and\n",
      "--- distortions\n",
      "--- caused\n",
      "--- by\n",
      "--- the\n",
      "--- atmosphere\n",
      "--- itself\n",
      "--- have\n",
      "--- driven\n",
      "--- most\n",
      "--- field\n",
      "--- to\n",
      "--- use\n",
      "--- radio,\n",
      "--- far\n",
      "--- infrared\n",
      "--- or\n",
      "--- space-based\n",
      "--- telescopes.\n",
      "--- Hardly.\n",
      "--- Keck\n",
      "--- telescope\n",
      "--- in\n",
      "--- Hawaii\n",
      "--- has\n",
      "--- taken\n",
      "--- its\n",
      "--- first\n",
      "--- pictures;\n",
      "--- they're\n",
      "--- nearly\n",
      "--- good\n",
      "--- Hubble\n",
      "--- for\n",
      "--- tiny\n",
      "--- fraction\n",
      "--- cost.\n",
      "--- In\n",
      "--- any\n",
      "--- case,\n",
      "--- bright\n",
      "--- point\n",
      "--- passing\n",
      "--- through\n",
      "--- doesn't\n",
      "--- ruin\n",
      "--- observations.\n",
      "--- If\n",
      "--- were\n",
      "--- thousands\n",
      "--- existing\n",
      "--- satellites\n",
      "--- done\n",
      "--- so\n",
      "--- (satelliets\n",
      "--- might\n",
      "--- not\n",
      "--- seem\n",
      "--- eyes,\n",
      "--- but\n",
      "--- concerned,\n",
      "--- they\n",
      "--- are\n",
      "--- extremely\n",
      "--- bright.)\n",
      "--- I\n",
      "--- believe\n",
      "--- this\n",
      "--- space\n",
      "--- junk\n",
      "--- will\n",
      "--- FAR\n",
      "--- brighter\n",
      "--- still;\n",
      "--- more\n",
      "--- like\n",
      "--- full\n",
      "--- moon.\n",
      "--- moon\n",
      "--- upsets\n",
      "--- deep-sky\n",
      "--- observation\n",
      "--- all\n",
      "--- over\n",
      "--- sky\n",
      "--- (and\n",
      "--- just\n",
      "--- looking\n",
      "--- at\n",
      "--- it)\n",
      "--- scattered\n",
      "--- light.\n",
      "--- This\n",
      "--- known\n",
      "--- problem,\n",
      "--- course\n",
      "--- two\n",
      "--- weeks\n",
      "--- out\n",
      "--- every\n",
      "--- four\n",
      "--- OK.\n",
      "--- What\n",
      "--- happens\n",
      "--- when\n",
      "--- billboard\n",
      "--- circles\n",
      "--- 90\n",
      "--- minutes?\n",
      "--- time\n",
      "--- then?\n",
      "--- Frank\n",
      "--- Crary\n",
      "--- CU\n",
      "--- Boulder\n",
      "--- --\n",
      "--- -Matt\n",
      "--- Kennel\n",
      "--- mbk@inls1.ucsd.edu\n",
      "--- -Institute\n",
      "--- University\n",
      "--- California,\n",
      "--- San\n",
      "--- Diego\n",
      "--- -***\n",
      "--- AD:\n",
      "--- Archive\n",
      "--- nonlinear\n",
      "--- dynamics\n",
      "--- papers\n",
      "--- &\n",
      "--- programs:\n",
      "--- FTP\n",
      "--- lyapunov.ucsd.edu,\n",
      "--- username\n",
      "--- \"anonymous\".\n",
      "\n",
      "В ./20_newsgroups/sci.space/62708 есть слова: \n",
      "--- Xref:\n",
      "--- cantaloupe.srv.cs.cmu.edu\n",
      "--- sci.environment:30892\n",
      "--- misc.consumers:69409\n",
      "--- sci.astro:36226\n",
      "--- talk.environment:12372\n",
      "--- talk.politics.space:2933\n",
      "--- sci.space:62708\n",
      "--- rec.backcountry:32439\n",
      "--- Path:\n",
      "--- cantaloupe.srv.cs.cmu.edu!das-news.harvard.edu!noc.near.net!howland.reston.ans.net!zaphod.mps.ohio-state.edu!sdd.hp.com!col.hp.com!cab\n",
      "--- From:\n",
      "--- cab@col.hp.com\n",
      "--- (Chris\n",
      "--- Best)\n",
      "--- Newsgroups:\n",
      "--- sci.environment,misc.consumers,sci.astro,talk.environment,talk.politics.space,sci.space,rec.backcountry\n",
      "--- Subject:\n",
      "--- Re:\n",
      "--- Space\n",
      "--- Marketing\n",
      "--- --\n",
      "--- Boycott\n",
      "--- Date:\n",
      "--- 19\n",
      "--- May\n",
      "--- 1993\n",
      "--- 17:27:59\n",
      "--- GMT\n",
      "--- Organization:\n",
      "--- your\n",
      "--- service\n",
      "--- Lines:\n",
      "--- 14\n",
      "--- Message-ID:\n",
      "--- <1tdqmvINN3q2@hp-col.col.hp.com>\n",
      "--- References:\n",
      "--- <24.P022y43JM01@JUTS.ccc.amdahl.com>\n",
      "--- NNTP-Posting-Host:\n",
      "--- hpctdkz.col.hp.com\n",
      "--- >\n",
      "--- According\n",
      "--- to\n",
      "--- the\n",
      "--- person\n",
      "--- I\n",
      "--- talked\n",
      "--- to,\n",
      "--- proposed\n",
      "--- \"billboard\"\n",
      "--- will\n",
      "--- be\n",
      "--- too\n",
      "--- small\n",
      "--- resolve\n",
      "--- with\n",
      "--- naked\n",
      "--- eye\n",
      "--- so\n",
      "--- and\n",
      "--- visually\n",
      "--- unimportant...\n",
      "--- Anyway,\n",
      "--- he\n",
      "--- suggested\n",
      "--- that\n",
      "--- visual\n",
      "--- impact\n",
      "--- would\n",
      "--- approximate\n",
      "--- of\n",
      "--- a\n",
      "--- jumbo\n",
      "--- jet\n",
      "--- at\n",
      "--- 45k\n",
      "--- feet\n",
      "--- (12km)\n",
      "--- altitude.\n",
      "--- ----------\n",
      "--- Are\n",
      "--- you\n",
      "--- sure\n",
      "--- didn't\n",
      "--- tailor\n",
      "--- his\n",
      "--- comments\n",
      "--- according\n",
      "--- what\n",
      "--- guessed\n",
      "--- wanted\n",
      "--- hear?\n",
      "--- In\n",
      "--- other\n",
      "--- words,\n",
      "--- LIE?\n",
      "--- Think\n",
      "--- about\n",
      "--- it\n",
      "--- -\n",
      "--- good\n",
      "--- billboard\n",
      "--- do\n",
      "--- for\n",
      "--- an\n",
      "--- advertiser\n",
      "--- if\n",
      "--- nobody\n",
      "--- can\n",
      "--- see\n",
      "--- it?\n",
      "--- Who\n",
      "--- advertise,\n",
      "--- telescope\n",
      "--- companies?\n",
      "--- Pretty\n",
      "--- narrow\n",
      "--- audience\n",
      "--- here.\n",
      "\n",
      "В ./20_newsgroups/sci.space/62480 есть слова: \n",
      "--- Xref:\n",
      "--- cantaloupe.srv.cs.cmu.edu\n",
      "--- sci.environment:30751\n",
      "--- misc.consumers:69257\n",
      "--- misc.invest:42674\n",
      "--- sci.astro:36052\n",
      "--- talk.environment:12249\n",
      "--- talk.politics.space:2873\n",
      "--- sci.space:62480\n",
      "--- rec.backcountry:32316\n",
      "--- misc.rural:6339\n",
      "--- misc.headlines:42268\n",
      "--- misc.legal:63427\n",
      "--- Newsgroups:\n",
      "--- sci.environment,misc.consumers,misc.invest,sci.astro,talk.environment,talk.politics.space,sci.space,rec.backcountry,misc.rural,misc.headlines,k12.chat.teacher,misc.legal\n",
      "--- Path:\n",
      "--- cantaloupe.srv.cs.cmu.edu!das-news.harvard.edu!noc.near.net!howland.reston.ans.net!europa.eng.gtefsd.com!fs7.ece.cmu.edu!fs7.ECE.CMU.EDU!loss\n",
      "--- From:\n",
      "--- loss@fs7.ECE.CMU.EDU\n",
      "--- (Doug\n",
      "--- Loss)\n",
      "--- Subject:\n",
      "--- Re:\n",
      "--- Space\n",
      "--- Marketing\n",
      "--- would\n",
      "--- be\n",
      "--- wonderfull.\n",
      "--- Message-ID:\n",
      "--- <C76BMs.8x5@fs7.ece.cmu.edu>\n",
      "--- Sender:\n",
      "--- news@fs7.ece.cmu.edu\n",
      "--- (USENET\n",
      "--- News\n",
      "--- System)\n",
      "--- Organization:\n",
      "--- Electrical\n",
      "--- and\n",
      "--- Computer\n",
      "--- Engineering,\n",
      "--- Carnegie\n",
      "--- Mellon\n",
      "--- References:\n",
      "--- <C75A0p.8DK@news.cso.uiuc.edu>\n",
      "--- <pgf.737604987@srl03.cacs.usl.edu>\n",
      "--- <C760Dv.K75@agora.rain.com>\n",
      "--- Date:\n",
      "--- Mon,\n",
      "--- 17\n",
      "--- May\n",
      "--- 1993\n",
      "--- 13:47:13\n",
      "--- GMT\n",
      "--- Lines:\n",
      "--- In\n",
      "--- article\n",
      "--- jhart@agora.rain.com\n",
      "--- (Jim\n",
      "--- Hart)\n",
      "--- writes:\n",
      "--- >\n",
      "--- >[...]\n",
      "--- >Astronomers\n",
      "--- have\n",
      "--- been\n",
      "--- using\n",
      "--- the\n",
      "--- night\n",
      "--- sky\n",
      "--- for\n",
      "--- thousands\n",
      "--- of\n",
      "--- years\n",
      "--- --\n",
      "--- >they\n",
      "--- own\n",
      "--- it.\n",
      "--- If\n",
      "--- they\n",
      "--- don't\n",
      "--- complain\n",
      "--- now\n",
      "--- against\n",
      "--- scenic\n",
      "--- trespassers\n",
      "--- >(eg\n",
      "--- light\n",
      "--- polluters),\n",
      "--- will\n",
      "--- lose\n",
      "--- their\n",
      "--- common-law\n",
      "--- right\n",
      "--- ownership.\n",
      "--- Is\n",
      "--- English\n",
      "--- (American,\n",
      "--- Canadian,\n",
      "--- etc.)\n",
      "--- common\n",
      "--- law\n",
      "--- recognized\n",
      "--- as\n",
      "--- legally\n",
      "--- binding\n",
      "--- under\n",
      "--- international\n",
      "--- law?\n",
      "--- After\n",
      "--- all,\n",
      "--- we're\n",
      "--- talking\n",
      "--- about\n",
      "--- something\n",
      "--- that\n",
      "--- by\n",
      "--- its\n",
      "--- very\n",
      "--- nature\n",
      "--- isn't\n",
      "--- limited\n",
      "--- to\n",
      "--- territory\n",
      "--- one\n",
      "--- nation.\n",
      "--- Doug\n",
      "--- Loss\n",
      "--- loss@husky.bloomu.edu\n",
      "\n",
      "В ./20_newsgroups/sci.space/62615 есть слова: \n",
      "--- Path:\n",
      "--- cantaloupe.srv.cs.cmu.edu!das-news.harvard.edu!noc.near.net!howland.reston.ans.net!zaphod.mps.ohio-state.edu!menudo.uh.edu!oac4.hsc.uth.tmc.edu!oac2.hsc.uth.tmc.edu!user\n",
      "--- From:\n",
      "--- cshotton@oac.hsc.uth.tmc.edu\n",
      "--- (Chuck\n",
      "--- Shotton)\n",
      "--- Newsgroups:\n",
      "--- sci.space\n",
      "--- Subject:\n",
      "--- Re:\n",
      "--- Interesting\n",
      "--- DC-X\n",
      "--- cost\n",
      "--- anecdote\n",
      "--- Followup-To:\n",
      "--- Date:\n",
      "--- 18\n",
      "--- May\n",
      "--- 1993\n",
      "--- 18:01:52\n",
      "--- GMT\n",
      "--- Organization:\n",
      "--- Academic\n",
      "--- Computing\n",
      "--- Lines:\n",
      "--- 22\n",
      "--- Distribution:\n",
      "--- world\n",
      "--- Message-ID:\n",
      "--- <cshotton-180593125810@oac2.hsc.uth.tmc.edu>\n",
      "--- References:\n",
      "--- <1993May14.200217.3044@iti.org>\n",
      "--- NNTP-Posting-Host:\n",
      "--- oac2.hsc.uth.tmc.edu\n",
      "--- In\n",
      "--- article\n",
      "--- <1993May14.200217.3044@iti.org>,\n",
      "--- aws@iti.org\n",
      "--- (Allen\n",
      "--- W.\n",
      "--- Sherzer)\n",
      "--- wrote:\n",
      "--- >\n",
      "--- A\n",
      "--- staffer\n",
      "--- just\n",
      "--- told\n",
      "--- me\n",
      "--- an\n",
      "--- interesting\n",
      "--- story\n",
      "--- about\n",
      "--- DC-X.\n",
      "--- An\n",
      "--- Air\n",
      "--- Force\n",
      "--- costing\n",
      "--- team\n",
      "--- looked\n",
      "--- at\n",
      "--- the\n",
      "--- (now\n",
      "--- called\n",
      "--- DC-X1\n",
      "--- BTW)\n",
      "--- and\n",
      "--- gave\n",
      "--- estimate\n",
      "--- on\n",
      "--- how\n",
      "--- much\n",
      "--- it\n",
      "--- would\n",
      "--- to\n",
      "--- build\n",
      "--- it.\n",
      "--- It\n",
      "--- SDIO\n",
      "--- $70M\n",
      "--- USAF:\n",
      "--- $320\n",
      "--- million\n",
      "--- or\n",
      "--- four\n",
      "--- a\n",
      "--- half\n",
      "--- times\n",
      "--- as\n",
      "--- much.\n",
      "--- I'd\n",
      "--- be\n",
      "--- willing\n",
      "--- bet\n",
      "--- that\n",
      "--- majority\n",
      "--- of\n",
      "--- difference\n",
      "--- could\n",
      "--- accounted\n",
      "--- for\n",
      "--- by\n",
      "--- AF's\n",
      "--- requirement\n",
      "--- superfluous\n",
      "--- 2167\n",
      "--- documentation,\n",
      "--- 5\n",
      "--- 6\n",
      "--- huge\n",
      "--- requirements\n",
      "--- design\n",
      "--- reviews,\n",
      "--- travel\n",
      "--- expenses\n",
      "--- flying\n",
      "--- personnel\n",
      "--- around\n",
      "--- meetings,\n",
      "--- over\n",
      "--- specifying\n",
      "--- hardware.\n",
      "--- I\n",
      "--- doubt\n",
      "--- actual\n",
      "--- fabrication\n",
      "--- in\n",
      "--- materials\n",
      "--- labor\n",
      "--- very\n",
      "--- different\n",
      "--- from\n",
      "--- SDIO's\n",
      "--- costs.\n",
      "--- Of\n",
      "--- course,\n",
      "--- this\n",
      "--- is\n",
      "--- my\n",
      "--- cynical\n",
      "--- opinion\n",
      "--- based\n",
      "--- years\n",
      "--- watching\n",
      "--- government\n",
      "--- procurement\n",
      "--- process\n",
      "--- try\n",
      "--- cover\n",
      "--- up\n",
      "--- lack\n",
      "--- creativity\n",
      "--- innovation\n",
      "--- with\n",
      "--- reams\n",
      "--- documentation.\n",
      "--- ;)\n",
      "\n",
      "В ./20_newsgroups/sci.space/62481 есть слова: \n",
      "--- Xref:\n",
      "--- cantaloupe.srv.cs.cmu.edu\n",
      "--- sci.environment:30752\n",
      "--- misc.consumers:69258\n",
      "--- misc.invest:42675\n",
      "--- sci.astro:36054\n",
      "--- talk.environment:12250\n",
      "--- sci.space:62481\n",
      "--- rec.backcountry:32317\n",
      "--- misc.rural:6340\n",
      "--- misc.headlines:42269\n",
      "--- Newsgroups:\n",
      "--- sci.environment,misc.consumers,misc.invest,sci.astro,talk.environment,talk.politics/space,sci.space,rec.backcountry,misc.rural,misc.headlines,k12.chat.teacher\n",
      "--- Path:\n",
      "--- cantaloupe.srv.cs.cmu.edu!rochester!udel!gatech!howland.reston.ans.net!ux1.cso.uiuc.edu!uunet!news.encore.com!ns.encore.com!rcollins\n",
      "--- From:\n",
      "--- rcollins@ns.encore.com\n",
      "--- (Roger\n",
      "--- Collins)\n",
      "--- Subject:\n",
      "--- Re:\n",
      "--- Space\n",
      "--- Marketing\n",
      "--- would\n",
      "--- be\n",
      "--- wonderfull.\n",
      "--- Reply-To:\n",
      "--- rcollins@encore.com\n",
      "--- Organization:\n",
      "--- Encore\n",
      "--- Computer\n",
      "--- Corporation\n",
      "--- Date:\n",
      "--- Mon,\n",
      "--- 17\n",
      "--- May\n",
      "--- 1993\n",
      "--- 13:29:04\n",
      "--- GMT\n",
      "--- Message-ID:\n",
      "--- <C76AsH.90B@encore.com>\n",
      "--- References:\n",
      "--- <C73rp4.3G2@lysator.liu.se>\n",
      "--- <C73u77.84x@world.std.com>\n",
      "--- <C74rGL.4u7@ucdavis.edu>\n",
      "--- <geoffmC7508L.F1K@netcom.com>\n",
      "--- Sender:\n",
      "--- news@encore.com\n",
      "--- (Usenet\n",
      "--- readnews\n",
      "--- user\n",
      "--- id)\n",
      "--- Nntp-Posting-Host:\n",
      "--- sysgem1.encore.com\n",
      "--- Lines:\n",
      "--- 23\n",
      "--- In\n",
      "--- article\n",
      "--- <geoffmC7508L.F1K@netcom.com>,\n",
      "--- geoffm@netcom.com\n",
      "--- (Geoff\n",
      "--- Miller)\n",
      "--- writes:\n",
      "--- |>\n",
      "--- ez012344@hamlet.ucdavis.edu\n",
      "--- (Dan\n",
      "--- Herrin)\n",
      "--- >Is\n",
      "--- it\n",
      "--- not\n",
      "--- also\n",
      "--- an\n",
      "--- abomination\n",
      "--- that\n",
      "--- somebody\n",
      "--- spend\n",
      "--- money\n",
      "--- on\n",
      "--- \"space\n",
      "--- >advertising\"\n",
      "--- when\n",
      "--- those\n",
      "--- children\n",
      "--- are\n",
      "--- starving?\n",
      "--- Perhaps\n",
      "--- some\n",
      "--- redistribution\n",
      "--- >of\n",
      "--- wealth\n",
      "--- help\n",
      "--- them\n",
      "--- ...\n",
      "--- This\n",
      "--- is\n",
      "--- specious\n",
      "--- emotionalism.\n",
      "--- Commercial\n",
      "--- enterprises\n",
      "--- typically\n",
      "--- don't\n",
      "--- starving\n",
      "--- (or\n",
      "--- other\n",
      "--- world\n",
      "--- problems)\n",
      "--- anyway,\n",
      "--- at\n",
      "--- least\n",
      "--- in\n",
      "--- excess\n",
      "--- of\n",
      "--- whatever\n",
      "--- minimum\n",
      "--- amount\n",
      "--- required\n",
      "--- for\n",
      "--- lip-\n",
      "--- service\n",
      "--- and\n",
      "--- PR\n",
      "--- purposes.\n",
      "--- Precisely\n",
      "--- where\n",
      "--- you\n",
      "--- place\n",
      "--- the\n",
      "--- threshold\n",
      "--- beyond\n",
      "--- which\n",
      "--- advertising\n",
      "--- spending\n",
      "--- deemed\n",
      "--- \"abominable,\"\n",
      "--- why?\n",
      "--- Yes!\n",
      "--- Just\n",
      "--- take\n",
      "--- from\n",
      "--- profitable\n",
      "--- commercial\n",
      "--- give\n",
      "--- to\n",
      "--- government\n",
      "--- \"redistribute.\"\n",
      "--- Government\n",
      "--- so\n",
      "--- much\n",
      "--- more\n",
      "--- efficient,\n",
      "--- trustworthy,\n",
      "--- noble\n",
      "--- than\n",
      "--- self-serving\n",
      "--- businesses.\n",
      "--- :)\n",
      "--- Let's\n",
      "--- nip\n",
      "--- this\n",
      "--- redistributionist\n",
      "--- ignorance\n",
      "--- bud.\n",
      "--- If\n",
      "--- were\n",
      "--- enterprises,\n",
      "--- whole\n",
      "--- starving.\n",
      "--- Roger\n",
      "--- Collins\n",
      "\n",
      "В ./20_newsgroups/sci.space/62477 есть слова: \n",
      "\n",
      "В ./20_newsgroups/sci.space/62478 есть слова: \n",
      "--- Xref:\n",
      "--- cantaloupe.srv.cs.cmu.edu\n",
      "--- sci.environment:30750\n",
      "--- misc.consumers:69256\n",
      "--- misc.invest:42673\n",
      "--- sci.astro:36051\n",
      "--- talk.environment:12248\n",
      "--- talk.politics.space:2872\n",
      "--- sci.space:62478\n",
      "--- rec.backcountry:32315\n",
      "--- misc.rural:6338\n",
      "--- misc.headlines:42267\n",
      "--- misc.legal:63426\n",
      "--- Newsgroups:\n",
      "--- sci.environment,misc.consumers,misc.invest,sci.astro,talk.environment,talk.politics.space,sci.space,rec.backcountry,misc.rural,misc.headlines,k12.chat.teacher,misc.legal\n",
      "--- Path:\n",
      "--- cantaloupe.srv.cs.cmu.edu!rochester!udel!darwin.sura.net!zaphod.mps.ohio-state.edu!news.acns.nwu.edu!schur!len\n",
      "--- From:\n",
      "--- len@schur.math.nwu.edu\n",
      "--- (Len\n",
      "--- Evens)\n",
      "--- Subject:\n",
      "--- Re:\n",
      "--- Space\n",
      "--- Marketing\n",
      "--- would\n",
      "--- be\n",
      "--- wonderfull.\n",
      "--- Message-ID:\n",
      "--- <1993May17.133444.5922@news.acns.nwu.edu>\n",
      "--- Sender:\n",
      "--- usenet@news.acns.nwu.edu\n",
      "--- (Usenet\n",
      "--- on\n",
      "--- news.acns)\n",
      "--- Nntp-Posting-Host:\n",
      "--- schur.math.nwu.edu\n",
      "--- Organization:\n",
      "--- Dept\n",
      "--- of\n",
      "--- Math,\n",
      "--- Northwestern\n",
      "--- Univ\n",
      "--- References:\n",
      "--- <C75A0p.8DK@news.cso.uiuc.edu>\n",
      "--- <pgf.737604987@srl03.cacs.usl.edu>\n",
      "--- <C760Dv.K75@agora.rain.com>\n",
      "--- Date:\n",
      "--- Mon,\n",
      "--- 17\n",
      "--- May\n",
      "--- 1993\n",
      "--- 13:34:44\n",
      "--- GMT\n",
      "--- Lines:\n",
      "--- 61\n",
      "--- In\n",
      "--- article\n",
      "--- jhart@agora.rain.com\n",
      "--- (Jim\n",
      "--- Hart)\n",
      "--- writes:\n",
      "--- >\n",
      "--- >If\n",
      "--- anybody\n",
      "--- has\n",
      "--- a\n",
      "--- strong\n",
      "--- claim\n",
      "--- to\n",
      "--- control\n",
      "--- the\n",
      "--- night\n",
      "--- sky,\n",
      "--- it\n",
      "--- is\n",
      "--- >astronomers.\n",
      "--- Check\n",
      "--- out\n",
      "--- common\n",
      "--- law.\n",
      "--- days\n",
      "--- when\n",
      "--- wild\n",
      "--- lands\n",
      "--- >weren't\n",
      "--- scarce,\n",
      "--- pioneers\n",
      "--- laid\n",
      "--- land\n",
      "--- by\n",
      "--- putting\n",
      "--- >use,\n",
      "--- eg\n",
      "--- clearing\n",
      "--- and\n",
      "--- growing\n",
      "--- crop.\n",
      "--- Even\n",
      "--- trespassers\n",
      "--- can\n",
      "--- lay\n",
      "--- >the\n",
      "--- right\n",
      "--- passage\n",
      "--- if\n",
      "--- they've\n",
      "--- done\n",
      "--- for\n",
      "--- long\n",
      "--- enough\n",
      "--- >owners\n",
      "--- have\n",
      "--- not\n",
      "--- complained\n",
      "--- or\n",
      "--- taken\n",
      "--- steps\n",
      "--- stop\n",
      "--- them.\n",
      "--- Usage\n",
      "--- >begets\n",
      "--- property\n",
      "--- rights.\n",
      "--- >Astronomers\n",
      "--- been\n",
      "--- using\n",
      "--- sky\n",
      "--- thousands\n",
      "--- years\n",
      "--- --\n",
      "--- >they\n",
      "--- own\n",
      "--- it.\n",
      "--- >(eg\n",
      "--- light\n",
      "--- polluters),\n",
      "--- they\n",
      "--- will\n",
      "--- lose\n",
      "--- their\n",
      "--- common-law\n",
      "--- ownership.\n",
      "--- >Another\n",
      "--- consequence\n",
      "--- ownership\n",
      "--- that\n",
      "--- are\n",
      "--- free\n",
      "--- sell\n",
      "--- >it.\n",
      "--- Now,\n",
      "--- astronomers\n",
      "--- need\n",
      "--- money\n",
      "--- work.\n",
      "--- If\n",
      "--- >polluting\n",
      "--- billboards\n",
      "--- mirrors\n",
      "--- go\n",
      "--- up,\n",
      "--- even\n",
      "--- >more\n",
      "--- buy\n",
      "--- extra\n",
      "--- image\n",
      "--- processing\n"
     ]
    },
    {
     "name": "stdout",
     "output_type": "stream",
     "text": [
      "--- equipment,\n",
      "--- filters,\n",
      "--- >space\n",
      "--- telescopes\n",
      "--- etc.\n",
      "--- get\n",
      "--- around\n",
      "--- problem.\n",
      "--- >So,\n",
      "--- as\n",
      "--- we\n",
      "--- define\n",
      "--- who\n",
      "--- \"astronomers\"\n",
      "--- (eg\n",
      "--- do\n",
      "--- >\"they\"\n",
      "--- include\n",
      "--- amateur\n",
      "--- astronomers?\n",
      "--- Nature\n",
      "--- lovers?)\n",
      "--- >we\n",
      "--- set\n",
      "--- up\n",
      "--- system\n",
      "--- voluntary\n",
      "--- consensus\n",
      "--- solve\n",
      "--- this\n",
      "--- >dispute,\n",
      "--- instead\n",
      "--- invoking\n",
      "--- bans,\n",
      "--- regulations,\n",
      "--- enforced\n",
      "--- >by\n",
      "--- bribed\n",
      "--- politicians\n",
      "--- at\n",
      "--- point\n",
      "--- gun\n",
      "--- (why\n",
      "--- folks\n",
      "--- always\n",
      "--- >think\n",
      "--- sordid\n",
      "--- solution,\n",
      "--- \"we\n",
      "--- ought\n",
      "--- pass\n",
      "--- law\",\n",
      "--- >solve\n",
      "--- problems\n",
      "--- first\n",
      "--- last\n",
      "--- resort\n",
      "--- other\n",
      "--- >methods\n",
      "--- failed?)\n",
      "--- [Stuff\n",
      "--- deleted]\n",
      "--- This\n",
      "--- proposal\n",
      "--- certainly\n",
      "--- needs\n",
      "--- work,\n",
      "--- but\n",
      "--- how\n",
      "--- about\n",
      "--- working\n",
      "--- >these\n",
      "--- kind\n",
      "--- ideas\n",
      "--- before\n",
      "--- writing\n",
      "--- \"there\n",
      "--- law\"\n",
      "--- >letters\n",
      "--- our\n",
      "--- Congresscritters:\n",
      "--- let's\n",
      "--- give\n",
      "--- noncoercive\n",
      "--- consensus,\n",
      "--- via\n",
      "--- market,\n",
      "--- chance\n",
      "--- >Jim\n",
      "--- Hart\n",
      "--- >jhart@agora.rain.com\n",
      "--- Would\n",
      "--- Mr.\n",
      "--- please\n",
      "--- explain\n",
      "--- one\n",
      "--- could\n",
      "--- every\n",
      "--- nation\n",
      "--- earth\n",
      "--- corporation\n",
      "--- agree\n",
      "--- without\n",
      "--- `coercion'.\n",
      "--- Remember\n",
      "--- follows\n",
      "--- English\n",
      "--- most\n",
      "--- countries,\n",
      "--- history,\n",
      "--- was\n",
      "--- probably\n",
      "--- true\n",
      "--- rulers\n",
      "--- `owned'\n",
      "--- everything\n",
      "--- explicitly\n",
      "--- owned\n",
      "--- individuals.\n",
      "--- in\n",
      "--- North\n",
      "--- America,\n",
      "--- where\n",
      "--- principle\n",
      "--- enunciated,\n",
      "--- aboriginal\n",
      "--- inhabitants\n",
      "--- should\n",
      "--- everything,\n",
      "--- new\n",
      "--- arrivals\n",
      "--- wanted\n",
      "--- use\n",
      "--- resources,\n",
      "--- just\n",
      "--- took\n",
      "--- over.\n",
      "--- case\n",
      "--- hasn't\n",
      "--- noticed,\n",
      "--- there\n",
      "--- currently\n",
      "--- brutal\n",
      "--- war\n",
      "--- going\n",
      "--- Bosnia\n",
      "--- owns\n",
      "--- what.\n",
      "--- Of\n",
      "--- course,\n",
      "--- some\n",
      "--- friendly\n",
      "--- super\n",
      "--- power\n",
      "--- were\n",
      "--- an\n",
      "--- international\n",
      "--- astronomy\n",
      "--- organization\n",
      "--- anti-satelite\n",
      "--- missiles\n",
      "--- also\n",
      "--- defend\n",
      "--- attacked,\n",
      "--- such\n",
      "--- might\n",
      "--- hardly\n",
      "--- non-coercive.\n",
      "--- Some\n",
      "--- us\n",
      "--- nutty\n",
      "--- environmentalists\n",
      "--- think\n",
      "--- make\n",
      "--- sense\n",
      "--- try\n",
      "--- mobilize\n",
      "--- public\n",
      "--- opinion\n",
      "--- against\n",
      "--- advertising\n",
      "--- space\n",
      "--- governmental\n",
      "--- actions\n",
      "--- (like\n",
      "--- taxing\n",
      "--- power,\n",
      "--- example)\n",
      "--- discourage\n",
      "--- course\n",
      "--- too\n",
      "--- coercive\n",
      "--- Hart.\n",
      "--- Leonard\n",
      "--- Evens\n",
      "--- len@math.nwu.edu\n",
      "--- 708-491-5537\n",
      "--- Dept.\n",
      "--- Mathematics,\n",
      "--- Univ.,\n",
      "--- Evanston,\n",
      "--- IL\n",
      "--- 60208\n",
      "\n",
      "В ./20_newsgroups/sci.space/62616 есть слова: \n",
      "--- Newsgroups:\n",
      "--- sci.space\n",
      "--- Path:\n",
      "--- cantaloupe.srv.cs.cmu.edu!rochester!cornell!uw-beaver!uhog.mit.edu!enterpoop.mit.edu!deccrl!decwrl!decwrl!concert!news-feed-1.peachnet.edu!gatech!usenet.ins.cwru.edu!magnus.acs.ohio-state.edu!cis.ohio-state.edu!news.sei.cmu.edu!bb3.andrew.cmu.edu!crabapple.srv.cs.cmu.edu!18084TM@msu.edu\n",
      "--- From:\n",
      "--- 18084TM@msu.edu\n",
      "--- (Tom)\n",
      "--- Subject:\n",
      "--- Billsats\n",
      "--- Message-ID:\n",
      "--- <C78ECz.AH2.1@cs.cmu.edu>\n",
      "--- X-Added:\n",
      "--- Forwarded\n",
      "--- by\n",
      "--- Space\n",
      "--- Digest\n",
      "--- Sender:\n",
      "--- news+@cs.cmu.edu\n",
      "--- Organization:\n",
      "--- [via\n",
      "--- International\n",
      "--- University]\n",
      "--- Original-Sender:\n",
      "--- isu@VACATION.VENARI.CS.CMU.EDU\n",
      "--- Distribution:\n",
      "--- sci\n",
      "--- Date:\n",
      "--- Tue,\n",
      "--- 18\n",
      "--- May\n",
      "--- 1993\n",
      "--- 16:40:11\n",
      "--- GMT\n",
      "--- Approved:\n",
      "--- bboard-news_gateway\n",
      "--- Lines:\n",
      "--- 29\n",
      "--- Jeffrey\n",
      "--- L.\n",
      "--- Cook\n",
      "--- sez;\n",
      "--- >>This\n",
      "--- object\n",
      "--- would\n",
      "--- not\n",
      "--- interfere\n",
      "--- with\n",
      "--- anyone's\n",
      "--- enjoyment\n",
      "--- of\n",
      "--- the\n",
      "--- night\n",
      "--- sky\n",
      "--- >>(it\n",
      "--- be\n",
      "--- invisible\n",
      "--- at\n",
      "--- night),\n",
      "--- nor\n",
      "--- it\n",
      "--- have\n",
      "--- any\n",
      "--- significant\n",
      "--- >>impact\n",
      "--- on\n",
      "--- astronomical\n",
      "--- observations.\n",
      "--- I\n",
      "--- suspect\n",
      "--- there\n",
      "--- must\n",
      "--- some\n",
      "--- kind\n",
      "--- >>of\n",
      "--- underlying\n",
      "--- agenda\n",
      "--- coming\n",
      "--- to\n",
      "--- surface\n",
      "--- when,\n",
      "--- in\n",
      "--- spite\n",
      "--- this,\n",
      "--- people\n",
      "--- >>are\n",
      "--- so\n",
      "--- quick\n",
      "--- shrilly\n",
      "--- denounce\n",
      "--- and\n",
      "--- condemn\n",
      "--- something\n",
      "--- that\n",
      "--- >>vividly\n",
      "--- demonstrate\n",
      "--- strength\n",
      "--- Western\n",
      "--- capitalism.\n",
      "--- Lazlo\n",
      "--- Nibble\n",
      "--- >Buying\n",
      "--- Lichtenstein\n",
      "--- paving\n",
      "--- over\n",
      "--- ground\n",
      "--- glass\n",
      "--- also\n",
      "--- >\"demonstrate\n",
      "--- capitalism\",\n",
      "--- but\n",
      "--- doesn't\n",
      "--- make\n",
      "--- >a\n",
      "--- particularly\n",
      "--- attractive\n",
      "--- idea.\n",
      "--- Is\n",
      "--- what\n",
      "--- this\n",
      "--- country\n",
      "--- has\n",
      "--- been\n",
      "--- reduced\n",
      "--- >to?\n",
      "--- The\n",
      "--- planetary\n",
      "--- equivalent\n",
      "--- a\n",
      "--- guy\n",
      "--- who\n",
      "--- gets\n",
      "--- his\n",
      "--- penis\n",
      "--- out\n",
      "--- parties?\n",
      "--- Actually,\n",
      "--- wouldn't\n",
      "--- Capitalism,\n",
      "--- since\n",
      "--- it's\n",
      "--- depends\n",
      "--- use\n",
      "--- mind\n",
      "--- materials\n",
      "--- fulfillment\n",
      "--- needs\n",
      "--- desires.\n",
      "--- Mind\n",
      "--- you,\n",
      "--- I'm\n",
      "--- saying\n",
      "--- *no-one*\n",
      "--- benefit\n",
      "--- from\n",
      "--- glassed-over\n",
      "--- land,\n",
      "--- don't\n",
      "--- think\n",
      "--- anyone\n",
      "--- actually\n",
      "--- pay\n",
      "--- for\n",
      "--- it,\n",
      "--- unlike\n",
      "--- (potential)\n",
      "--- billsats.\n",
      "--- quite\n",
      "--- follow\n",
      "--- you\n",
      "--- part\n",
      "--- about\n",
      "--- someone\n",
      "--- exposing\n",
      "--- their\n",
      "--- genitals\n",
      "--- parties,\n",
      "--- got\n",
      "--- chuckle\n",
      "--- anyway.\n",
      "--- And\n",
      "--- thought\n",
      "--- had\n",
      "--- strange\n",
      "--- friends\n",
      "--- :-)\n",
      "--- -Tommy\n",
      "--- Mac\n",
      "--- -------------------------------------------------------------------------\n",
      "--- Tom\n",
      "--- McWilliams\n",
      "--- 517-355-2178\n",
      "--- wk\n",
      "--- \\\n",
      "--- They\n",
      "--- communicated\n",
      "--- communists,\n",
      "--- 18084tm@ibm.cl.msu.edu\n",
      "--- 336-9591\n",
      "--- hm\n",
      "--- pacified\n",
      "--- pacifists.\n",
      "--- -TimBuk3\n",
      "\n",
      "В ./20_newsgroups/sci.space/62614 есть слова: \n",
      "--- Path:\n",
      "--- cantaloupe.srv.cs.cmu.edu!das-news.harvard.edu!noc.near.net!howland.reston.ans.net!zaphod.mps.ohio-state.edu!cs.utexas.edu!tamsun.tamu.edu!zeus.tamu.edu!i0c0256\n",
      "--- From:\n",
      "--- i0c0256@zeus.tamu.edu\n",
      "--- (IGOR)\n",
      "--- Newsgroups:\n",
      "--- sci.space\n",
      "--- Subject:\n",
      "--- Re:\n",
      "--- Questions\n",
      "--- for\n",
      "--- KC-135\n",
      "--- veterans\n",
      "--- Date:\n",
      "--- 18\n",
      "--- May\n",
      "--- 1993\n",
      "--- 13:02\n",
      "--- CDT\n",
      "--- Organization:\n",
      "--- Texas\n",
      "--- A&M\n",
      "--- University,\n",
      "--- Academic\n",
      "--- Computing\n",
      "--- Services\n",
      "--- Lines:\n",
      "--- 26\n",
      "--- Distribution:\n",
      "--- world\n",
      "--- Message-ID:\n",
      "--- <18MAY199313024752@zeus.tamu.edu>\n",
      "--- References:\n",
      "--- <1t8h49$a2n@aurora.engr.LaTech.edu>\n",
      "--- <qHNP4B1w165w@shakala.com>\n",
      "--- <17MAY199318160445@zeus.tamu.edu>\n",
      "--- <1993May18.113849.15908@mksol.dseg.ti.com>\n",
      "--- NNTP-Posting-Host:\n",
      "--- zeus.tamu.edu\n",
      "--- Keywords:\n",
      "--- experiments\n",
      "--- research\n",
      "--- News-Software:\n",
      "--- VAX/VMS\n",
      "--- VNEWS\n",
      "--- 1.41\n",
      "--- >>if\n",
      "--- you\n",
      "--- think\n",
      "--- may\n",
      "--- have\n",
      "--- some\n",
      "--- problems\n",
      "--- want\n",
      "--- to\n",
      "--- make\n",
      "--- it\n",
      "--- stand\n",
      "--- up\n",
      "--- on\n",
      "--- the\n",
      "--- >>side\n",
      "--- so\n",
      "--- that\n",
      "--- Gees\n",
      "--- won't\n",
      "--- affect\n",
      "--- too\n",
      "--- much\n",
      "--- writing\n",
      "--- disk\n",
      "--- or\n",
      "--- >>hard\n",
      "--- disk....\n",
      "--- >\n",
      "--- >Hmm.\n",
      "--- I\n",
      "--- would\n",
      "--- being\n",
      "--- edge\n",
      "--- be\n",
      "--- *worse*,\n",
      "--- since\n",
      "--- might\n",
      "--- >make\n",
      "--- tracks\n",
      "--- unsymmetrical\n",
      "--- around\n",
      "--- spindle\n",
      "--- due\n",
      "--- sideways\n",
      "--- >force\n",
      "--- head.\n",
      "--- Older\n",
      "--- drives\n",
      "--- used\n",
      "--- tell\n",
      "--- reformat\n",
      "--- if\n",
      "--- >were\n",
      "--- going\n",
      "--- drive\n",
      "--- edge;\n",
      "--- at\n",
      "--- 3+g,\n",
      "--- this\n",
      "--- side\n",
      "--- force\n",
      "--- >even\n",
      "--- a\n",
      "--- problem\n",
      "--- new\n",
      "--- drives.\n",
      "--- well\n",
      "--- seemed\n",
      "--- work\n",
      "--- Mac\n",
      "--- II\n",
      "--- installation\n",
      "--- was\n",
      "--- talking\n",
      "--- about.\n",
      "--- Oh\n",
      "--- yeah\n",
      "--- there\n",
      "--- is\n",
      "--- something\n",
      "--- forgot\n",
      "--- mention\n",
      "--- :\n",
      "--- even\n",
      "--- though\n",
      "--- you're\n",
      "--- not\n",
      "--- suppposed\n",
      "--- water\n",
      "--- around,\n",
      "--- IS\n",
      "--- condenstion\n",
      "--- d\n",
      "--- dripping\n",
      "--- from\n",
      "--- roof\n",
      "--- of\n",
      "--- plane\n",
      "--- sure\n",
      "--- your\n",
      "--- hardware\n",
      "--- covered.\n",
      "--- Make\n",
      "--- also\n",
      "--- keyboards\n",
      "--- are\n",
      "--- protected\n",
      "--- two-phase\n",
      "--- flow\n",
      "--- coming\n",
      "--- out\n",
      "--- sick\n",
      "--- people.\n",
      "--- It\n",
      "--- happened\n",
      "--- us.....\n",
      "--- Good\n",
      "--- luck.\n",
      "--- Igor\n",
      "--- Carron\n",
      "--- University\n",
      "\n"
     ]
    }
   ],
   "source": [
    "# Ваш код здесь\n",
    "from collections import Counter\n",
    "import glob\n",
    "\n",
    "\n",
    "files = glob.glob(\"./20_newsgroups/sci.space/*\")\n",
    "# print(files)\n",
    "\n",
    "dofc = defaultdict(Counter)\n",
    "\n",
    "for f in files:\n",
    "    dofc[f] = Counter()\n",
    "    with open(f, mode=\"r\") as fl:\n",
    "        for line in fl:\n",
    "            for w in line.split():\n",
    "                dofc[f][w] += 1\n",
    "\n",
    "# print(dofc)\n",
    "for text in dofc:\n",
    "    print(\"В\", text, \"есть слова: \")\n",
    "    for word in dofc[text]:\n",
    "        print(\"---\", word)\n",
    "    print()"
   ]
  },
  {
   "cell_type": "markdown",
   "metadata": {},
   "source": [
    "---"
   ]
  },
  {
   "cell_type": "markdown",
   "metadata": {},
   "source": [
    "То, что Вы реализовали выше, есть ни что иное, как простая реализация **bag-of-words (мешок слов)** для корпуса из 9 документов."
   ]
  },
  {
   "cell_type": "markdown",
   "metadata": {},
   "source": [
    "## Список материалов для самостоятельного изучения"
   ]
  },
  {
   "cell_type": "markdown",
   "metadata": {},
   "source": [
    "* *Сайт языка Python* - https://www.python.org/"
   ]
  },
  {
   "cell_type": "markdown",
   "metadata": {},
   "source": [
    "* *Курс Python с нуля, можно выполнять задания в интерактивном режиме* - http://pythontutor.ru/"
   ]
  },
  {
   "cell_type": "markdown",
   "metadata": {},
   "source": [
    "* *Новый онлайн-курс по Питону на Coursera от Mail.Ru Group* - https://www.coursera.org/learn/programming-in-python"
   ]
  },
  {
   "cell_type": "markdown",
   "metadata": {},
   "source": [
    "* *Самоучитель Python* - https://pythonworld.ru/samouchitel-python"
   ]
  },
  {
   "cell_type": "markdown",
   "metadata": {},
   "source": [
    "* *Статья про коварности Python* - https://habrahabr.ru/company/mailru/blog/337364/"
   ]
  },
  {
   "cell_type": "markdown",
   "metadata": {},
   "source": [
    "* *Очень полезные трюки в Jupyter Notebook*: https://www.dataquest.io/blog/jupyter-notebook-tips-tricks-shortcuts/"
   ]
  }
 ],
 "metadata": {
  "kernelspec": {
   "display_name": "Python 3",
   "language": "python",
   "name": "python3"
  },
  "language_info": {
   "codemirror_mode": {
    "name": "ipython",
    "version": 3
   },
   "file_extension": ".py",
   "mimetype": "text/x-python",
   "name": "python",
   "nbconvert_exporter": "python",
   "pygments_lexer": "ipython3",
   "version": "3.6.3"
  }
 },
 "nbformat": 4,
 "nbformat_minor": 2
}
