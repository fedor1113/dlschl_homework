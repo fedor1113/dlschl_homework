{
 "cells": [
  {
   "cell_type": "markdown",
   "metadata": {},
   "source": [
    "# Школа глубокого обучения\n",
    "\n",
    "<a href=\"https://mipt.ru/science/labs/laboratoriya-neyronnykh-sistem-i-glubokogo-obucheniya/\"><img align=\"right\" src=\"https://avatars1.githubusercontent.com/u/29918795?v=4&s=200\" alt=\"DeepHackLab\" style=\"position:relative;top:-40px;right:10px;height:100px;\" /></a>\n",
    "\n",
    "\n",
    "\n",
    "### Физтех-Школа Прикладной математики и информатики МФТИ \n",
    "### Лаборатория нейронных сетей и глубокого обучения (DeepHackLab)"
   ]
  },
  {
   "cell_type": "markdown",
   "metadata": {},
   "source": [
    "## Занятие 1. Python и Jupyter Notebook"
   ]
  },
  {
   "cell_type": "markdown",
   "metadata": {},
   "source": [
    "*Захаркин Илья (ФИВТ 3 курс)*"
   ]
  },
  {
   "cell_type": "markdown",
   "metadata": {},
   "source": [
    "<img align=left src=\"https://cdn.fedoramagazine.org/wp-content/uploads/2015/11/Python_logo.png\" style=\"height:160px;\" />\n",
    "\n",
    "<img align=center src=\"https://1.bp.blogspot.com/-16utHnlB3Ao/V4tpG8NBX0I/AAAAAAAAA7M/vDQ1p40JpE8M34eCr-UdriSV04Dn8au7QCLcB/s1600/jupyter-logo.png\" style=\"height:90px;\" />"
   ]
  },
  {
   "cell_type": "markdown",
   "metadata": {},
   "source": [
    "---"
   ]
  },
  {
   "cell_type": "markdown",
   "metadata": {},
   "source": [
    "**Приветствуем Вас в Школе Глубокого Обучения от Физтех-Школы ПМИ МФТИ!**  \n",
    "\n",
    "Перед тем как начать складывать уровни нейросеточек как блинчики, нужно быть хорошо знакомым с библиотеками глубокого обучения и языком, на котором они написаны. \n",
    "В нашем курсе мы будем использовать язык **Python**, так как он является оптимальным сочетанием простоты, силы и количества библиотек глубокого обучения, написанных для него. "
   ]
  },
  {
   "cell_type": "markdown",
   "metadata": {},
   "source": [
    "На этом занятии мы научимся:  \n",
    "\n",
    "- Установить интерактивную среду разработки на Python - Jupyter Notebook и разобраться, как в ней работать\n",
    "- Установить сам Python\n",
    "- Научиться (или освежить память) писать программы на Python, изучив его основы\n",
    "- Научиться писать производительный код с помощью библиотеки NumPy\n",
    "- Научиться строить графики с помощью библиотеки Matplotlib"
   ]
  },
  {
   "cell_type": "markdown",
   "metadata": {},
   "source": [
    "## Установка Jupyter\n",
    "\n",
    "Инструкция по установке Jupyter Notebook: http://jupyter.readthedocs.org/en/latest/install.html\n",
    "\n",
    "После установки запуск осуществляется командой в консоли:  \n",
    "\n",
    "`jupyter notebook`\n",
    "\n",
    "Через несколько секунд должна открыться страница в браузере со списком файлов директории, в котороый была запущена команда (можно не ждать и самим перейти по http://localhost:8888/ - обычно там располагается локальный \"сервер\" Jupyter Notebook`а)."
   ]
  },
  {
   "cell_type": "markdown",
   "metadata": {},
   "source": [
    "## Онлайн Jupyter Notebook\n",
    "\n",
    "Можно ничего не устанавливать и работать с сайтом https://try.jupyter.org/\n",
    "\n",
    "На сайте можно создать новый файл `(New -> Python 2/3)` или загрузить файл с компьютера с помощью `Upload`.\n",
    "\n",
    "Будьте внимательны!\n",
    "<b>Сайт не сохраняет ваши файлы</b> и удаляет их после закрытия страницы.\n",
    "Чтобы загрузить файл себе откройте его нажмите `File -> Download as -> ipynb`.\n",
    "\n",
    "Можно так же пользоваться сайтом https://cloud.sagemath.com/."
   ]
  },
  {
   "cell_type": "markdown",
   "metadata": {},
   "source": [
    "# Работа с Python в Jupyter Notebook\n",
    "\n",
    "Чтобы создать новый файл, кликните New -> Python.\n",
    "\n",
    "Ноутбук состоит из ячеек (cells), которые бывают текстовыми (Markdown) и кодовыми (Code).\n",
    "Выбрать тип ячейки можно на панели управления.\n",
    "\n",
    "Работа с ячейками:\n",
    "<ul>\n",
    "    <li> Выбор ячейки — нажмите на нее мышкой.</li>\n",
    "    <li> Редактирование — нажмите на нее два раза.</li>\n",
    "    <li> Запуск ячейки — `SHIFT+ENTER` или нажмите на кнопку <button class='fa fa-play icon-play btn btn-xs btn-default'></button> на панеле.</li>\n",
    "    <li> Добавление новой ячейки — нажмите на кнопку <button class='fa fa-plus icon-plus btn btn-xs btn-default'></button> на панеле.</li>\n",
    "    <li> Удаление ячейки — нажмите на кнопку <button class='fa fa-cut icon-cut btn btn-xs btn-default'></button> на панеле.</li>\n",
    "    <li> Перемещение ячейки — нажмите на вертикальные стрелки.</li>\n",
    "</ul>"
   ]
  },
  {
   "cell_type": "markdown",
   "metadata": {},
   "source": [
    "Текстовые ячейки содержат в себе обычный текст, который может включать в себя формулы $\\LaTeX$ и `html`-команды:  \n",
    "\n",
    "$$f(x) = \\frac{1}{x}$$  \n",
    "\n",
    "$\\LaTeX$ cheat sheet -  https://wch.github.io/latexsheet/"
   ]
  },
  {
   "cell_type": "markdown",
   "metadata": {},
   "source": [
    "## Основы Python"
   ]
  },
  {
   "cell_type": "markdown",
   "metadata": {},
   "source": [
    "Сейчас существуют две часто используемые версии Питона — **Python 2** и **Python 3**. Эти версии довольно похожи, но есть отличия, из-за которых они **не являются совместимыми** - программы, написанные на одной версии языка, могут не работать в другой.  \n",
    "\n",
    "В нашем курсе мы будем писать на **Python 3**. Точная версия не принципиальна, но она должна быть >= 3.5  \n",
    "\n",
    "Если Вы пользуетесь каким-либо из дистрибутивов Linux, то Python скорее всего уже установлен.\n",
    "Попробуйте в терминале следующие команды для запуска интерактивного режима работы:\n",
    "\n",
    "`python` или `python3` или `python2`\n",
    "\n",
    "Выход: `Ctrl+D`\n",
    "\n",
    "Режим работы, в котором выполнится код из файла main.py\n",
    "\n",
    "`python main.py`\n",
    "\n",
    "Помощь: **`help(X)`**, где `X` — то, по чему нужна помощь.  \n",
    "Выход из помощи: `q`."
   ]
  },
  {
   "cell_type": "markdown",
   "metadata": {},
   "source": [
    "<img align=center src=\"http://images7.memedroid.com/images/UPLOADED973/596e4c96650e5.jpeg\" style=\"height:400px;\"/>"
   ]
  },
  {
   "cell_type": "markdown",
   "metadata": {},
   "source": [
    "## Общая информация о языке\n",
    "\n",
    "**Название** - **«Питон» или «Пайтон»** (в честь комедийных серий BBC «Летающий цирк Монти-Пайтона»)  \n",
    "**Создатель** - **голландец Гвидо ван Россум (Guido van Rossum)** (в 1991 году)  \n",
    "\n",
    "**Особенности**:  \n",
    "- интерпретируемый\n",
    "- объектно-ориентированный\n",
    "- высокоуровневый язык\n",
    "- встроенные высокоуровневые структуры данных\n",
    "- динамическая типизация\n",
    "- синтаксис прост в изучении\n",
    "- поддержка модулей и пакетов (большинство библиотек\n",
    "бесплатны)\n",
    "- универсальный\n",
    "- интеграция с другими языками (C (Cython), C++, Java (JPython))  \n",
    "\n",
    "**Стиль оформления кода** - **PEP8** (если Вы хороший человек).  \n",
    "\n",
    "*Самое главное из PEP8:*  \n",
    "- отступ – 4 пробела\n",
    "- длина строки < 80 символов\n",
    "- переменные: var_recommended\n",
    "- константы: CONST_RECOMMENDED"
   ]
  },
  {
   "cell_type": "code",
   "execution_count": null,
   "metadata": {
    "collapsed": true
   },
   "outputs": [],
   "source": [
    "import this"
   ]
  },
  {
   "cell_type": "markdown",
   "metadata": {},
   "source": [
    "## Типы"
   ]
  },
  {
   "cell_type": "markdown",
   "metadata": {},
   "source": [
    "**Все типы данных** в Python относятся к одной из **2-х категорий**: **изменяемые (mutable)** и **неизменяемые (immutable)**.   \n",
    "\n",
    "*Неизменяемые объекты*:  \n",
    "* числовые данные (int, float), \n",
    "* bool,\n",
    "* None,\n",
    "* символьные строки (class 'str'), \n",
    "* кортежи (tuple).  \n",
    "\n",
    "*Изменяемые объекты*:  \n",
    "* списки (list), \n",
    "* множества (set), \n",
    "* словари (dict).  \n",
    "\n",
    "Вновь определяемые пользователем типы (классы) могут быть определены как неизменяемые или изменяемые. Изменяемость объектов определённого типа является принципиально важной характеристикой, определяющей, может ли объект такого типа **выступать в качестве ключа для словарей (dict)** или нет."
   ]
  },
  {
   "cell_type": "markdown",
   "metadata": {},
   "source": [
    "### int"
   ]
  },
  {
   "cell_type": "code",
   "execution_count": null,
   "metadata": {
    "collapsed": true
   },
   "outputs": [],
   "source": [
    "x = 5\n",
    "\n",
    "print(x, '|', type(x))"
   ]
  },
  {
   "cell_type": "code",
   "execution_count": null,
   "metadata": {
    "collapsed": true
   },
   "outputs": [],
   "source": [
    "a = 4 + 5\n",
    "b = 4 * 5\n",
    "c = 5 // 4\n",
    "\n",
    "print(a, b, c)"
   ]
  },
  {
   "cell_type": "code",
   "execution_count": null,
   "metadata": {
    "collapsed": true
   },
   "outputs": [],
   "source": [
    "print( -(5 // 4) )"
   ]
  },
  {
   "cell_type": "code",
   "execution_count": null,
   "metadata": {
    "collapsed": true
   },
   "outputs": [],
   "source": [
    "print( -5 // 4 )"
   ]
  },
  {
   "cell_type": "code",
   "execution_count": null,
   "metadata": {
    "collapsed": true
   },
   "outputs": [],
   "source": [
    "x = 5 * 1000000000 * 1000000000 * 10**9 + 1\n",
    "print(x, '|', type(x))"
   ]
  },
  {
   "cell_type": "markdown",
   "metadata": {},
   "source": [
    "### float"
   ]
  },
  {
   "cell_type": "code",
   "execution_count": null,
   "metadata": {
    "collapsed": true
   },
   "outputs": [],
   "source": [
    "y = 12.345\n",
    "\n",
    "print(y, type(y))"
   ]
  },
  {
   "cell_type": "code",
   "execution_count": null,
   "metadata": {
    "collapsed": true
   },
   "outputs": [],
   "source": [
    "a = 4.2 + 5.1\n",
    "b = 4.2 * 5.1\n",
    "c = 5.0 / 4.0\n",
    "\n",
    "print(a, b, c)"
   ]
  },
  {
   "cell_type": "code",
   "execution_count": null,
   "metadata": {
    "collapsed": true
   },
   "outputs": [],
   "source": [
    "a = 5\n",
    "b = 4\n",
    "print(float(a) / float(b))"
   ]
  },
  {
   "cell_type": "code",
   "execution_count": null,
   "metadata": {
    "collapsed": true
   },
   "outputs": [],
   "source": [
    "print(a / b)"
   ]
  },
  {
   "cell_type": "markdown",
   "metadata": {},
   "source": [
    "### bool"
   ]
  },
  {
   "cell_type": "code",
   "execution_count": null,
   "metadata": {
    "collapsed": true
   },
   "outputs": [],
   "source": [
    "a = True\n",
    "b = False\n",
    "\n",
    "print(a, '|', type(a))\n",
    "\n",
    "print(b, '|', type(b))"
   ]
  },
  {
   "cell_type": "code",
   "execution_count": null,
   "metadata": {
    "collapsed": true
   },
   "outputs": [],
   "source": [
    "print(a + b)\n",
    "print(a + a)\n",
    "print(b + b)"
   ]
  },
  {
   "cell_type": "code",
   "execution_count": null,
   "metadata": {
    "collapsed": true
   },
   "outputs": [],
   "source": [
    "print(int(a), int(b))"
   ]
  },
  {
   "cell_type": "code",
   "execution_count": null,
   "metadata": {
    "collapsed": true
   },
   "outputs": [],
   "source": [
    "print(True and False, '\\n')\n",
    "\n",
    "print(True or True, '\\n')\n",
    "\n",
    "print(not False, '\\n')"
   ]
  },
  {
   "cell_type": "markdown",
   "metadata": {},
   "source": [
    "### None"
   ]
  },
  {
   "cell_type": "code",
   "execution_count": null,
   "metadata": {
    "collapsed": true
   },
   "outputs": [],
   "source": [
    "z = None\n",
    "print(z, '|', type(z))"
   ]
  },
  {
   "cell_type": "code",
   "execution_count": null,
   "metadata": {
    "collapsed": true
   },
   "outputs": [],
   "source": [
    "int(z)"
   ]
  },
  {
   "cell_type": "code",
   "execution_count": null,
   "metadata": {
    "collapsed": true
   },
   "outputs": [],
   "source": [
    "if z is None:\n",
    "    z = 'I am None!'\n",
    "z"
   ]
  },
  {
   "cell_type": "markdown",
   "metadata": {},
   "source": [
    "### str"
   ]
  },
  {
   "cell_type": "markdown",
   "metadata": {},
   "source": [
    "В *python2.7* есть отдельный тип **unicode**. В *python3.5 (и выше)* (который будем использовать мы) всё это включено в тип **str**."
   ]
  },
  {
   "cell_type": "code",
   "execution_count": null,
   "metadata": {
    "collapsed": true
   },
   "outputs": [],
   "source": [
    "x = \"abc\"\n",
    "y = 'xyz'\n",
    "print(x, '|', type(x))\n",
    "print(y, '|', type(y))"
   ]
  },
  {
   "cell_type": "code",
   "execution_count": null,
   "metadata": {
    "collapsed": true
   },
   "outputs": [],
   "source": [
    "a = 'Андрей'\n",
    "b = \"Михайлович\"\n",
    "s = a + \" \" + b\n",
    "print(s)"
   ]
  },
  {
   "cell_type": "code",
   "execution_count": null,
   "metadata": {
    "collapsed": true
   },
   "outputs": [],
   "source": [
    "print(a.upper())\n",
    "print(a.lower())"
   ]
  },
  {
   "cell_type": "code",
   "execution_count": null,
   "metadata": {
    "collapsed": true
   },
   "outputs": [],
   "source": [
    "print(len(a))"
   ]
  },
  {
   "cell_type": "code",
   "execution_count": null,
   "metadata": {
    "collapsed": true
   },
   "outputs": [],
   "source": [
    "print(bool(a))\n",
    "print(bool(\"\" + ''))"
   ]
  },
  {
   "cell_type": "code",
   "execution_count": null,
   "metadata": {
    "collapsed": true
   },
   "outputs": [],
   "source": [
    "print(a)\n",
    "print(a[0])\n",
    "print(a[1])\n",
    "print(a[0:3])"
   ]
  },
  {
   "cell_type": "code",
   "execution_count": null,
   "metadata": {
    "collapsed": true
   },
   "outputs": [],
   "source": [
    "print(a[0:4:2])"
   ]
  },
  {
   "cell_type": "code",
   "execution_count": null,
   "metadata": {
    "collapsed": true
   },
   "outputs": [],
   "source": [
    "x = 'Роберт Дауни Младший'\n",
    "print(x, type(x))\n",
    "y = x.encode('utf-8')\n",
    "print(y, type(y))\n",
    "z = y.decode('utf-8')\n",
    "print(z, type(z))\n",
    "q = y.decode('cp1251')\n",
    "print(q, type(q))"
   ]
  },
  {
   "cell_type": "markdown",
   "metadata": {},
   "source": [
    "### Метод `split()`:"
   ]
  },
  {
   "cell_type": "code",
   "execution_count": null,
   "metadata": {
    "collapsed": true
   },
   "outputs": [],
   "source": [
    "splitted_line = \"Райгородский Андрей Михайлович\".split(' ')\n",
    "print(splitted_line)"
   ]
  },
  {
   "cell_type": "markdown",
   "metadata": {},
   "source": [
    "### tuple"
   ]
  },
  {
   "cell_type": "code",
   "execution_count": null,
   "metadata": {
    "collapsed": true
   },
   "outputs": [],
   "source": [
    "t = ('a', 5, 12.345)\n",
    "t"
   ]
  },
  {
   "cell_type": "code",
   "execution_count": null,
   "metadata": {
    "collapsed": true
   },
   "outputs": [],
   "source": [
    "t.append(5)"
   ]
  },
  {
   "cell_type": "code",
   "execution_count": null,
   "metadata": {
    "collapsed": true
   },
   "outputs": [],
   "source": [
    "dir(t)"
   ]
  },
  {
   "cell_type": "code",
   "execution_count": null,
   "metadata": {
    "collapsed": true
   },
   "outputs": [],
   "source": [
    "t.index('a')"
   ]
  },
  {
   "cell_type": "code",
   "execution_count": null,
   "metadata": {
    "collapsed": true
   },
   "outputs": [],
   "source": [
    "t[2]"
   ]
  },
  {
   "cell_type": "code",
   "execution_count": null,
   "metadata": {
    "collapsed": true
   },
   "outputs": [],
   "source": [
    "m = (1, 2, 3)\n",
    "\n",
    "t + m"
   ]
  },
  {
   "cell_type": "code",
   "execution_count": null,
   "metadata": {
    "collapsed": true
   },
   "outputs": [],
   "source": [
    "t - m"
   ]
  },
  {
   "cell_type": "code",
   "execution_count": null,
   "metadata": {
    "collapsed": true
   },
   "outputs": [],
   "source": [
    "len(m)"
   ]
  },
  {
   "cell_type": "markdown",
   "metadata": {},
   "source": [
    "#### Поменять переменные местами"
   ]
  },
  {
   "cell_type": "code",
   "execution_count": null,
   "metadata": {
    "collapsed": true
   },
   "outputs": [],
   "source": [
    "a = -5\n",
    "b = 100\n",
    "\n",
    "a, b = b, a\n",
    "\n",
    "print('a:', a, '\\nb:', b)"
   ]
  },
  {
   "cell_type": "markdown",
   "metadata": {},
   "source": [
    "### Немного про встроенные функции"
   ]
  },
  {
   "cell_type": "markdown",
   "metadata": {},
   "source": [
    "В Python есть так называем **магические** (или служебные) методы - они начинаются и заканчиваются на двойное нижнее подчёркивание: \\__len\\__, \\__add\\__ ..."
   ]
  },
  {
   "cell_type": "code",
   "execution_count": null,
   "metadata": {
    "collapsed": true
   },
   "outputs": [],
   "source": [
    "__builtin__"
   ]
  },
  {
   "cell_type": "markdown",
   "metadata": {},
   "source": [
    "Также в Python есть **встроенные** функции и методы, которые являются в некотором смысле универсальными.  \n",
    "Функция `dir()` выводит список всех атрибутов (имён - методы, функции, классы..), которые есть у модуля/класса/объекта:"
   ]
  },
  {
   "cell_type": "markdown",
   "metadata": {},
   "source": [
    "Давайте посмотрим на встроенные и служебные имена Python (не все):"
   ]
  },
  {
   "cell_type": "code",
   "execution_count": null,
   "metadata": {
    "collapsed": true,
    "scrolled": true
   },
   "outputs": [],
   "source": [
    "dir(__builtin__)"
   ]
  },
  {
   "cell_type": "markdown",
   "metadata": {},
   "source": [
    "---\n",
    "### Задание 1\n",
    "\n",
    "Выведите список атрибутов класса Exception."
   ]
  },
  {
   "cell_type": "code",
   "execution_count": 6,
   "metadata": {},
   "outputs": [
    {
     "name": "stdout",
     "output_type": "stream",
     "text": [
      "['__cause__', '__class__', '__context__', '__delattr__', '__dict__', '__dir__', '__doc__', '__eq__', '__format__', '__ge__', '__getattribute__', '__gt__', '__hash__', '__init__', '__init_subclass__', '__le__', '__lt__', '__ne__', '__new__', '__reduce__', '__reduce_ex__', '__repr__', '__setattr__', '__setstate__', '__sizeof__', '__str__', '__subclasshook__', '__suppress_context__', '__traceback__', 'args', 'with_traceback']\n"
     ]
    }
   ],
   "source": [
    "# Ваш код здесь\n",
    "print(dir(Exception))"
   ]
  },
  {
   "cell_type": "markdown",
   "metadata": {},
   "source": [
    "---"
   ]
  },
  {
   "cell_type": "markdown",
   "metadata": {},
   "source": [
    "### Полезно"
   ]
  },
  {
   "cell_type": "markdown",
   "metadata": {},
   "source": [
    "- При вызове метода какого-то класса (или функции какого-то модуля) можно написать его имя и через точку нажать **tab**:  \n",
    "\n",
    "<имя\\_объекта\\_класса(модуля)>**.[tab]**  \n",
    "\n",
    "Тогда всплывёт меню, в котором можно выбрать из всех существующих в этом классе методов (функций модуля)."
   ]
  },
  {
   "cell_type": "code",
   "execution_count": null,
   "metadata": {
    "collapsed": true
   },
   "outputs": [],
   "source": [
    "__builtin__.help()"
   ]
  },
  {
   "cell_type": "markdown",
   "metadata": {},
   "source": [
    "- Получение быстрой справки (help()) для любого объекта Python:"
   ]
  },
  {
   "cell_type": "code",
   "execution_count": null,
   "metadata": {
    "collapsed": true
   },
   "outputs": [],
   "source": [
    "?__builtin__"
   ]
  },
  {
   "cell_type": "markdown",
   "metadata": {},
   "source": [
    "### Структуры данных и встроенные функции"
   ]
  },
  {
   "cell_type": "markdown",
   "metadata": {},
   "source": [
    "### list"
   ]
  },
  {
   "cell_type": "code",
   "execution_count": null,
   "metadata": {
    "collapsed": true
   },
   "outputs": [],
   "source": [
    "a = list()\n",
    "b = []\n",
    "\n",
    "print(a == b)"
   ]
  },
  {
   "cell_type": "code",
   "execution_count": null,
   "metadata": {
    "collapsed": true
   },
   "outputs": [],
   "source": [
    "my_list = ['string', 100, 5.678, None]\n",
    "my_list"
   ]
  },
  {
   "cell_type": "markdown",
   "metadata": {},
   "source": [
    "* `list(range(start, end[, step]))` - получить последовательность (список) целых чисел, начинающуюся со `start`, заканчивающуюся в `end-1` и шагом `step`"
   ]
  },
  {
   "cell_type": "code",
   "execution_count": null,
   "metadata": {
    "collapsed": true
   },
   "outputs": [],
   "source": [
    "array = range(1, 10, 2)\n",
    "print(array, '|', type(array))"
   ]
  },
  {
   "cell_type": "code",
   "execution_count": null,
   "metadata": {
    "collapsed": true
   },
   "outputs": [],
   "source": [
    "array = list(array)\n",
    "print(array, '|', type(array))"
   ]
  },
  {
   "cell_type": "code",
   "execution_count": null,
   "metadata": {
    "collapsed": true
   },
   "outputs": [],
   "source": [
    "array[1]"
   ]
  },
  {
   "cell_type": "code",
   "execution_count": null,
   "metadata": {
    "collapsed": true
   },
   "outputs": [],
   "source": [
    "array[-1]"
   ]
  },
  {
   "cell_type": "code",
   "execution_count": null,
   "metadata": {
    "collapsed": true
   },
   "outputs": [],
   "source": [
    "for i in range(5):\n",
    "    print(i)"
   ]
  },
  {
   "cell_type": "markdown",
   "metadata": {},
   "source": [
    "* Перевернуть список:"
   ]
  },
  {
   "cell_type": "code",
   "execution_count": null,
   "metadata": {
    "collapsed": true
   },
   "outputs": [],
   "source": [
    "array = array[::-1]\n",
    "array"
   ]
  },
  {
   "cell_type": "markdown",
   "metadata": {},
   "source": [
    "* Срезы (`slice`'s) - это объекты языка Python, позволяющие получить какую-то часть итерируемого объекта.  \n",
    "Пример:"
   ]
  },
  {
   "cell_type": "code",
   "execution_count": null,
   "metadata": {
    "collapsed": true
   },
   "outputs": [],
   "source": [
    "foo = list(range(10))\n",
    "foo"
   ]
  },
  {
   "cell_type": "code",
   "execution_count": null,
   "metadata": {
    "collapsed": true
   },
   "outputs": [],
   "source": [
    "foo[:5]"
   ]
  },
  {
   "cell_type": "code",
   "execution_count": null,
   "metadata": {
    "collapsed": true
   },
   "outputs": [],
   "source": [
    "foo[5:]"
   ]
  },
  {
   "cell_type": "code",
   "execution_count": null,
   "metadata": {
    "collapsed": true
   },
   "outputs": [],
   "source": [
    "foo[2:5]"
   ]
  },
  {
   "cell_type": "code",
   "execution_count": null,
   "metadata": {
    "collapsed": true
   },
   "outputs": [],
   "source": [
    "slice_2_5 = slice(2, 5)\n",
    "print(slice_2_5, '|', type(slice_2_5))"
   ]
  },
  {
   "cell_type": "code",
   "execution_count": null,
   "metadata": {
    "collapsed": true
   },
   "outputs": [],
   "source": [
    "foo[slice_2_5]"
   ]
  },
  {
   "cell_type": "markdown",
   "metadata": {},
   "source": [
    "* `S.join(iterable)` - возвращает строку, которая является конкатенацией строк из `iterable`. Разделитель между строками - строка `S`"
   ]
  },
  {
   "cell_type": "code",
   "execution_count": null,
   "metadata": {
    "collapsed": true
   },
   "outputs": [],
   "source": [
    "str_array = ['a', 'b', 'c', 'd', 'e']"
   ]
  },
  {
   "cell_type": "code",
   "execution_count": null,
   "metadata": {
    "collapsed": true
   },
   "outputs": [],
   "source": [
    "' '.join(str_array)"
   ]
  },
  {
   "cell_type": "code",
   "execution_count": null,
   "metadata": {
    "collapsed": true
   },
   "outputs": [],
   "source": [
    "'!_and_!'.join(str_array)"
   ]
  },
  {
   "cell_type": "markdown",
   "metadata": {},
   "source": [
    "* Списки можно \"склеивать\":"
   ]
  },
  {
   "cell_type": "code",
   "execution_count": null,
   "metadata": {
    "collapsed": true
   },
   "outputs": [],
   "source": [
    "a = [1, 2, 3]\n",
    "b = [4, 5, 6]\n",
    "\n",
    "print(a + b)"
   ]
  },
  {
   "cell_type": "markdown",
   "metadata": {},
   "source": [
    "### Методы класса list"
   ]
  },
  {
   "cell_type": "code",
   "execution_count": null,
   "metadata": {
    "collapsed": true,
    "scrolled": true
   },
   "outputs": [],
   "source": [
    "dir(list)"
   ]
  },
  {
   "cell_type": "markdown",
   "metadata": {},
   "source": [
    "* `L.append(element)` - добавляет элемент `element` в список `L`"
   ]
  },
  {
   "cell_type": "code",
   "execution_count": null,
   "metadata": {
    "collapsed": true
   },
   "outputs": [],
   "source": [
    "l = [4, 5, 1, 3, 2]\n",
    "\n",
    "l.append('BANG!')\n",
    "l"
   ]
  },
  {
   "cell_type": "markdown",
   "metadata": {},
   "source": [
    "* `sorted(iterable, key)` - возвращает объект, являющийся отсортированной в соответствии с компаратором (по ключу) `key` версией объекта `iterable`. **НЕ изменяет начальный объект!**"
   ]
  },
  {
   "cell_type": "code",
   "execution_count": null,
   "metadata": {
    "collapsed": true
   },
   "outputs": [],
   "source": [
    "print(sorted(l), '|', l)"
   ]
  },
  {
   "cell_type": "code",
   "execution_count": null,
   "metadata": {
    "collapsed": true
   },
   "outputs": [],
   "source": [
    "l.pop()"
   ]
  },
  {
   "cell_type": "code",
   "execution_count": null,
   "metadata": {
    "collapsed": true
   },
   "outputs": [],
   "source": [
    "print(sorted(l), '|', l)"
   ]
  },
  {
   "cell_type": "code",
   "execution_count": 3,
   "metadata": {
    "collapsed": true
   },
   "outputs": [],
   "source": [
    "def cmp(string):\n",
    "    return len(string)"
   ]
  },
  {
   "cell_type": "code",
   "execution_count": null,
   "metadata": {
    "collapsed": true
   },
   "outputs": [],
   "source": [
    "names = ['Александр', 'Василий', 'Анастасия', 'Соня', 'Френк', 'Оля']\n",
    "sorted(names, key=cmp)"
   ]
  },
  {
   "cell_type": "code",
   "execution_count": null,
   "metadata": {
    "collapsed": true
   },
   "outputs": [],
   "source": [
    "names = ['Александр', 'Василий', 'Анастасия', 'Соня', 'Френк', 'Оля']\n",
    "sorted(names, key=lambda x: len(x))"
   ]
  },
  {
   "cell_type": "code",
   "execution_count": null,
   "metadata": {
    "collapsed": true
   },
   "outputs": [],
   "source": [
    "names"
   ]
  },
  {
   "cell_type": "markdown",
   "metadata": {},
   "source": [
    "* `L.sort(key)` - сортирует лист L в соответствии с компаратором (по ключу) key. **Изменяет начальный объект!**"
   ]
  },
  {
   "cell_type": "code",
   "execution_count": null,
   "metadata": {
    "collapsed": true
   },
   "outputs": [],
   "source": [
    "l = [1, 2, 3, 4, 5]\n",
    "\n",
    "l.append('BANG!')\n",
    "l\n",
    "\n",
    "l.sort()"
   ]
  },
  {
   "cell_type": "code",
   "execution_count": null,
   "metadata": {
    "collapsed": true
   },
   "outputs": [],
   "source": [
    "l.pop()"
   ]
  },
  {
   "cell_type": "code",
   "execution_count": null,
   "metadata": {
    "collapsed": true
   },
   "outputs": [],
   "source": [
    "l"
   ]
  },
  {
   "cell_type": "code",
   "execution_count": null,
   "metadata": {
    "collapsed": true
   },
   "outputs": [],
   "source": [
    "l.sort(reverse=True)\n",
    "l"
   ]
  },
  {
   "cell_type": "markdown",
   "metadata": {},
   "source": [
    "* `L.count(element)` - возвращает количество вхождений элемента `element` в список `L`"
   ]
  },
  {
   "cell_type": "code",
   "execution_count": null,
   "metadata": {
    "collapsed": true
   },
   "outputs": [],
   "source": [
    "l.count(1)"
   ]
  },
  {
   "cell_type": "code",
   "execution_count": null,
   "metadata": {
    "collapsed": true
   },
   "outputs": [],
   "source": [
    "l.count('padabum')"
   ]
  },
  {
   "cell_type": "code",
   "execution_count": null,
   "metadata": {
    "collapsed": true
   },
   "outputs": [],
   "source": [
    "len(l)"
   ]
  },
  {
   "cell_type": "markdown",
   "metadata": {},
   "source": [
    "`L.index(element)` - возвращает индекс элемента `element` в списке `L`, если он там присутствует, `None` иначе"
   ]
  },
  {
   "cell_type": "code",
   "execution_count": null,
   "metadata": {
    "collapsed": true
   },
   "outputs": [],
   "source": [
    "l.index(3)"
   ]
  },
  {
   "cell_type": "markdown",
   "metadata": {},
   "source": [
    "---"
   ]
  },
  {
   "cell_type": "markdown",
   "metadata": {},
   "source": [
    "### Задание 2\n"
   ]
  },
  {
   "cell_type": "markdown",
   "metadata": {},
   "source": [
    "1. Создайте два списка одинаковых размеров из одинаковых элементов:  \n",
    "`items = [какие-то элементы]`  \n",
    "`shuffled_items = [эти же элементы, но расставленные в другом порядке]`  \n",
    "\n",
    "2. Отсортируйте список `items` в соответствие с ключом так, чтобы получился список `shuffled_items`"
   ]
  },
  {
   "cell_type": "code",
   "execution_count": 4,
   "metadata": {},
   "outputs": [
    {
     "name": "stdout",
     "output_type": "stream",
     "text": [
      "['potatoes', 'tomatoes', 'and... unicorns!', 'potatoes', 'tomatoes', 'and... unicorns!', 'potatoes', 'tomatoes', 'and... unicorns!', 'potatoes', 'tomatoes', 'and... unicorns!', 'potatoes', 'tomatoes', 'and... unicorns!', 'potatoes', 'tomatoes', 'and... unicorns!', 'potatoes', 'tomatoes', 'and... unicorns!']\n",
      "['and... unicorns!', 'and... unicorns!', 'and... unicorns!', 'and... unicorns!', 'and... unicorns!', 'and... unicorns!', 'and... unicorns!', 'potatoes', 'tomatoes', 'potatoes', 'tomatoes', 'potatoes', 'tomatoes', 'potatoes', 'tomatoes', 'potatoes', 'tomatoes', 'potatoes', 'tomatoes', 'potatoes', 'tomatoes']\n"
     ]
    }
   ],
   "source": [
    "# Ваш код здесь\n",
    "items = [\"potatoes\", \"tomatoes\", \"and... unicorns!\"]*7\n",
    "shuffled_items = list(sorted(items, key=lambda x: -(cmp(x))))\n",
    "\n",
    "print(items)\n",
    "print(shuffled_items)"
   ]
  },
  {
   "cell_type": "markdown",
   "metadata": {},
   "source": [
    "---"
   ]
  },
  {
   "cell_type": "markdown",
   "metadata": {},
   "source": [
    "### Циклы - for и while"
   ]
  },
  {
   "cell_type": "code",
   "execution_count": null,
   "metadata": {
    "collapsed": true
   },
   "outputs": [],
   "source": [
    "models = ['decision tree', 'linear model', 'svm', 'ensemble']\n",
    "\n",
    "for model in models:\n",
    "    print(model)"
   ]
  },
  {
   "cell_type": "code",
   "execution_count": null,
   "metadata": {
    "collapsed": true
   },
   "outputs": [],
   "source": [
    "x = 100\n",
    "\n",
    "while x > 50:\n",
    "    x -= 10\n",
    "    print(x)"
   ]
  },
  {
   "cell_type": "markdown",
   "metadata": {},
   "source": [
    "### enumerate, zip"
   ]
  },
  {
   "cell_type": "code",
   "execution_count": null,
   "metadata": {
    "collapsed": true
   },
   "outputs": [],
   "source": [
    "first = 'a b c d e f g'.split(' ')\n",
    "second = '1 2 3 4 5 6 7'.split(' ')\n",
    "\n",
    "zip(first, second)"
   ]
  },
  {
   "cell_type": "code",
   "execution_count": null,
   "metadata": {
    "collapsed": true
   },
   "outputs": [],
   "source": [
    "list(zip(first, second))"
   ]
  },
  {
   "cell_type": "code",
   "execution_count": null,
   "metadata": {
    "collapsed": true
   },
   "outputs": [],
   "source": [
    "methods = dir(__builtin__)\n",
    "\n",
    "for num, method in enumerate(methods):\n",
    "    if num % 5 == 0:\n",
    "        print(num, method)"
   ]
  },
  {
   "cell_type": "code",
   "execution_count": null,
   "metadata": {
    "collapsed": true
   },
   "outputs": [],
   "source": [
    "enum = enumerate(first)\n",
    "list(enum)"
   ]
  },
  {
   "cell_type": "code",
   "execution_count": null,
   "metadata": {
    "collapsed": true
   },
   "outputs": [],
   "source": [
    "enum = enumerate(first)\n",
    "zip_style = zip(range(0, len(first)), first)\n",
    "\n",
    "print(list(enum) == list(zip_style))"
   ]
  },
  {
   "cell_type": "markdown",
   "metadata": {},
   "source": [
    "---\n",
    "\n",
    "### Задание 3\n",
    "\n",
    "1. Создайте список `a`, состоящий из каких-то элементов.\n",
    "2. Создайте список `b` такого же размера, как `a`, состоящий из каких-то элементов.\n",
    "3. Выведите нумерованный список пар из элементов списков `a` и `b`."
   ]
  },
  {
   "cell_type": "code",
   "execution_count": 9,
   "metadata": {},
   "outputs": [
    {
     "name": "stdout",
     "output_type": "stream",
     "text": [
      "0 - The Mountains of Madness | Jonathan Strange\n",
      "1 - Magic Mirror | Harry Potter\n",
      "2 - Cthulhu | Nathaniel Chanticleer\n",
      "3 - Magic Wand | Gandalf\n",
      "4 - Invisibility Cloak | Sabriel\n",
      "5 - Resurrection Stone | Rincewind\n"
     ]
    }
   ],
   "source": [
    "# Ваш код здесь\n",
    "a = [\"The Mountains of Madness\", \"Magic Mirror\", \"Cthulhu\", \"Magic Wand\"\n",
    "     , \"Invisibility Cloak\", \"Resurrection Stone\"]\n",
    "b = [\"Jonathan Strange\", \"Harry Potter\", \"Nathaniel Chanticleer\", \"Gandalf\"\n",
    "     , \"Sabriel\", \"Rincewind\"]\n",
    "\n",
    "resl = list(enumerate(zip(a, b)))\n",
    "for e in resl:\n",
    "    print(e[0], \"-\", e[1][0], \"|\", e[1][1])"
   ]
  },
  {
   "cell_type": "markdown",
   "metadata": {},
   "source": [
    "---"
   ]
  },
  {
   "cell_type": "markdown",
   "metadata": {},
   "source": [
    "### list comprehensions"
   ]
  },
  {
   "cell_type": "code",
   "execution_count": null,
   "metadata": {
    "collapsed": true
   },
   "outputs": [],
   "source": [
    "a = [x for x in range(1, 6)]\n",
    "a"
   ]
  },
  {
   "cell_type": "code",
   "execution_count": null,
   "metadata": {
    "collapsed": true
   },
   "outputs": [],
   "source": [
    "def f(x):\n",
    "    return x ** 2"
   ]
  },
  {
   "cell_type": "code",
   "execution_count": null,
   "metadata": {
    "collapsed": true,
    "scrolled": true
   },
   "outputs": [],
   "source": [
    "b = [f(x) for x in range(1, 10)]\n",
    "c = [x ** 2 for x in range(1, 10)]\n",
    "print(b, '==', c)"
   ]
  },
  {
   "cell_type": "code",
   "execution_count": null,
   "metadata": {
    "collapsed": true
   },
   "outputs": [],
   "source": [
    "[x if x in 'aeiou' else '*' for x in 'apple']"
   ]
  },
  {
   "cell_type": "code",
   "execution_count": null,
   "metadata": {
    "collapsed": true
   },
   "outputs": [],
   "source": [
    "def foo(i):\n",
    "    return i, i + 1\n",
    "\n",
    "l = []\n",
    "for i in range(3):\n",
    "    for x in foo(i):\n",
    "        l.append(str(x))\n",
    "        \n",
    "l"
   ]
  },
  {
   "cell_type": "code",
   "execution_count": 58,
   "metadata": {},
   "outputs": [
    {
     "data": {
      "text/plain": [
       "['0', '1', '1', '2', '2', '3']"
      ]
     },
     "execution_count": 58,
     "metadata": {},
     "output_type": "execute_result"
    }
   ],
   "source": [
    "l = [str(x) for i in range(3) for x in foo(i)]\n",
    "l"
   ]
  },
  {
   "cell_type": "markdown",
   "metadata": {},
   "source": [
    "---"
   ]
  },
  {
   "cell_type": "markdown",
   "metadata": {},
   "source": [
    "### Задание 4"
   ]
  },
  {
   "cell_type": "markdown",
   "metadata": {},
   "source": [
    "*Выведите* список из 100 чисел *через запятую*. **Циклами пользоваться нельзя.**"
   ]
  },
  {
   "cell_type": "code",
   "execution_count": 13,
   "metadata": {
    "scrolled": true
   },
   "outputs": [
    {
     "name": "stdout",
     "output_type": "stream",
     "text": [
      "0, 1, 2, 3, 4, 5, 6, 7, 8, 9, 10, 11, 12, 13, 14, 15, 16, 17, 18, 19, 20, 21, 22, 23, 24, 25, 26, 27, 28, 29, 30, 31, 32, 33, 34, 35, 36, 37, 38, 39, 40, 41, 42, 43, 44, 45, 46, 47, 48, 49, 50, 51, 52, 53, 54, 55, 56, 57, 58, 59, 60, 61, 62, 63, 64, 65, 66, 67, 68, 69, 70, 71, 72, 73, 74, 75, 76, 77, 78, 79, 80, 81, 82, 83, 84, 85, 86, 87, 88, 89, 90, 91, 92, 93, 94, 95, 96, 97, 98, 9\n"
     ]
    }
   ],
   "source": [
    "# Ваш код здесь\n",
    "# хотелось извратиться...)\n",
    "# print(\"\".join(map(lambda x: str(x[0])+x[1], list(enumerate([\", \"]*100))))[:-2])\n",
    "\n",
    "# :) range и map\n",
    "# print(\"\".join(map(lambda x: str(x)+\", \", range(100)))[:-2])\n",
    "\n",
    "# рекурсия\n",
    "# def prnm(pr=0):\n",
    "#     if pr == 98:\n",
    "#         return \"99\"\n",
    "#     return str(pr) + \", \" + prnm(pr+1)\n",
    "\n",
    "# print(prnm())\n",
    "\n",
    "# не круто - они не в порядке возростания и повторяются\n",
    "# print((\"1, 2, 3, 4, \"*25)[:-2])\n",
    "\n",
    "# если имелась в виду \"магия\" - то вот она:\n",
    "l = [i for i in range(100)]\n",
    "print(l.__str__()[1:-2])"
   ]
  },
  {
   "cell_type": "markdown",
   "metadata": {},
   "source": [
    "---"
   ]
  },
  {
   "cell_type": "markdown",
   "metadata": {},
   "source": [
    "### functions, lambdas"
   ]
  },
  {
   "cell_type": "markdown",
   "metadata": {},
   "source": [
    "<img align=center src=\"http://stopnonsense.com/wp-content/uploads/Running-is-running.jpg\" style=\"height:300px;\"/>"
   ]
  },
  {
   "cell_type": "code",
   "execution_count": null,
   "metadata": {
    "collapsed": true
   },
   "outputs": [],
   "source": [
    "def make_coffee(size, sugar_dose=3, **kwargs):\n",
    "    if sugar_dose > 5:\n",
    "        return 'Too much sugar! Be careful! :('\n",
    "    else:\n",
    "        return 'Done: cup of {0} ml size; amount of sugar = {1}'.format(size, sugar_dose)"
   ]
  },
  {
   "cell_type": "code",
   "execution_count": null,
   "metadata": {
    "collapsed": true
   },
   "outputs": [],
   "source": [
    "make_coffee(100)"
   ]
  },
  {
   "cell_type": "code",
   "execution_count": null,
   "metadata": {
    "collapsed": true
   },
   "outputs": [],
   "source": [
    "make_coffee(200, 1)"
   ]
  },
  {
   "cell_type": "code",
   "execution_count": null,
   "metadata": {
    "collapsed": true
   },
   "outputs": [],
   "source": [
    "make_coffee(100, 6)"
   ]
  },
  {
   "cell_type": "code",
   "execution_count": null,
   "metadata": {
    "collapsed": true
   },
   "outputs": [],
   "source": [
    "make_coffee(120, 5, name='Ilya', gender='male')  # kwargs"
   ]
  },
  {
   "cell_type": "code",
   "execution_count": null,
   "metadata": {
    "collapsed": true
   },
   "outputs": [],
   "source": [
    "negation = lambda x: -x\n",
    "a = 5\n",
    "print(negation(a))"
   ]
  },
  {
   "cell_type": "markdown",
   "metadata": {},
   "source": [
    "### map, reduce, filter"
   ]
  },
  {
   "cell_type": "markdown",
   "metadata": {},
   "source": [
    "* `map(func, iterables)` - выполняет преобразование func над элементами iterables и возвращает **новый** `iterable`:"
   ]
  },
  {
   "cell_type": "code",
   "execution_count": 52,
   "metadata": {
    "collapsed": true
   },
   "outputs": [],
   "source": [
    "words = dir(list)"
   ]
  },
  {
   "cell_type": "code",
   "execution_count": 53,
   "metadata": {
    "scrolled": true
   },
   "outputs": [
    {
     "name": "stdout",
     "output_type": "stream",
     "text": [
      "[7, 9, 12, 11, 11, 7, 7, 6, 10, 6, 16, 11, 6, 8, 8, 8, 8, 17, 8, 6, 7, 6, 7, 6, 7, 10, 13, 8, 12, 8, 11, 11, 10, 7, 16, 6, 5, 4, 5, 6, 5, 6, 3, 6, 7, 4]\n",
      "\n",
      "['__add__', '__class__', '__contains__', '__delattr__', '__delitem__', '__dir__', '__doc__', '__eq__', '__format__', '__ge__', '__getattribute__', '__getitem__', '__gt__', '__hash__', '__iadd__', '__imul__', '__init__', '__init_subclass__', '__iter__', '__le__', '__len__', '__lt__', '__mul__', '__ne__', '__new__', '__reduce__', '__reduce_ex__', '__repr__', '__reversed__', '__rmul__', '__setattr__', '__setitem__', '__sizeof__', '__str__', '__subclasshook__', 'append', 'clear', 'copy', 'count', 'extend', 'index', 'insert', 'pop', 'remove', 'reverse', 'sort']\n"
     ]
    }
   ],
   "source": [
    "letter_counts = list(map(lambda x: len(x), words))\n",
    "\n",
    "print(letter_counts)\n",
    "print()\n",
    "print(words)"
   ]
  },
  {
   "cell_type": "code",
   "execution_count": null,
   "metadata": {
    "collapsed": true
   },
   "outputs": [],
   "source": [
    "l1 = [1,2,3,4]\n",
    "l2 = [11, 12, 13, 14, 15]\n",
    "l3 = [101, 102, 103]\n",
    "\n",
    "triple_sum = list(map(lambda x, y, z: x + y + z, l1, l2, l3))\n",
    "print(triple_sum)"
   ]
  },
  {
   "cell_type": "markdown",
   "metadata": {},
   "source": [
    "* `reduce(func, iterables)` - производит вычисление с элементами последовательности, результатом которого является **одно значение**:"
   ]
  },
  {
   "cell_type": "code",
   "execution_count": 61,
   "metadata": {
    "collapsed": true
   },
   "outputs": [],
   "source": [
    "from functools import reduce"
   ]
  },
  {
   "cell_type": "code",
   "execution_count": 62,
   "metadata": {},
   "outputs": [
    {
     "name": "stdout",
     "output_type": "stream",
     "text": [
      "378\n"
     ]
    }
   ],
   "source": [
    "sum_of_counts = reduce(lambda x, y: x + y, letter_counts)\n",
    "print(sum_of_counts)"
   ]
  },
  {
   "cell_type": "markdown",
   "metadata": {
    "collapsed": true
   },
   "source": [
    "* `filter(predicate, iterable)` - оставляет только те элементы, для которых **верен** предикат (функция, возвращающая bool):"
   ]
  },
  {
   "cell_type": "code",
   "execution_count": null,
   "metadata": {
    "collapsed": true
   },
   "outputs": [],
   "source": [
    "mixed = ['мак', 'просо', 'мак', 'мак', 'просо', 'мак', 'просо', 'просо', 'просо', 'мак']\n",
    "only_mac = list(filter(lambda x: x == 'мак', mixed))\n",
    "print(only_mac)"
   ]
  },
  {
   "cell_type": "markdown",
   "metadata": {},
   "source": [
    "---"
   ]
  },
  {
   "cell_type": "markdown",
   "metadata": {},
   "source": [
    "### Задание 5\n",
    "\n",
    "1. Дан массив строк: `['agfkd.,f', 'Qksdf;sb&..', 'asdoo*', 'bgf...d', 're54()kj[]].'] `\n",
    "2. Создайте список, состоящий из количества точек в каждой строке. Выведите его\n",
    "3. Создайте новый список, в котором будут только строки, в которых более 2-х точек. Выведите его  \n",
    "\n",
    "Циклами пользоваться нельзя."
   ]
  },
  {
   "cell_type": "code",
   "execution_count": 69,
   "metadata": {},
   "outputs": [
    {
     "name": "stdout",
     "output_type": "stream",
     "text": [
      "[1, 2, 0, 3, 1]\n",
      "['bgf...d']\n"
     ]
    }
   ],
   "source": [
    "# Ваш код здесь\n",
    "strs = ['agfkd.,f', 'Qksdf;sb&..', 'asdoo*', 'bgf...d', 're54()kj[]].']\n",
    "points = [i.count(\".\") for i in strs]\n",
    "print(points)\n",
    "strs_improved = list(filter(lambda x: x.count(\".\") > 2, strs))\n",
    "print(strs_improved)"
   ]
  },
  {
   "cell_type": "markdown",
   "metadata": {},
   "source": [
    "---"
   ]
  },
  {
   "cell_type": "markdown",
   "metadata": {},
   "source": [
    "### set"
   ]
  },
  {
   "cell_type": "code",
   "execution_count": null,
   "metadata": {
    "collapsed": true
   },
   "outputs": [],
   "source": [
    "s = set()\n",
    "s"
   ]
  },
  {
   "cell_type": "code",
   "execution_count": null,
   "metadata": {
    "collapsed": true
   },
   "outputs": [],
   "source": [
    "dir(s)"
   ]
  },
  {
   "cell_type": "code",
   "execution_count": null,
   "metadata": {
    "collapsed": true
   },
   "outputs": [],
   "source": [
    "s.add(1)\n",
    "s.add('a')\n",
    "s.add(None)\n",
    "s.add('bullet')\n",
    "print(s)"
   ]
  },
  {
   "cell_type": "code",
   "execution_count": null,
   "metadata": {
    "collapsed": true
   },
   "outputs": [],
   "source": [
    "s1 = set(range(0, 10))\n",
    "s2 = set(range(5, 15))"
   ]
  },
  {
   "cell_type": "code",
   "execution_count": null,
   "metadata": {
    "collapsed": true
   },
   "outputs": [],
   "source": [
    "print(s1.difference(s2))\n",
    "print()\n",
    "print(s2.difference(s1))"
   ]
  },
  {
   "cell_type": "code",
   "execution_count": null,
   "metadata": {
    "collapsed": true
   },
   "outputs": [],
   "source": [
    "s1.intersection(s2)"
   ]
  },
  {
   "cell_type": "code",
   "execution_count": null,
   "metadata": {
    "collapsed": true
   },
   "outputs": [],
   "source": [
    "s1.union(s2)"
   ]
  },
  {
   "cell_type": "code",
   "execution_count": null,
   "metadata": {
    "collapsed": true
   },
   "outputs": [],
   "source": [
    "print('s1: ', s1, '\\ns2: ', s2)"
   ]
  },
  {
   "cell_type": "markdown",
   "metadata": {},
   "source": [
    "### dict"
   ]
  },
  {
   "cell_type": "code",
   "execution_count": null,
   "metadata": {
    "collapsed": true
   },
   "outputs": [],
   "source": [
    "d = {}\n",
    "dd = dict()\n",
    "\n",
    "print(d == dd, '|', type(d))"
   ]
  },
  {
   "cell_type": "code",
   "execution_count": null,
   "metadata": {
    "collapsed": true
   },
   "outputs": [],
   "source": [
    "dir(dict)"
   ]
  },
  {
   "cell_type": "code",
   "execution_count": null,
   "metadata": {
    "collapsed": true
   },
   "outputs": [],
   "source": [
    "d['a'] = 100\n",
    "d"
   ]
  },
  {
   "cell_type": "code",
   "execution_count": null,
   "metadata": {
    "collapsed": true
   },
   "outputs": [],
   "source": [
    "d = dict(short='dict', long='dictionary')\n",
    "d"
   ]
  },
  {
   "cell_type": "code",
   "execution_count": null,
   "metadata": {
    "collapsed": true
   },
   "outputs": [],
   "source": [
    "d = dict([(1, 1), (2, 4)])\n",
    "d"
   ]
  },
  {
   "cell_type": "code",
   "execution_count": null,
   "metadata": {
    "collapsed": true
   },
   "outputs": [],
   "source": [
    "d = dict.fromkeys(['a', 'b'])\n",
    "d"
   ]
  },
  {
   "cell_type": "code",
   "execution_count": null,
   "metadata": {
    "collapsed": true
   },
   "outputs": [],
   "source": [
    "d = dict.fromkeys(['a', 'b'], 100)\n",
    "d"
   ]
  },
  {
   "cell_type": "markdown",
   "metadata": {},
   "source": [
    "**dict comprehensions**"
   ]
  },
  {
   "cell_type": "code",
   "execution_count": null,
   "metadata": {
    "collapsed": true
   },
   "outputs": [],
   "source": [
    "d = {a: a ** 2 for a in range(7)}\n",
    "d"
   ]
  },
  {
   "cell_type": "markdown",
   "metadata": {},
   "source": [
    "### !"
   ]
  },
  {
   "cell_type": "markdown",
   "metadata": {},
   "source": [
    "Будьте осторожны, если ключа, по которому поступил запрос, нет в словаре, то выбросит исключение:"
   ]
  },
  {
   "cell_type": "code",
   "execution_count": null,
   "metadata": {
    "collapsed": true
   },
   "outputs": [],
   "source": [
    "d = {1: 100, 2: 200, 3: 300}\n",
    "d['a']"
   ]
  },
  {
   "cell_type": "markdown",
   "metadata": {},
   "source": [
    "Поэтому безопаснее использовать **get(key)**. Тогда, если нужно, можно проверить на **None**:"
   ]
  },
  {
   "cell_type": "code",
   "execution_count": null,
   "metadata": {
    "collapsed": true
   },
   "outputs": [],
   "source": [
    "d.get(1)"
   ]
  },
  {
   "cell_type": "code",
   "execution_count": null,
   "metadata": {
    "collapsed": true
   },
   "outputs": [],
   "source": [
    "d.get('a') == None"
   ]
  },
  {
   "cell_type": "markdown",
   "metadata": {},
   "source": [
    "Самое часто используемое - получение ключей, получение значений и получение всего вместе:"
   ]
  },
  {
   "cell_type": "code",
   "execution_count": null,
   "metadata": {
    "collapsed": true
   },
   "outputs": [],
   "source": [
    "print(d.keys(), '|', type(d.keys()))\n",
    "\n",
    "\n",
    "print(list(d.keys()))"
   ]
  },
  {
   "cell_type": "code",
   "execution_count": null,
   "metadata": {
    "collapsed": true
   },
   "outputs": [],
   "source": [
    "print(d.values(), '|', type(d.values()))\n",
    "\n",
    "\n",
    "print(list(d.values()))"
   ]
  },
  {
   "cell_type": "code",
   "execution_count": null,
   "metadata": {
    "collapsed": true
   },
   "outputs": [],
   "source": [
    "print(d.items(), '|', type(d.items()))\n",
    "\n",
    "\n",
    "print(list(d.items()))"
   ]
  },
  {
   "cell_type": "markdown",
   "metadata": {
    "collapsed": true
   },
   "source": [
    "### modules"
   ]
  },
  {
   "cell_type": "markdown",
   "metadata": {
    "collapsed": true
   },
   "source": [
    "**Модули** - это \"библиотеки\" Python. То есть это самостоятельные, объединённые технически и логически, именованные части Python кода"
   ]
  },
  {
   "cell_type": "markdown",
   "metadata": {
    "collapsed": true
   },
   "source": [
    "* О модулях необходимо знать только одно - как их импортировать:"
   ]
  },
  {
   "cell_type": "code",
   "execution_count": null,
   "metadata": {
    "collapsed": true
   },
   "outputs": [],
   "source": [
    "import collections"
   ]
  },
  {
   "cell_type": "markdown",
   "metadata": {},
   "source": [
    "* Импортировать только какой-то компонент из модуля:"
   ]
  },
  {
   "cell_type": "code",
   "execution_count": 14,
   "metadata": {
    "collapsed": true
   },
   "outputs": [],
   "source": [
    "from collections import Counter"
   ]
  },
  {
   "cell_type": "markdown",
   "metadata": {},
   "source": [
    "* Импортировать с другим именем (чаще всего используется для локаничности кода):"
   ]
  },
  {
   "cell_type": "code",
   "execution_count": 15,
   "metadata": {
    "collapsed": true
   },
   "outputs": [],
   "source": [
    "import collections as cool_lib"
   ]
  },
  {
   "cell_type": "code",
   "execution_count": 16,
   "metadata": {
    "collapsed": true
   },
   "outputs": [],
   "source": [
    "count = cool_lib.Counter()"
   ]
  },
  {
   "cell_type": "markdown",
   "metadata": {},
   "source": [
    "Жизненный пример:"
   ]
  },
  {
   "cell_type": "code",
   "execution_count": 17,
   "metadata": {
    "collapsed": true
   },
   "outputs": [],
   "source": [
    "import numpy as np"
   ]
  },
  {
   "cell_type": "markdown",
   "metadata": {},
   "source": [
    "### files"
   ]
  },
  {
   "cell_type": "code",
   "execution_count": 80,
   "metadata": {
    "collapsed": true
   },
   "outputs": [],
   "source": [
    "path = './20_newsgroups/sci.space/62478'"
   ]
  },
  {
   "cell_type": "code",
   "execution_count": null,
   "metadata": {
    "collapsed": true
   },
   "outputs": [],
   "source": [
    "file = open(path, mode='r')\n",
    "print([line for line in file][0])\n",
    "file.close()"
   ]
  },
  {
   "cell_type": "markdown",
   "metadata": {},
   "source": [
    "| Режим | Обозначение |\n",
    "|-------|-------------|\n",
    "| **'r'**  | Открытие на **чтение** (является значением по умолчанию) |\n",
    "| **'rb'** | Открытие на **чтение**, в предположении, что будут считываться **байты** |\n",
    "| **'w'** | Открытие на **запись**, содержимое файла удаляется. Если файла не существует, создается новый |\n",
    "| **'wb**' | Открытие на **запись байтов**, содержимое файла удаляется. Если файла не существует, создается новый |\n",
    "| **'a'** | Открытие на **дозапись**, информация добавляется **в конец файла** |\n",
    "| **'r+'** | Открыть файл на **чтение И запись**. Если файла нет, **новый НЕ создаётся** |\n",
    "| **'a+'** | Открыть файл на **чтение И запись в конец файла**. Если файла нет, **новый создаётся** |\n",
    "| **'t'** | Открытие файла **как текстового** (по умолчанию) |"
   ]
  },
  {
   "cell_type": "code",
   "execution_count": null,
   "metadata": {
    "collapsed": true
   },
   "outputs": [],
   "source": [
    "with open(path, mode='r') as test_file:\n",
    "    for line in test_file:\n",
    "        print(line)"
   ]
  },
  {
   "cell_type": "markdown",
   "metadata": {},
   "source": [
    "### classes"
   ]
  },
  {
   "cell_type": "code",
   "execution_count": null,
   "metadata": {
    "collapsed": true
   },
   "outputs": [],
   "source": [
    "class Human:\n",
    "    def __init__(self, name='', age=None, deep_learning_specialist=False):\n",
    "        self.name = name\n",
    "        self.age = age\n",
    "        self.deep_learning_specialist = deep_learning_specialist\n",
    "    \n",
    "    def set_age(self, age):\n",
    "        self.age = age\n",
    "    \n",
    "    def get_age(self):\n",
    "        return self.age\n",
    "    \n",
    "    def __str__(self):\n",
    "        return 'Name: {}\\nAge: {} \\\n",
    "                \\nIs deep learning specialist: {}'.format(self.name, self.age, \n",
    "                                                          self.deep_learning_specialist)\n",
    "\n",
    "class DLSchoolStudent(Human):\n",
    "    def __init__(self, name='', age=None, deep_learning_specialist=False):\n",
    "        super().__init__(name, age, deep_learning_specialist)\n",
    "        self.total_grade = None\n",
    "        self.deep_learning_specialist = True\n",
    "    \n",
    "    def __str__(self):\n",
    "        return super().__str__()"
   ]
  },
  {
   "cell_type": "code",
   "execution_count": null,
   "metadata": {
    "collapsed": true
   },
   "outputs": [],
   "source": [
    "human = Human('Person', 17)\n",
    "print(human)"
   ]
  },
  {
   "cell_type": "code",
   "execution_count": null,
   "metadata": {
    "collapsed": true
   },
   "outputs": [],
   "source": [
    "student = DLSchoolStudent('Good Person', 18)\n",
    "print(student)"
   ]
  },
  {
   "cell_type": "markdown",
   "metadata": {},
   "source": [
    "### exceptions"
   ]
  },
  {
   "cell_type": "code",
   "execution_count": null,
   "metadata": {
    "collapsed": true
   },
   "outputs": [],
   "source": [
    "dir(__builtin__)"
   ]
  },
  {
   "cell_type": "code",
   "execution_count": null,
   "metadata": {
    "collapsed": true
   },
   "outputs": [],
   "source": [
    "raise KeyboardInterrupt()"
   ]
  },
  {
   "cell_type": "code",
   "execution_count": null,
   "metadata": {
    "collapsed": true
   },
   "outputs": [],
   "source": [
    "my_dict = {1: 100, 2: 200}\n",
    "print(my_dict['NEW'])"
   ]
  },
  {
   "cell_type": "code",
   "execution_count": null,
   "metadata": {
    "collapsed": true
   },
   "outputs": [],
   "source": [
    "try:\n",
    "    my_dict = {1: 100, 2: 200}\n",
    "    print(my_dict['NEW'])\n",
    "except KeyError:\n",
    "    print('Caught KeyError!')"
   ]
  },
  {
   "cell_type": "markdown",
   "metadata": {},
   "source": [
    "### Полезные библиотеки Python"
   ]
  },
  {
   "cell_type": "markdown",
   "metadata": {},
   "source": [
    "### glob"
   ]
  },
  {
   "cell_type": "code",
   "execution_count": 28,
   "metadata": {
    "collapsed": true
   },
   "outputs": [],
   "source": [
    "import glob"
   ]
  },
  {
   "cell_type": "code",
   "execution_count": null,
   "metadata": {
    "collapsed": true
   },
   "outputs": [],
   "source": [
    "!dir"
   ]
  },
  {
   "cell_type": "code",
   "execution_count": 29,
   "metadata": {},
   "outputs": [
    {
     "data": {
      "text/plain": [
       "[]"
      ]
     },
     "execution_count": 29,
     "metadata": {},
     "output_type": "execute_result"
    }
   ],
   "source": [
    "glob.glob('./[0-9].*')"
   ]
  },
  {
   "cell_type": "code",
   "execution_count": 30,
   "metadata": {},
   "outputs": [
    {
     "data": {
      "text/plain": [
       "['dice.png']"
      ]
     },
     "execution_count": 30,
     "metadata": {},
     "output_type": "execute_result"
    }
   ],
   "source": [
    "glob.glob('*.png')"
   ]
  },
  {
   "cell_type": "code",
   "execution_count": null,
   "metadata": {
    "collapsed": true
   },
   "outputs": [],
   "source": [
    "glob.glob('?.jpg')"
   ]
  },
  {
   "cell_type": "code",
   "execution_count": null,
   "metadata": {
    "collapsed": true
   },
   "outputs": [],
   "source": [
    "glob.glob('./**/', recursive=True)"
   ]
  },
  {
   "cell_type": "code",
   "execution_count": null,
   "metadata": {
    "collapsed": true
   },
   "outputs": [],
   "source": [
    "glob.glob('**/*.txt', recursive=True)"
   ]
  },
  {
   "cell_type": "markdown",
   "metadata": {},
   "source": [
    "### tqdm"
   ]
  },
  {
   "cell_type": "markdown",
   "metadata": {},
   "source": [
    "* Устанавливаем виджеты:\n",
    "\n",
    "`pip install ipywidgets`  \n",
    "\n",
    "(или `conda install -c conda-forge ipywidgets`)\n",
    "\n",
    "* Разрешаем их использование в Jupyter Notebook:  \n",
    "\n",
    "`jupyter nbextension enable --py --sys-prefix widgetsnbextension`  \n",
    "\n",
    "* Перезагружаем ядро (Restart Kernel)  \n",
    "\n",
    "\n",
    "* Устанавливаем tqdm:  \n",
    "\n",
    "`pip install tqdm`  \n",
    "\n",
    "(или `conda install -c conda-forge tqdm`)  \n",
    "\n",
    "Больше про tqdm: https://pypi.python.org/pypi/tqdm"
   ]
  },
  {
   "cell_type": "code",
   "execution_count": 18,
   "metadata": {
    "collapsed": true
   },
   "outputs": [],
   "source": [
    "from tqdm import tqdm\n",
    "from tqdm import tnrange, tqdm_notebook\n",
    "from time import sleep"
   ]
  },
  {
   "cell_type": "code",
   "execution_count": 20,
   "metadata": {},
   "outputs": [
    {
     "name": "stderr",
     "output_type": "stream",
     "text": [
      "100%|██████████| 1000/1000 [00:10<00:00, 97.40it/s]\n"
     ]
    }
   ],
   "source": [
    "cnt = 0\n",
    "for i in tqdm(range(1000)):\n",
    "    sleep(0.01)\n",
    "    cnt += 1"
   ]
  },
  {
   "cell_type": "code",
   "execution_count": null,
   "metadata": {},
   "outputs": [],
   "source": [
    "for i in tnrange(10, desc='1st loop'):\n",
    "    for j in tqdm_notebook(range(100), desc='2nd loop', leave=False):\n",
    "        sleep(0.01)"
   ]
  },
  {
   "cell_type": "markdown",
   "metadata": {},
   "source": [
    "### collections"
   ]
  },
  {
   "cell_type": "markdown",
   "metadata": {},
   "source": [
    "* `defaultdict()` - класс словаря, у которого есть значение по умолчанию - порой очень пригождается:"
   ]
  },
  {
   "cell_type": "code",
   "execution_count": 2,
   "metadata": {
    "collapsed": true
   },
   "outputs": [],
   "source": [
    "from collections import defaultdict"
   ]
  },
  {
   "cell_type": "code",
   "execution_count": 23,
   "metadata": {},
   "outputs": [
    {
     "name": "stdout",
     "output_type": "stream",
     "text": [
      "0\n",
      "5\n"
     ]
    }
   ],
   "source": [
    "d = defaultdict(int)\n",
    "\n",
    "print(d['key'])\n",
    "\n",
    "d['key'] = 5\n",
    "print(d['key'])  # 5"
   ]
  },
  {
   "cell_type": "code",
   "execution_count": 24,
   "metadata": {},
   "outputs": [
    {
     "name": "stdout",
     "output_type": "stream",
     "text": [
      "empty\n",
      "full\n"
     ]
    }
   ],
   "source": [
    "d = defaultdict(lambda: 'empty')\n",
    "print(d['key'])\n",
    "\n",
    "d['key'] = 'full'\n",
    "print(d['key'])"
   ]
  },
  {
   "cell_type": "code",
   "execution_count": 25,
   "metadata": {},
   "outputs": [
    {
     "name": "stdout",
     "output_type": "stream",
     "text": [
      "defaultdict(<class 'list'>, {})\n",
      "defaultdict(<class 'list'>, {'list1': [100, 200]})\n",
      "[100, 200]\n"
     ]
    }
   ],
   "source": [
    "d = defaultdict(list)\n",
    "print(d)\n",
    "\n",
    "d['list1'].append(100)\n",
    "d['list1'].append(200)\n",
    "print(d)\n",
    "print(d['list1'])"
   ]
  },
  {
   "cell_type": "markdown",
   "metadata": {},
   "source": [
    "* `Counter()` - класс словаря, предназначенного для счётчиков. По сути, `== defaultdict(int)`:"
   ]
  },
  {
   "cell_type": "code",
   "execution_count": 26,
   "metadata": {
    "collapsed": true
   },
   "outputs": [],
   "source": [
    "from collections import Counter"
   ]
  },
  {
   "cell_type": "code",
   "execution_count": 27,
   "metadata": {},
   "outputs": [
    {
     "name": "stdout",
     "output_type": "stream",
     "text": [
      "Counter({'r': 224, 'o': 136, 'e': 132, 't': 98, 'n': 98, 'i': 85, 'a': 63, 's': 59, 'E': 57, 'c': 48, 'l': 43, 'd': 39, 'p': 38, '_': 38, 'm': 31, 'u': 29, 'y': 22, 'g': 21, 'b': 16, 'I': 14, 'x': 13, 'h': 12, 'W': 11, 'f': 9, 'F': 8, 'v': 8, 'N': 8, 'A': 7, 'P': 7, 'R': 7, 'S': 7, 'U': 7, 'O': 6, 'D': 6, 'T': 6, 'B': 5, 'k': 5, 'C': 5, 'L': 3, 'w': 3, 'K': 2, 'M': 2, 'z': 2, 'G': 1, 'V': 1, 'Z': 1, 'Y': 1, 'H': 1, 'j': 1})\n"
     ]
    }
   ],
   "source": [
    "counter = Counter()\n",
    "\n",
    "for word in dir(__builtin__):\n",
    "    for letter in word:\n",
    "        counter[letter] += 1  # или .update(value)\n",
    "    \n",
    "print(counter)"
   ]
  },
  {
   "cell_type": "markdown",
   "metadata": {},
   "source": [
    "---"
   ]
  },
  {
   "cell_type": "markdown",
   "metadata": {},
   "source": [
    "### Задание 6\n",
    "\n",
    "1. Создайте словарь счётчиков\n",
    "2. Создайте переменную, в которую сохраните все пути к нужным текстовым файлам *(расположены по адресу `'./20_newsgroups/sci.space/'`)*\n",
    "3. Для каждого текста (текстового файла) посчитайте сколько каждое слово (из этого текста) встретилось в этом тексте (используйте предыдущие пункты)"
   ]
  },
  {
   "cell_type": "code",
   "execution_count": 3,
   "metadata": {},
   "outputs": [
    {
     "name": "stdout",
     "output_type": "stream",
     "text": [
      "В ./20_newsgroups/sci.space/62479 есть слова: \n",
      "--- Newsgroups: в количестве 1\n",
      "--- sci.space в количестве 2\n",
      "--- Path: в количестве 1\n",
      "--- cantaloupe.srv.cs.cmu.edu!das-news.harvard.edu!noc.near.net!howland.reston.ans.net!zaphod.mps.ohio-state.edu!cs.utexas.edu!uunet!nih-csl!NewsWatcher!user в количестве 1\n",
      "--- From: в количестве 1\n",
      "--- england@helix.nih.gov в количестве 1\n",
      "--- (Mad в количестве 1\n",
      "--- Vlad) в количестве 1\n",
      "--- Subject: в количестве 1\n",
      "--- Satellite в количестве 1\n",
      "--- Capabilities-Patriot в количестве 1\n",
      "--- Games в количестве 1\n",
      "--- Message-ID: в количестве 1\n",
      "--- <england-170593093754@156.40.182.12> в количестве 1\n",
      "--- Followup-To: в количестве 1\n",
      "--- Sender: в количестве 1\n",
      "--- postman@alw.nih.gov в количестве 1\n",
      "--- (AMDS в количестве 1\n",
      "--- Postmaster) в количестве 1\n",
      "--- Organization: в количестве 1\n",
      "--- Nat'l в количестве 1\n",
      "--- Inst в количестве 1\n",
      "--- of в количестве 5\n",
      "--- Health в количестве 1\n",
      "--- Date: в количестве 1\n",
      "--- Mon, в количестве 1\n",
      "--- 17 в количестве 1\n",
      "--- May в количестве 1\n",
      "--- 1993 в количестве 1\n",
      "--- 13:37:43 в количестве 1\n",
      "--- GMT в количестве 1\n",
      "--- Lines: в количестве 1\n",
      "--- 20 в количестве 1\n",
      "--- Hello в количестве 1\n",
      "--- netters, в количестве 1\n",
      "--- I'm в количестве 1\n",
      "--- new в количестве 1\n",
      "--- to в количестве 4\n",
      "--- this в количестве 2\n",
      "--- board в количестве 1\n",
      "--- and в количестве 4\n",
      "--- I в количестве 3\n",
      "--- thought в количестве 1\n",
      "--- might в количестве 1\n",
      "--- be в количестве 3\n",
      "--- the в количестве 16\n",
      "--- best в количестве 1\n",
      "--- place в количестве 1\n",
      "--- for в количестве 1\n",
      "--- my в количестве 1\n",
      "--- post. в количестве 1\n",
      "--- have в количестве 1\n",
      "--- a в количестве 3\n",
      "--- question в количестве 3\n",
      "--- regarding в количестве 1\n",
      "--- satellite в количестве 1\n",
      "--- technology в количестве 1\n",
      "--- seen в количестве 1\n",
      "--- in в количестве 6\n",
      "--- movie в количестве 1\n",
      "--- Patriot в количестве 2\n",
      "--- Games. в количестве 1\n",
      "--- In в количестве 1\n",
      "--- movies, в количестве 1\n",
      "--- CIA в количестве 2\n",
      "--- utilizes в количестве 1\n",
      "--- its в количестве 1\n",
      "--- orbitting в количестве 1\n",
      "--- sats в количестве 3\n",
      "--- pinpoint в количестве 1\n",
      "--- specific в количестве 1\n",
      "--- terrorist в количестве 1\n",
      "--- camp в количестве 2\n",
      "--- N в количестве 1\n",
      "--- Africa. в количестве 1\n",
      "--- The в количестве 4\n",
      "--- photos в количестве 1\n",
      "--- taken в количестве 2\n",
      "--- by в количестве 2\n",
      "--- are в количестве 2\n",
      "--- stunning! в количестве 1\n",
      "--- know в количестве 1\n",
      "--- that в количестве 1\n",
      "--- capable в количестве 1\n",
      "--- photographing в количестве 1\n",
      "--- license в количестве 1\n",
      "--- plates в количестве 1\n",
      "--- vehicles. в количестве 1\n",
      "--- My в количестве 1\n",
      "--- is в количестве 2\n",
      "--- this: в количестве 1\n",
      "--- was в количестве 5\n",
      "--- out в количестве 1\n",
      "--- British в количестве 1\n",
      "--- SAS. в количестве 1\n",
      "--- And в количестве 1\n",
      "--- while в количестве 1\n",
      "--- SAS в количестве 2\n",
      "--- action, в количестве 1\n",
      "--- team в количестве 1\n",
      "--- watching в количестве 1\n",
      "--- warroom в количестве 1\n",
      "--- back в количестве 1\n",
      "--- Langley, в количестве 1\n",
      "--- VA. в количестве 1\n",
      "--- action в количестве 3\n",
      "--- clear в количестве 1\n",
      "--- appeared в количестве 2\n",
      "--- relayed в количестве 1\n",
      "--- via в количестве 1\n",
      "--- sat. в количестве 1\n",
      "--- at в количестве 1\n",
      "--- night в количестве 1\n",
      "--- photography в количестве 1\n",
      "--- an в количестве 1\n",
      "--- x-ray в количестве 1\n",
      "--- type. в количестве 1\n",
      "--- That в количестве 1\n",
      "--- is, в количестве 1\n",
      "--- one в количестве 1\n",
      "--- could в количестве 1\n",
      "--- see в количестве 1\n",
      "--- within в количестве 1\n",
      "--- tents/structures в количестве 1\n",
      "--- camp. в количестве 1\n",
      "--- Does в количестве 1\n",
      "--- such в количестве 1\n",
      "--- techology в количестве 1\n",
      "--- exist в количестве 1\n",
      "--- what в количестве 1\n",
      "--- it's в количестве 1\n",
      "--- nature? в количестве 1\n",
      "--- i.e., в количестве 1\n",
      "--- UV, в количестве 1\n",
      "--- IR, в количестве 1\n",
      "--- x-ray, в количестве 1\n",
      "--- etc. в количестве 1\n",
      "--- PS в количестве 1\n",
      "--- Who в количестве 1\n",
      "--- wrote в количестве 1\n",
      "--- book в количестве 1\n",
      "--- Games? в количестве 1\n",
      "--- Mad в количестве 1\n",
      "--- Vlad в количестве 1\n",
      "\n",
      "В ./20_newsgroups/sci.space/62709 есть слова: \n",
      "--- Xref: в количестве 1\n",
      "--- cantaloupe.srv.cs.cmu.edu в количестве 1\n",
      "--- sci.environment:30893 в количестве 1\n",
      "--- misc.consumers:69410 в количестве 1\n",
      "--- misc.invest:42838 в количестве 1\n",
      "--- sci.astro:36227 в количестве 1\n",
      "--- talk.environment:12373 в количестве 1\n",
      "--- talk.politics.space:2934 в количестве 1\n",
      "--- sci.space:62709 в количестве 1\n",
      "--- rec.backcountry:32440 в количестве 1\n",
      "--- misc.rural:6404 в количестве 1\n",
      "--- misc.headlines:42335 в количестве 1\n",
      "--- Path: в количестве 1\n",
      "--- cantaloupe.srv.cs.cmu.edu!das-news.harvard.edu!noc.near.net!howland.reston.ans.net!ux1.cso.uiuc.edu!uchinews!raistlin!timbuk.cray.com!equalizer!sdcrsi!network.ucsd.edu!lyapunov.ucsd.edu!mbk в количестве 1\n",
      "--- From: в количестве 1\n",
      "--- mbk@lyapunov.ucsd.edu в количестве 1\n",
      "--- (Matt в количестве 1\n",
      "--- Kennel) в количестве 1\n",
      "--- Newsgroups: в количестве 1\n",
      "--- sci.environment,misc.consumers,misc.invest,sci.astro,talk.environment,talk.politics.space,sci.space,rec.backcountry,misc.rural,misc.headlines,k12.chat.teacher в количестве 1\n",
      "--- Subject: в количестве 1\n",
      "--- Re: в количестве 1\n",
      "--- Space в количестве 1\n",
      "--- Marketing в количестве 1\n",
      "--- would в количестве 4\n",
      "--- be в количестве 4\n",
      "--- wonderfull. в количестве 1\n",
      "--- Date: в количестве 1\n",
      "--- 16 в количестве 1\n",
      "--- May в количестве 1\n",
      "--- 1993 в количестве 1\n",
      "--- 21:57:53 в количестве 1\n",
      "--- GMT в количестве 1\n",
      "--- Organization: в количестве 1\n",
      "--- Institute в количестве 1\n",
      "--- For в количестве 1\n",
      "--- Nonlinear в количестве 2\n",
      "--- Science, в количестве 2\n",
      "--- UCSD в количестве 1\n",
      "--- Lines: в количестве 1\n",
      "--- 34 в количестве 1\n",
      "--- Message-ID: в количестве 1\n",
      "--- <1t6dd1$11v@network.ucsd.edu> в количестве 1\n",
      "--- References: в количестве 1\n",
      "--- <1993May16.143120.2248@ucsu.Colorado.EDU> в количестве 1\n",
      "--- NNTP-Posting-Host: в количестве 1\n",
      "--- lyapunov.ucsd.edu в количестве 1\n",
      "--- X-Newsreader: в количестве 1\n",
      "--- Tin в количестве 1\n",
      "--- 1.1 в количестве 1\n",
      "--- PL3 в количестве 1\n",
      "--- fcrary@ucsu.Colorado.EDU в количестве 1\n",
      "--- (Frank в количестве 1\n",
      "--- Crary) в количестве 1\n",
      "--- writes: в количестве 1\n",
      "--- : в количестве 14\n",
      "--- While в количестве 1\n",
      "--- I'm в количестве 1\n",
      "--- sure в количестве 1\n",
      "--- Sagan в количестве 1\n",
      "--- considers в количестве 1\n",
      "--- it в количестве 1\n",
      "--- sacrilegious, в количестве 1\n",
      "--- that в количестве 3\n",
      "--- wouldn't в количестве 1\n",
      "--- because в количестве 2\n",
      "--- of в количестве 9\n",
      "--- his в количестве 1\n",
      "--- doubtfull в количестве 1\n",
      "--- credibility в количестве 1\n",
      "--- as в количестве 5\n",
      "--- an в количестве 1\n",
      "--- astronomer. в количестве 1\n",
      "--- Modern, в количестве 1\n",
      "--- ground-based, в количестве 1\n",
      "--- visible в количестве 1\n",
      "--- light в количестве 2\n",
      "--- astronomy в количестве 2\n",
      "--- (what в количестве 1\n",
      "--- these в количестве 1\n",
      "--- proposed в количестве 1\n",
      "--- orbiting в количестве 2\n",
      "--- billboards в количестве 1\n",
      "--- upset) в количестве 1\n",
      "--- is в количестве 3\n",
      "--- already в количестве 2\n",
      "--- a в количестве 5\n",
      "--- dying в количестве 1\n",
      "--- field: в количестве 1\n",
      "--- The в количестве 3\n",
      "--- opacity в количестве 1\n",
      "--- and в количестве 1\n",
      "--- distortions в количестве 1\n",
      "--- caused в количестве 1\n",
      "--- by в количестве 1\n",
      "--- the в количестве 9\n",
      "--- atmosphere в количестве 1\n",
      "--- itself в количестве 1\n",
      "--- have в количестве 2\n",
      "--- driven в количестве 1\n",
      "--- most в количестве 1\n",
      "--- field в количестве 2\n",
      "--- to в количестве 3\n",
      "--- use в количестве 1\n",
      "--- radio, в количестве 1\n",
      "--- far в количестве 2\n",
      "--- infrared в количестве 1\n",
      "--- or в количестве 1\n",
      "--- space-based в количестве 1\n",
      "--- telescopes. в количестве 1\n",
      "--- Hardly. в количестве 1\n",
      "--- Keck в количестве 1\n",
      "--- telescope в количестве 1\n",
      "--- in в количестве 1\n",
      "--- Hawaii в количестве 1\n",
      "--- has в количестве 1\n",
      "--- taken в количестве 1\n",
      "--- its в количестве 1\n",
      "--- first в количестве 1\n",
      "--- pictures; в количестве 1\n",
      "--- they're в количестве 1\n",
      "--- nearly в количестве 1\n",
      "--- good в количестве 2\n",
      "--- Hubble в количестве 1\n",
      "--- for в количестве 3\n",
      "--- tiny в количестве 1\n",
      "--- fraction в количестве 1\n",
      "--- cost. в количестве 1\n",
      "--- In в количестве 1\n",
      "--- any в количестве 1\n",
      "--- case, в количестве 2\n",
      "--- bright в количестве 2\n",
      "--- point в количестве 1\n",
      "--- passing в количестве 1\n",
      "--- through в количестве 1\n",
      "--- doesn't в количестве 1\n",
      "--- ruin в количестве 1\n",
      "--- observations. в количестве 1\n",
      "--- If в количестве 1\n",
      "--- were в количестве 1\n",
      "--- thousands в количестве 1\n",
      "--- existing в количестве 1\n",
      "--- satellites в количестве 1\n",
      "--- done в количестве 1\n",
      "--- so в количестве 2\n",
      "--- (satelliets в количестве 1\n",
      "--- might в количестве 1\n",
      "--- not в количестве 2\n",
      "--- seem в количестве 1\n",
      "--- eyes, в количестве 1\n",
      "--- but в количестве 2\n",
      "--- concerned, в количестве 1\n",
      "--- they в количестве 1\n",
      "--- are в количестве 2\n",
      "--- extremely в количестве 1\n",
      "--- bright.) в количестве 1\n",
      "--- I в количестве 1\n",
      "--- believe в количестве 1\n",
      "--- this в количестве 2\n",
      "--- space в количестве 1\n",
      "--- junk в количестве 1\n",
      "--- will в количестве 1\n",
      "--- FAR в количестве 1\n",
      "--- brighter в количестве 1\n",
      "--- still; в количестве 1\n",
      "--- more в количестве 1\n",
      "--- like в количестве 1\n",
      "--- full в количестве 1\n",
      "--- moon. в количестве 1\n",
      "--- moon в количестве 1\n",
      "--- upsets в количестве 1\n",
      "--- deep-sky в количестве 1\n",
      "--- observation в количестве 1\n",
      "--- all в количестве 1\n",
      "--- over в количестве 1\n",
      "--- sky в количестве 1\n",
      "--- (and в количестве 1\n",
      "--- just в количестве 1\n",
      "--- looking в количестве 1\n",
      "--- at в количестве 1\n",
      "--- it) в количестве 1\n",
      "--- scattered в количестве 1\n",
      "--- light. в количестве 1\n",
      "--- This в количестве 1\n",
      "--- known в количестве 1\n",
      "--- problem, в количестве 1\n",
      "--- course в количестве 1\n",
      "--- two в количестве 1\n",
      "--- weeks в количестве 1\n",
      "--- out в количестве 1\n",
      "--- every в количестве 2\n",
      "--- four в количестве 1\n",
      "--- OK. в количестве 1\n",
      "--- What в количестве 2\n",
      "--- happens в количестве 1\n",
      "--- when в количестве 1\n",
      "--- billboard в количестве 1\n",
      "--- circles в количестве 1\n",
      "--- 90 в количестве 1\n",
      "--- minutes? в количестве 1\n",
      "--- time в количестве 1\n",
      "--- then? в количестве 1\n",
      "--- Frank в количестве 1\n",
      "--- Crary в количестве 1\n",
      "--- CU в количестве 1\n",
      "--- Boulder в количестве 1\n",
      "--- -- в количестве 1\n",
      "--- -Matt в количестве 1\n",
      "--- Kennel в количестве 1\n",
      "--- mbk@inls1.ucsd.edu в количестве 1\n",
      "--- -Institute в количестве 1\n",
      "--- University в количестве 1\n",
      "--- California, в количестве 1\n",
      "--- San в количестве 1\n",
      "--- Diego в количестве 1\n",
      "--- -*** в количестве 2\n",
      "--- AD: в количестве 1\n",
      "--- Archive в количестве 1\n",
      "--- nonlinear в количестве 1\n",
      "--- dynamics в количестве 1\n",
      "--- papers в количестве 1\n",
      "--- & в количестве 1\n",
      "--- programs: в количестве 1\n",
      "--- FTP в количестве 1\n",
      "--- lyapunov.ucsd.edu, в количестве 1\n",
      "--- username в количестве 1\n",
      "--- \"anonymous\". в количестве 1\n",
      "\n",
      "В ./20_newsgroups/sci.space/62708 есть слова: \n",
      "--- Xref: в количестве 1\n",
      "--- cantaloupe.srv.cs.cmu.edu в количестве 1\n",
      "--- sci.environment:30892 в количестве 1\n",
      "--- misc.consumers:69409 в количестве 1\n",
      "--- sci.astro:36226 в количестве 1\n",
      "--- talk.environment:12372 в количестве 1\n",
      "--- talk.politics.space:2933 в количестве 1\n",
      "--- sci.space:62708 в количестве 1\n",
      "--- rec.backcountry:32439 в количестве 1\n",
      "--- Path: в количестве 1\n",
      "--- cantaloupe.srv.cs.cmu.edu!das-news.harvard.edu!noc.near.net!howland.reston.ans.net!zaphod.mps.ohio-state.edu!sdd.hp.com!col.hp.com!cab в количестве 1\n",
      "--- From: в количестве 1\n",
      "--- cab@col.hp.com в количестве 1\n",
      "--- (Chris в количестве 1\n",
      "--- Best) в количестве 1\n",
      "--- Newsgroups: в количестве 1\n",
      "--- sci.environment,misc.consumers,sci.astro,talk.environment,talk.politics.space,sci.space,rec.backcountry в количестве 1\n",
      "--- Subject: в количестве 1\n",
      "--- Re: в количестве 1\n",
      "--- Space в количестве 1\n",
      "--- Marketing в количестве 1\n",
      "--- -- в количестве 2\n",
      "--- Boycott в количестве 1\n",
      "--- Date: в количестве 1\n",
      "--- 19 в количестве 1\n",
      "--- May в количестве 1\n",
      "--- 1993 в количестве 1\n",
      "--- 17:27:59 в количестве 1\n",
      "--- GMT в количестве 1\n",
      "--- Organization: в количестве 1\n",
      "--- your в количестве 1\n",
      "--- service в количестве 1\n",
      "--- Lines: в количестве 1\n",
      "--- 14 в количестве 1\n",
      "--- Message-ID: в количестве 1\n",
      "--- <1tdqmvINN3q2@hp-col.col.hp.com> в количестве 1\n",
      "--- References: в количестве 1\n",
      "--- <24.P022y43JM01@JUTS.ccc.amdahl.com> в количестве 1\n",
      "--- NNTP-Posting-Host: в количестве 1\n",
      "--- hpctdkz.col.hp.com в количестве 1\n",
      "--- > в количестве 7\n",
      "--- According в количестве 1\n",
      "--- to в количестве 4\n",
      "--- the в количестве 4\n",
      "--- person в количестве 1\n",
      "--- I в количестве 1\n",
      "--- talked в количестве 1\n",
      "--- to, в количестве 1\n",
      "--- proposed в количестве 1\n",
      "--- \"billboard\" в количестве 1\n",
      "--- will в количестве 1\n",
      "--- be в количестве 1\n",
      "--- too в количестве 1\n",
      "--- small в количестве 2\n",
      "--- resolve в количестве 1\n",
      "--- with в количестве 1\n",
      "--- naked в количестве 1\n",
      "--- eye в количестве 1\n",
      "--- so в количестве 1\n",
      "--- and в количестве 1\n",
      "--- visually в количестве 1\n",
      "--- unimportant... в количестве 1\n",
      "--- Anyway, в количестве 1\n",
      "--- he в количестве 3\n",
      "--- suggested в количестве 1\n",
      "--- that в количестве 2\n",
      "--- visual в количестве 1\n",
      "--- impact в количестве 1\n",
      "--- would в количестве 3\n",
      "--- approximate в количестве 1\n",
      "--- of в количестве 1\n",
      "--- a в количестве 2\n",
      "--- jumbo в количестве 1\n",
      "--- jet в количестве 1\n",
      "--- at в количестве 1\n",
      "--- 45k в количестве 1\n",
      "--- feet в количестве 1\n",
      "--- (12km) в количестве 1\n",
      "--- altitude. в количестве 1\n",
      "--- ---------- в количестве 1\n",
      "--- Are в количестве 1\n",
      "--- you в количестве 2\n",
      "--- sure в количестве 1\n",
      "--- didn't в количестве 1\n",
      "--- tailor в количестве 1\n",
      "--- his в количестве 1\n",
      "--- comments в количестве 1\n",
      "--- according в количестве 1\n",
      "--- what в количестве 2\n",
      "--- guessed в количестве 1\n",
      "--- wanted в количестве 1\n",
      "--- hear? в количестве 1\n",
      "--- In в количестве 1\n",
      "--- other в количестве 1\n",
      "--- words, в количестве 1\n",
      "--- LIE? в количестве 1\n",
      "--- Think в количестве 1\n",
      "--- about в количестве 1\n",
      "--- it в количестве 1\n",
      "--- - в количестве 1\n",
      "--- good в количестве 1\n",
      "--- billboard в количестве 1\n",
      "--- do в количестве 1\n",
      "--- for в количестве 1\n",
      "--- an в количестве 1\n",
      "--- advertiser в количестве 1\n",
      "--- if в количестве 1\n",
      "--- nobody в количестве 1\n",
      "--- can в количестве 1\n",
      "--- see в количестве 1\n",
      "--- it? в количестве 1\n",
      "--- Who в количестве 1\n",
      "--- advertise, в количестве 1\n",
      "--- telescope в количестве 1\n",
      "--- companies? в количестве 1\n",
      "--- Pretty в количестве 1\n",
      "--- narrow в количестве 1\n",
      "--- audience в количестве 1\n",
      "--- here. в количестве 1\n",
      "\n",
      "В ./20_newsgroups/sci.space/62480 есть слова: \n"
     ]
    },
    {
     "name": "stdout",
     "output_type": "stream",
     "text": [
      "--- Xref: в количестве 1\n",
      "--- cantaloupe.srv.cs.cmu.edu в количестве 1\n",
      "--- sci.environment:30751 в количестве 1\n",
      "--- misc.consumers:69257 в количестве 1\n",
      "--- misc.invest:42674 в количестве 1\n",
      "--- sci.astro:36052 в количестве 1\n",
      "--- talk.environment:12249 в количестве 1\n",
      "--- talk.politics.space:2873 в количестве 1\n",
      "--- sci.space:62480 в количестве 1\n",
      "--- rec.backcountry:32316 в количестве 1\n",
      "--- misc.rural:6339 в количестве 1\n",
      "--- misc.headlines:42268 в количестве 1\n",
      "--- misc.legal:63427 в количестве 1\n",
      "--- Newsgroups: в количестве 1\n",
      "--- sci.environment,misc.consumers,misc.invest,sci.astro,talk.environment,talk.politics.space,sci.space,rec.backcountry,misc.rural,misc.headlines,k12.chat.teacher,misc.legal в количестве 1\n",
      "--- Path: в количестве 1\n",
      "--- cantaloupe.srv.cs.cmu.edu!das-news.harvard.edu!noc.near.net!howland.reston.ans.net!europa.eng.gtefsd.com!fs7.ece.cmu.edu!fs7.ECE.CMU.EDU!loss в количестве 1\n",
      "--- From: в количестве 1\n",
      "--- loss@fs7.ECE.CMU.EDU в количестве 1\n",
      "--- (Doug в количестве 1\n",
      "--- Loss) в количестве 1\n",
      "--- Subject: в количестве 1\n",
      "--- Re: в количестве 1\n",
      "--- Space в количестве 1\n",
      "--- Marketing в количестве 1\n",
      "--- would в количестве 1\n",
      "--- be в количестве 1\n",
      "--- wonderfull. в количестве 1\n",
      "--- Message-ID: в количестве 1\n",
      "--- <C76BMs.8x5@fs7.ece.cmu.edu> в количестве 1\n",
      "--- Sender: в количестве 1\n",
      "--- news@fs7.ece.cmu.edu в количестве 1\n",
      "--- (USENET в количестве 1\n",
      "--- News в количестве 1\n",
      "--- System) в количестве 1\n",
      "--- Organization: в количестве 1\n",
      "--- Electrical в количестве 1\n",
      "--- and в количестве 1\n",
      "--- Computer в количестве 1\n",
      "--- Engineering, в количестве 1\n",
      "--- Carnegie в количестве 1\n",
      "--- Mellon в количестве 1\n",
      "--- References: в количестве 1\n",
      "--- <C75A0p.8DK@news.cso.uiuc.edu> в количестве 1\n",
      "--- <pgf.737604987@srl03.cacs.usl.edu> в количестве 1\n",
      "--- <C760Dv.K75@agora.rain.com> в количестве 2\n",
      "--- Date: в количестве 1\n",
      "--- Mon, в количестве 1\n",
      "--- 17 в количестве 2\n",
      "--- May в количестве 1\n",
      "--- 1993 в количестве 1\n",
      "--- 13:47:13 в количестве 1\n",
      "--- GMT в количестве 1\n",
      "--- Lines: в количестве 1\n",
      "--- In в количестве 1\n",
      "--- article в количестве 1\n",
      "--- jhart@agora.rain.com в количестве 1\n",
      "--- (Jim в количестве 1\n",
      "--- Hart) в количестве 1\n",
      "--- writes: в количестве 1\n",
      "--- > в количестве 3\n",
      "--- >[...] в количестве 1\n",
      "--- >Astronomers в количестве 1\n",
      "--- have в количестве 1\n",
      "--- been в количестве 1\n",
      "--- using в количестве 1\n",
      "--- the в количестве 2\n",
      "--- night в количестве 1\n",
      "--- sky в количестве 1\n",
      "--- for в количестве 1\n",
      "--- thousands в количестве 1\n",
      "--- of в количестве 3\n",
      "--- years в количестве 1\n",
      "--- -- в количестве 1\n",
      "--- >they в количестве 1\n",
      "--- own в количестве 1\n",
      "--- it. в количестве 1\n",
      "--- If в количестве 1\n",
      "--- they в количестве 2\n",
      "--- don't в количестве 1\n",
      "--- complain в количестве 1\n",
      "--- now в количестве 1\n",
      "--- against в количестве 1\n",
      "--- scenic в количестве 1\n",
      "--- trespassers в количестве 1\n",
      "--- >(eg в количестве 1\n",
      "--- light в количестве 1\n",
      "--- polluters), в количестве 1\n",
      "--- will в количестве 1\n",
      "--- lose в количестве 1\n",
      "--- their в количестве 1\n",
      "--- common-law в количестве 1\n",
      "--- right в количестве 1\n",
      "--- ownership. в количестве 1\n",
      "--- Is в количестве 1\n",
      "--- English в количестве 1\n",
      "--- (American, в количестве 1\n",
      "--- Canadian, в количестве 1\n",
      "--- etc.) в количестве 1\n",
      "--- common в количестве 1\n",
      "--- law в количестве 1\n",
      "--- recognized в количестве 1\n",
      "--- as в количестве 1\n",
      "--- legally в количестве 1\n",
      "--- binding в количестве 1\n",
      "--- under в количестве 1\n",
      "--- international в количестве 1\n",
      "--- law? в количестве 1\n",
      "--- After в количестве 1\n",
      "--- all, в количестве 1\n",
      "--- we're в количестве 1\n",
      "--- talking в количестве 1\n",
      "--- about в количестве 1\n",
      "--- something в количестве 1\n",
      "--- that в количестве 1\n",
      "--- by в количестве 1\n",
      "--- its в количестве 1\n",
      "--- very в количестве 1\n",
      "--- nature в количестве 1\n",
      "--- isn't в количестве 1\n",
      "--- limited в количестве 1\n",
      "--- to в количестве 1\n",
      "--- territory в количестве 1\n",
      "--- one в количестве 1\n",
      "--- nation. в количестве 1\n",
      "--- Doug в количестве 1\n",
      "--- Loss в количестве 1\n",
      "--- loss@husky.bloomu.edu в количестве 1\n",
      "\n",
      "В ./20_newsgroups/sci.space/62615 есть слова: \n",
      "--- Path: в количестве 1\n",
      "--- cantaloupe.srv.cs.cmu.edu!das-news.harvard.edu!noc.near.net!howland.reston.ans.net!zaphod.mps.ohio-state.edu!menudo.uh.edu!oac4.hsc.uth.tmc.edu!oac2.hsc.uth.tmc.edu!user в количестве 1\n",
      "--- From: в количестве 1\n",
      "--- cshotton@oac.hsc.uth.tmc.edu в количестве 1\n",
      "--- (Chuck в количестве 1\n",
      "--- Shotton) в количестве 1\n",
      "--- Newsgroups: в количестве 1\n",
      "--- sci.space в количестве 2\n",
      "--- Subject: в количестве 1\n",
      "--- Re: в количестве 1\n",
      "--- Interesting в количестве 1\n",
      "--- DC-X в количестве 2\n",
      "--- cost в количестве 6\n",
      "--- anecdote в количестве 1\n",
      "--- Followup-To: в количестве 1\n",
      "--- Date: в количестве 1\n",
      "--- 18 в количестве 1\n",
      "--- May в количестве 1\n",
      "--- 1993 в количестве 1\n",
      "--- 18:01:52 в количестве 1\n",
      "--- GMT в количестве 1\n",
      "--- Organization: в количестве 1\n",
      "--- Academic в количестве 1\n",
      "--- Computing в количестве 1\n",
      "--- Lines: в количестве 1\n",
      "--- 22 в количестве 1\n",
      "--- Distribution: в количестве 1\n",
      "--- world в количестве 1\n",
      "--- Message-ID: в количестве 1\n",
      "--- <cshotton-180593125810@oac2.hsc.uth.tmc.edu> в количестве 1\n",
      "--- References: в количестве 1\n",
      "--- <1993May14.200217.3044@iti.org> в количестве 1\n",
      "--- NNTP-Posting-Host: в количестве 1\n",
      "--- oac2.hsc.uth.tmc.edu в количестве 1\n",
      "--- In в количестве 1\n",
      "--- article в количестве 1\n",
      "--- <1993May14.200217.3044@iti.org>, в количестве 1\n",
      "--- aws@iti.org в количестве 1\n",
      "--- (Allen в количестве 1\n",
      "--- W. в количестве 1\n",
      "--- Sherzer) в количестве 1\n",
      "--- wrote: в количестве 1\n",
      "--- > в количестве 9\n",
      "--- A в количестве 1\n",
      "--- staffer в количестве 1\n",
      "--- just в количестве 2\n",
      "--- told в количестве 1\n",
      "--- me в количестве 1\n",
      "--- an в количестве 2\n",
      "--- interesting в количестве 1\n",
      "--- story в количестве 1\n",
      "--- about в количестве 1\n",
      "--- DC-X. в количестве 1\n",
      "--- An в количестве 1\n",
      "--- Air в количестве 2\n",
      "--- Force в количестве 2\n",
      "--- costing в количестве 1\n",
      "--- team в количестве 1\n",
      "--- looked в количестве 1\n",
      "--- at в количестве 1\n",
      "--- the в количестве 9\n",
      "--- (now в количестве 1\n",
      "--- called в количестве 1\n",
      "--- DC-X1 в количестве 1\n",
      "--- BTW) в количестве 1\n",
      "--- and в количестве 7\n",
      "--- gave в количестве 1\n",
      "--- estimate в количестве 1\n",
      "--- on в количестве 2\n",
      "--- how в количестве 1\n",
      "--- much в количестве 1\n",
      "--- it в количестве 2\n",
      "--- would в количестве 3\n",
      "--- to в количестве 5\n",
      "--- build в количестве 2\n",
      "--- it. в количестве 1\n",
      "--- It в количестве 1\n",
      "--- SDIO в количестве 1\n",
      "--- $70M в количестве 1\n",
      "--- USAF: в количестве 1\n",
      "--- $320 в количестве 1\n",
      "--- million в количестве 1\n",
      "--- or в количестве 2\n",
      "--- four в количестве 1\n",
      "--- a в количестве 3\n",
      "--- half в количестве 1\n",
      "--- times в количестве 1\n",
      "--- as в количестве 1\n",
      "--- much. в количестве 1\n",
      "--- I'd в количестве 1\n",
      "--- be в количестве 3\n",
      "--- willing в количестве 1\n",
      "--- bet в количестве 1\n",
      "--- that в количестве 2\n",
      "--- majority в количестве 1\n",
      "--- of в количестве 4\n",
      "--- difference в количестве 1\n",
      "--- could в количестве 1\n",
      "--- accounted в количестве 1\n",
      "--- for в количестве 2\n",
      "--- by в количестве 1\n",
      "--- AF's в количестве 1\n",
      "--- requirement в количестве 1\n",
      "--- superfluous в количестве 1\n",
      "--- 2167 в количестве 1\n",
      "--- documentation, в количестве 1\n",
      "--- 5 в количестве 1\n",
      "--- 6 в количестве 1\n",
      "--- huge в количестве 1\n",
      "--- requirements в количестве 1\n",
      "--- design в количестве 1\n",
      "--- reviews, в количестве 1\n",
      "--- travel в количестве 1\n",
      "--- expenses в количестве 1\n",
      "--- flying в количестве 1\n",
      "--- personnel в количестве 1\n",
      "--- around в количестве 1\n",
      "--- meetings, в количестве 1\n",
      "--- over в количестве 1\n",
      "--- specifying в количестве 1\n",
      "--- hardware. в количестве 1\n",
      "--- I в количестве 1\n",
      "--- doubt в количестве 1\n",
      "--- actual в количестве 1\n",
      "--- fabrication в количестве 1\n",
      "--- in в количестве 1\n",
      "--- materials в количестве 1\n",
      "--- labor в количестве 1\n",
      "--- very в количестве 1\n",
      "--- different в количестве 1\n",
      "--- from в количестве 1\n",
      "--- SDIO's в количестве 1\n",
      "--- costs. в количестве 1\n",
      "--- Of в количестве 1\n",
      "--- course, в количестве 1\n",
      "--- this в количестве 1\n",
      "--- is в количестве 1\n",
      "--- my в количестве 1\n",
      "--- cynical в количестве 1\n",
      "--- opinion в количестве 1\n",
      "--- based в количестве 1\n",
      "--- years в количестве 1\n",
      "--- watching в количестве 1\n",
      "--- government в количестве 1\n",
      "--- procurement в количестве 1\n",
      "--- process в количестве 1\n",
      "--- try в количестве 1\n",
      "--- cover в количестве 1\n",
      "--- up в количестве 1\n",
      "--- lack в количестве 1\n",
      "--- creativity в количестве 1\n",
      "--- innovation в количестве 1\n",
      "--- with в количестве 1\n",
      "--- reams в количестве 1\n",
      "--- documentation. в количестве 1\n",
      "--- ;) в количестве 1\n",
      "\n",
      "В ./20_newsgroups/sci.space/62481 есть слова: \n",
      "--- Xref: в количестве 1\n",
      "--- cantaloupe.srv.cs.cmu.edu в количестве 1\n",
      "--- sci.environment:30752 в количестве 1\n",
      "--- misc.consumers:69258 в количестве 1\n",
      "--- misc.invest:42675 в количестве 1\n",
      "--- sci.astro:36054 в количестве 1\n",
      "--- talk.environment:12250 в количестве 1\n",
      "--- sci.space:62481 в количестве 1\n",
      "--- rec.backcountry:32317 в количестве 1\n",
      "--- misc.rural:6340 в количестве 1\n",
      "--- misc.headlines:42269 в количестве 1\n",
      "--- Newsgroups: в количестве 1\n",
      "--- sci.environment,misc.consumers,misc.invest,sci.astro,talk.environment,talk.politics/space,sci.space,rec.backcountry,misc.rural,misc.headlines,k12.chat.teacher в количестве 1\n",
      "--- Path: в количестве 1\n",
      "--- cantaloupe.srv.cs.cmu.edu!rochester!udel!gatech!howland.reston.ans.net!ux1.cso.uiuc.edu!uunet!news.encore.com!ns.encore.com!rcollins в количестве 1\n",
      "--- From: в количестве 1\n",
      "--- rcollins@ns.encore.com в количестве 1\n",
      "--- (Roger в количестве 1\n",
      "--- Collins) в количестве 1\n",
      "--- Subject: в количестве 1\n",
      "--- Re: в количестве 1\n",
      "--- Space в количестве 1\n",
      "--- Marketing в количестве 1\n",
      "--- would в количестве 5\n",
      "--- be в количестве 2\n",
      "--- wonderfull. в количестве 1\n",
      "--- Reply-To: в количестве 1\n",
      "--- rcollins@encore.com в количестве 1\n",
      "--- Organization: в количестве 1\n",
      "--- Encore в количестве 1\n",
      "--- Computer в количестве 1\n",
      "--- Corporation в количестве 1\n",
      "--- Date: в количестве 1\n",
      "--- Mon, в количестве 1\n",
      "--- 17 в количестве 1\n",
      "--- May в количестве 1\n",
      "--- 1993 в количестве 1\n",
      "--- 13:29:04 в количестве 1\n",
      "--- GMT в количестве 1\n",
      "--- Message-ID: в количестве 1\n",
      "--- <C76AsH.90B@encore.com> в количестве 1\n",
      "--- References: в количестве 1\n",
      "--- <C73rp4.3G2@lysator.liu.se> в количестве 1\n",
      "--- <C73u77.84x@world.std.com> в количестве 1\n",
      "--- <C74rGL.4u7@ucdavis.edu> в количестве 2\n",
      "--- <geoffmC7508L.F1K@netcom.com> в количестве 1\n",
      "--- Sender: в количестве 1\n",
      "--- news@encore.com в количестве 1\n",
      "--- (Usenet в количестве 1\n",
      "--- readnews в количестве 1\n",
      "--- user в количестве 1\n",
      "--- id) в количестве 1\n",
      "--- Nntp-Posting-Host: в количестве 1\n",
      "--- sysgem1.encore.com в количестве 1\n",
      "--- Lines: в количестве 1\n",
      "--- 23 в количестве 1\n",
      "--- In в количестве 2\n",
      "--- article в количестве 2\n",
      "--- <geoffmC7508L.F1K@netcom.com>, в количестве 1\n",
      "--- geoffm@netcom.com в количестве 1\n",
      "--- (Geoff в количестве 1\n",
      "--- Miller) в количестве 1\n",
      "--- writes: в количестве 2\n",
      "--- |> в количестве 13\n",
      "--- ez012344@hamlet.ucdavis.edu в количестве 1\n",
      "--- (Dan в количестве 1\n",
      "--- Herrin) в количестве 1\n",
      "--- >Is в количестве 1\n",
      "--- it в количестве 3\n",
      "--- not в количестве 3\n",
      "--- also в количестве 1\n",
      "--- an в количестве 1\n",
      "--- abomination в количестве 1\n",
      "--- that в количестве 1\n",
      "--- somebody в количестве 1\n",
      "--- spend в количестве 2\n",
      "--- money в количестве 3\n",
      "--- on в количестве 2\n",
      "--- \"space в количестве 1\n",
      "--- >advertising\" в количестве 1\n",
      "--- when в количестве 1\n",
      "--- those в количестве 1\n",
      "--- children в количестве 2\n",
      "--- are в количестве 1\n",
      "--- starving? в количестве 1\n",
      "--- Perhaps в количестве 1\n",
      "--- some в количестве 1\n",
      "--- redistribution в количестве 1\n",
      "--- >of в количестве 1\n",
      "--- wealth в количестве 1\n",
      "--- help в количестве 1\n",
      "--- them в количестве 1\n",
      "--- ... в количестве 1\n",
      "--- This в количестве 1\n",
      "--- is в количестве 4\n",
      "--- specious в количестве 1\n",
      "--- emotionalism. в количестве 1\n",
      "--- Commercial в количестве 1\n",
      "--- enterprises в количестве 2\n",
      "--- typically в количестве 1\n",
      "--- don't в количестве 1\n",
      "--- starving в количестве 1\n",
      "--- (or в количестве 1\n",
      "--- other в количестве 1\n",
      "--- world в количестве 2\n",
      "--- problems) в количестве 1\n",
      "--- anyway, в количестве 1\n",
      "--- at в количестве 1\n",
      "--- least в количестве 1\n",
      "--- in в количестве 2\n",
      "--- excess в количестве 1\n",
      "--- of в количестве 1\n",
      "--- whatever в количестве 1\n",
      "--- minimum в количестве 1\n",
      "--- amount в количестве 1\n",
      "--- required в количестве 1\n",
      "--- for в количестве 2\n",
      "--- lip- в количестве 1\n",
      "--- service в количестве 1\n",
      "--- and в количестве 4\n",
      "--- PR в количестве 1\n",
      "--- purposes. в количестве 1\n",
      "--- Precisely в количестве 1\n",
      "--- where в количестве 1\n",
      "--- you в количестве 1\n",
      "--- place в количестве 1\n",
      "--- the в количестве 5\n",
      "--- threshold в количестве 1\n",
      "--- beyond в количестве 1\n",
      "--- which в количестве 1\n",
      "--- advertising в количестве 1\n",
      "--- spending в количестве 1\n",
      "--- deemed в количестве 1\n",
      "--- \"abominable,\" в количестве 1\n",
      "--- why? в количестве 1\n",
      "--- Yes! в количестве 1\n",
      "--- Just в количестве 1\n",
      "--- take в количестве 1\n",
      "--- from в количестве 1\n",
      "--- profitable в количестве 1\n",
      "--- commercial в количестве 2\n",
      "--- give в количестве 1\n",
      "--- to в количестве 2\n",
      "--- government в количестве 1\n",
      "--- \"redistribute.\" в количестве 1\n",
      "--- Government в количестве 1\n",
      "--- so в количестве 1\n",
      "--- much в количестве 1\n",
      "--- more в количестве 1\n",
      "--- efficient, в количестве 1\n",
      "--- trustworthy, в количестве 1\n",
      "--- noble в количестве 1\n",
      "--- than в количестве 1\n",
      "--- self-serving в количестве 1\n",
      "--- businesses. в количестве 1\n",
      "--- :) в количестве 1\n",
      "--- Let's в количестве 1\n",
      "--- nip в количестве 1\n",
      "--- this в количестве 1\n",
      "--- redistributionist в количестве 1\n",
      "--- ignorance в количестве 1\n",
      "--- bud. в количестве 1\n",
      "--- If в количестве 1\n",
      "--- were в количестве 1\n",
      "--- enterprises, в количестве 1\n",
      "--- whole в количестве 1\n",
      "--- starving. в количестве 1\n",
      "--- Roger в количестве 1\n",
      "--- Collins в количестве 1\n",
      "\n",
      "В ./20_newsgroups/sci.space/62477 есть слова: \n",
      "\n",
      "В ./20_newsgroups/sci.space/62478 есть слова: \n",
      "--- Xref: в количестве 1\n",
      "--- cantaloupe.srv.cs.cmu.edu в количестве 1\n",
      "--- sci.environment:30750 в количестве 1\n",
      "--- misc.consumers:69256 в количестве 1\n",
      "--- misc.invest:42673 в количестве 1\n",
      "--- sci.astro:36051 в количестве 1\n",
      "--- talk.environment:12248 в количестве 1\n",
      "--- talk.politics.space:2872 в количестве 1\n",
      "--- sci.space:62478 в количестве 1\n",
      "--- rec.backcountry:32315 в количестве 1\n",
      "--- misc.rural:6338 в количестве 1\n",
      "--- misc.headlines:42267 в количестве 1\n",
      "--- misc.legal:63426 в количестве 1\n",
      "--- Newsgroups: в количестве 1\n",
      "--- sci.environment,misc.consumers,misc.invest,sci.astro,talk.environment,talk.politics.space,sci.space,rec.backcountry,misc.rural,misc.headlines,k12.chat.teacher,misc.legal в количестве 1\n",
      "--- Path: в количестве 1\n",
      "--- cantaloupe.srv.cs.cmu.edu!rochester!udel!darwin.sura.net!zaphod.mps.ohio-state.edu!news.acns.nwu.edu!schur!len в количестве 1\n",
      "--- From: в количестве 1\n",
      "--- len@schur.math.nwu.edu в количестве 1\n",
      "--- (Len в количестве 1\n",
      "--- Evens) в количестве 1\n",
      "--- Subject: в количестве 1\n",
      "--- Re: в количестве 1\n",
      "--- Space в количестве 1\n",
      "--- Marketing в количестве 1\n",
      "--- would в количестве 3\n",
      "--- be в количестве 4\n",
      "--- wonderfull. в количестве 1\n",
      "--- Message-ID: в количестве 1\n",
      "--- <1993May17.133444.5922@news.acns.nwu.edu> в количестве 1\n",
      "--- Sender: в количестве 1\n",
      "--- usenet@news.acns.nwu.edu в количестве 1\n",
      "--- (Usenet в количестве 1\n",
      "--- on в количестве 4\n",
      "--- news.acns) в количестве 1\n",
      "--- Nntp-Posting-Host: в количестве 1\n",
      "--- schur.math.nwu.edu в количестве 1\n",
      "--- Organization: в количестве 1\n",
      "--- Dept в количестве 1\n",
      "--- of в количестве 15\n",
      "--- Math, в количестве 1\n",
      "--- Northwestern в количестве 2\n",
      "--- Univ в количестве 1\n",
      "--- References: в количестве 1\n",
      "--- <C75A0p.8DK@news.cso.uiuc.edu> в количестве 1\n",
      "--- <pgf.737604987@srl03.cacs.usl.edu> в количестве 1\n",
      "--- <C760Dv.K75@agora.rain.com> в количестве 2\n",
      "--- Date: в количестве 1\n",
      "--- Mon, в количестве 1\n",
      "--- 17 в количестве 1\n",
      "--- May в количестве 1\n",
      "--- 1993 в количестве 1\n",
      "--- 13:34:44 в количестве 1\n",
      "--- GMT в количестве 1\n",
      "--- Lines: в количестве 1\n",
      "--- 61 в количестве 1\n",
      "--- In в количестве 4\n",
      "--- article в количестве 1\n",
      "--- jhart@agora.rain.com в количестве 1\n",
      "--- (Jim в количестве 1\n",
      "--- Hart) в количестве 1\n",
      "--- writes: в количестве 1\n",
      "--- > в количестве 7\n",
      "--- >If в количестве 1\n",
      "--- anybody в количестве 1\n",
      "--- has в количестве 1\n",
      "--- a в количестве 10\n",
      "--- strong в количестве 1\n",
      "--- claim в количестве 3\n",
      "--- to в количестве 22\n",
      "--- control в количестве 1\n",
      "--- the в количестве 14\n",
      "--- night в количестве 3\n",
      "--- sky, в количестве 1\n",
      "--- it в количестве 8\n",
      "--- is в количестве 3\n",
      "--- >astronomers. в количестве 1\n",
      "--- Check в количестве 1\n",
      "--- out в количестве 1\n",
      "--- common в количестве 2\n",
      "--- law. в количестве 2\n",
      "--- days в количестве 1\n",
      "--- when в количестве 3\n",
      "--- wild в количестве 1\n",
      "--- lands в количестве 1\n",
      "--- >weren't в количестве 1\n",
      "--- scarce, в количестве 1\n",
      "--- pioneers в количестве 1\n",
      "--- laid в количестве 1\n",
      "--- land в количестве 2\n",
      "--- by в количестве 3\n",
      "--- putting в количестве 1\n",
      "--- >use, в количестве 1\n",
      "--- eg в количестве 1\n",
      "--- clearing в количестве 1\n",
      "--- and в количестве 7\n",
      "--- growing в количестве 1\n",
      "--- crop. в количестве 1\n",
      "--- Even в количестве 2\n",
      "--- trespassers в количестве 1\n",
      "--- can в количестве 3\n",
      "--- lay в количестве 1\n",
      "--- >the в количестве 2\n",
      "--- right в количестве 2\n",
      "--- passage в количестве 1\n",
      "--- if в количестве 4\n",
      "--- they've в количестве 1\n",
      "--- done в количестве 1\n",
      "--- for в количестве 6\n",
      "--- long в количестве 2\n",
      "--- enough в количестве 1\n",
      "--- >owners в количестве 1\n",
      "--- have в количестве 4\n",
      "--- not в количестве 3\n",
      "--- complained в количестве 1\n",
      "--- or в количестве 1\n",
      "--- taken в количестве 1\n",
      "--- steps в количестве 1\n",
      "--- stop в количестве 1\n",
      "--- them. в количестве 2\n",
      "--- Usage в количестве 1\n",
      "--- >begets в количестве 1\n",
      "--- property в количестве 1\n",
      "--- rights. в количестве 1\n",
      "--- >Astronomers в количестве 1\n",
      "--- been в количестве 1\n",
      "--- using в количестве 1\n",
      "--- sky в количестве 2\n",
      "--- thousands в количестве 1\n",
      "--- years в количестве 1\n",
      "--- -- в количестве 1\n",
      "--- >they в количестве 1\n",
      "--- own в количестве 2\n",
      "--- it. в количестве 1\n",
      "--- >(eg в количестве 1\n",
      "--- light в количестве 2\n",
      "--- polluters), в количестве 1\n",
      "--- they в количестве 4\n",
      "--- will в количестве 2\n",
      "--- lose в количестве 1\n",
      "--- their в количестве 3\n",
      "--- common-law в количестве 1\n",
      "--- ownership. в количестве 1\n",
      "--- >Another в количестве 1\n",
      "--- consequence в количестве 1\n",
      "--- ownership в количестве 1\n",
      "--- that в количестве 5\n",
      "--- are в количестве 2\n",
      "--- free в количестве 2\n",
      "--- sell в количестве 1\n",
      "--- >it. в количестве 1\n",
      "--- Now, в количестве 1\n",
      "--- astronomers в количестве 2\n",
      "--- need в количестве 2\n",
      "--- money в количестве 2\n",
      "--- work. в количестве 1\n",
      "--- If в количестве 1\n",
      "--- >polluting в количестве 1\n",
      "--- billboards в количестве 1\n",
      "--- mirrors в количестве 1\n",
      "--- go в количестве 1\n",
      "--- up, в количестве 1\n",
      "--- even в количестве 1\n",
      "--- >more в количестве 1\n",
      "--- buy в количестве 1\n",
      "--- extra в количестве 1\n",
      "--- image в количестве 1\n",
      "--- processing в количестве 1\n",
      "--- equipment, в количестве 1\n",
      "--- filters, в количестве 1\n",
      "--- >space в количестве 1\n",
      "--- telescopes в количестве 1\n",
      "--- etc. в количестве 2\n",
      "--- get в количестве 2\n",
      "--- around в количестве 1\n",
      "--- problem. в количестве 2\n",
      "--- >So, в количестве 1\n",
      "--- as в количестве 3\n",
      "--- we в количестве 1\n",
      "--- define в количестве 1\n",
      "--- who в количестве 2\n",
      "--- \"astronomers\" в количестве 1\n",
      "--- (eg в количестве 1\n",
      "--- do в количестве 2\n",
      "--- >\"they\" в количестве 1\n",
      "--- include в количестве 1\n",
      "--- amateur в количестве 1\n",
      "--- astronomers? в количестве 1\n",
      "--- Nature в количестве 1\n",
      "--- lovers?) в количестве 1\n",
      "--- >we в количестве 1\n",
      "--- set в количестве 1\n",
      "--- up в количестве 1\n",
      "--- system в количестве 1\n",
      "--- voluntary в количестве 1\n",
      "--- consensus в количестве 1\n",
      "--- solve в количестве 2\n",
      "--- this в количестве 2\n",
      "--- >dispute, в количестве 1\n",
      "--- instead в количестве 2\n",
      "--- invoking в количестве 1\n",
      "--- bans, в количестве 1\n",
      "--- regulations, в количестве 1\n",
      "--- enforced в количестве 1\n",
      "--- >by в количестве 1\n",
      "--- bribed в количестве 1\n",
      "--- politicians в количестве 1\n",
      "--- at в количестве 1\n",
      "--- point в количестве 1\n",
      "--- gun в количестве 1\n",
      "--- (why в количестве 1\n",
      "--- folks в количестве 1\n",
      "--- always в количестве 1\n",
      "--- >think в количестве 1\n",
      "--- sordid в количестве 1\n",
      "--- solution, в количестве 1\n",
      "--- \"we в количестве 1\n",
      "--- ought в количестве 2\n",
      "--- pass в количестве 1\n",
      "--- law\", в количестве 1\n",
      "--- >solve в количестве 1\n",
      "--- problems в количестве 1\n",
      "--- first в количестве 3\n",
      "--- last в количестве 1\n",
      "--- resort в количестве 1\n",
      "--- other в количестве 1\n",
      "--- >methods в количестве 1\n",
      "--- failed?) в количестве 1\n",
      "--- [Stuff в количестве 1\n",
      "--- deleted] в количестве 1\n",
      "--- This в количестве 2\n",
      "--- proposal в количестве 2\n",
      "--- certainly в количестве 1\n",
      "--- needs в количестве 1\n",
      "--- work, в количестве 2\n",
      "--- but в количестве 2\n",
      "--- how в количестве 2\n",
      "--- about в количестве 2\n",
      "--- working в количестве 1\n",
      "--- >these в количестве 1\n",
      "--- kind в количестве 1\n",
      "--- ideas в количестве 1\n",
      "--- before в количестве 1\n",
      "--- writing в количестве 1\n",
      "--- \"there в количестве 1\n",
      "--- law\" в количестве 1\n",
      "--- >letters в количестве 1\n",
      "--- our в количестве 1\n",
      "--- Congresscritters: в количестве 1\n",
      "--- let's в количестве 1\n",
      "--- give в количестве 2\n",
      "--- noncoercive в количестве 1\n",
      "--- consensus, в количестве 1\n",
      "--- via в количестве 1\n",
      "--- market, в количестве 1\n",
      "--- chance в количестве 1\n",
      "--- >Jim в количестве 1\n",
      "--- Hart в количестве 3\n",
      "--- >jhart@agora.rain.com в количестве 1\n",
      "--- Would в количестве 1\n",
      "--- Mr. в количестве 3\n",
      "--- please в количестве 1\n",
      "--- explain в количестве 1\n",
      "--- one в количестве 1\n",
      "--- could в количестве 1\n",
      "--- every в количестве 3\n",
      "--- nation в количестве 2\n",
      "--- earth в количестве 1\n",
      "--- corporation в количестве 1\n",
      "--- agree в количестве 2\n",
      "--- without в количестве 1\n",
      "--- `coercion'. в количестве 1\n",
      "--- Remember в количестве 1\n",
      "--- follows в количестве 1\n",
      "--- English в количестве 1\n",
      "--- most в количестве 2\n",
      "--- countries, в количестве 1\n",
      "--- history, в количестве 1\n",
      "--- was в количестве 1\n",
      "--- probably в количестве 1\n",
      "--- true в количестве 1\n",
      "--- rulers в количестве 1\n",
      "--- `owned' в количестве 1\n",
      "--- everything в количестве 1\n",
      "--- explicitly в количестве 1\n",
      "--- owned в количестве 2\n",
      "--- individuals. в количестве 1\n",
      "--- in в количестве 3\n",
      "--- North в количестве 1\n",
      "--- America, в количестве 1\n",
      "--- where в количестве 1\n",
      "--- principle в количестве 1\n",
      "--- enunciated, в количестве 1\n",
      "--- aboriginal в количестве 1\n",
      "--- inhabitants в количестве 1\n",
      "--- should в количестве 1\n",
      "--- everything, в количестве 1\n",
      "--- new в количестве 1\n",
      "--- arrivals в количестве 1\n",
      "--- wanted в количестве 1\n",
      "--- use в количестве 2\n",
      "--- resources, в количестве 1\n",
      "--- just в количестве 1\n",
      "--- took в количестве 1\n",
      "--- over. в количестве 1\n",
      "--- case в количестве 1\n",
      "--- hasn't в количестве 1\n",
      "--- noticed, в количестве 1\n",
      "--- there в количестве 1\n",
      "--- currently в количестве 1\n",
      "--- brutal в количестве 1\n",
      "--- war в количестве 1\n",
      "--- going в количестве 1\n",
      "--- Bosnia в количестве 1\n",
      "--- owns в количестве 1\n",
      "--- what. в количестве 1\n",
      "--- Of в количестве 1\n",
      "--- course, в количестве 1\n",
      "--- some в количестве 2\n",
      "--- friendly в количестве 1\n",
      "--- super в количестве 1\n",
      "--- power в количестве 1\n",
      "--- were в количестве 1\n",
      "--- an в количестве 1\n",
      "--- international в количестве 1\n",
      "--- astronomy в количестве 1\n",
      "--- organization в количестве 1\n",
      "--- anti-satelite в количестве 1\n",
      "--- missiles в количестве 1\n",
      "--- also в количестве 2\n",
      "--- defend в количестве 1\n",
      "--- attacked, в количестве 1\n",
      "--- such в количестве 1\n",
      "--- might в количестве 2\n",
      "--- hardly в количестве 1\n",
      "--- non-coercive. в количестве 1\n",
      "--- Some в количестве 1\n",
      "--- us в количестве 1\n",
      "--- nutty в количестве 1\n",
      "--- environmentalists в количестве 1\n",
      "--- think в количестве 1\n",
      "--- make в количестве 1\n",
      "--- sense в количестве 1\n",
      "--- try в количестве 1\n",
      "--- mobilize в количестве 1\n",
      "--- public в количестве 1\n",
      "--- opinion в количестве 1\n",
      "--- against в количестве 1\n",
      "--- advertising в количестве 1\n",
      "--- space в количестве 1\n",
      "--- governmental в количестве 1\n",
      "--- actions в количестве 1\n",
      "--- (like в количестве 1\n",
      "--- taxing в количестве 1\n",
      "--- power, в количестве 1\n",
      "--- example) в количестве 1\n",
      "--- discourage в количестве 1\n",
      "--- course в количестве 1\n",
      "--- too в количестве 1\n",
      "--- coercive в количестве 1\n",
      "--- Hart. в количестве 1\n",
      "--- Leonard в количестве 1\n",
      "--- Evens в количестве 1\n",
      "--- len@math.nwu.edu в количестве 1\n",
      "--- 708-491-5537 в количестве 1\n",
      "--- Dept. в количестве 1\n",
      "--- Mathematics, в количестве 1\n",
      "--- Univ., в количестве 1\n",
      "--- Evanston, в количестве 1\n",
      "--- IL в количестве 1\n",
      "--- 60208 в количестве 1\n",
      "\n",
      "В ./20_newsgroups/sci.space/62616 есть слова: \n",
      "--- Newsgroups: в количестве 1\n",
      "--- sci.space в количестве 1\n",
      "--- Path: в количестве 1\n",
      "--- cantaloupe.srv.cs.cmu.edu!rochester!cornell!uw-beaver!uhog.mit.edu!enterpoop.mit.edu!deccrl!decwrl!decwrl!concert!news-feed-1.peachnet.edu!gatech!usenet.ins.cwru.edu!magnus.acs.ohio-state.edu!cis.ohio-state.edu!news.sei.cmu.edu!bb3.andrew.cmu.edu!crabapple.srv.cs.cmu.edu!18084TM@msu.edu в количестве 1\n",
      "--- From: в количестве 1\n",
      "--- 18084TM@msu.edu в количестве 1\n",
      "--- (Tom) в количестве 1\n",
      "--- Subject: в количестве 1\n",
      "--- Billsats в количестве 1\n",
      "--- Message-ID: в количестве 1\n",
      "--- <C78ECz.AH2.1@cs.cmu.edu> в количестве 1\n",
      "--- X-Added: в количестве 1\n",
      "--- Forwarded в количестве 1\n",
      "--- by в количестве 1\n",
      "--- Space в количестве 2\n",
      "--- Digest в количестве 1\n",
      "--- Sender: в количестве 1\n",
      "--- news+@cs.cmu.edu в количестве 1\n",
      "--- Organization: в количестве 1\n",
      "--- [via в количестве 1\n",
      "--- International в количестве 1\n",
      "--- University] в количестве 1\n",
      "--- Original-Sender: в количестве 1\n",
      "--- isu@VACATION.VENARI.CS.CMU.EDU в количестве 1\n",
      "--- Distribution: в количестве 1\n",
      "--- sci в количестве 1\n",
      "--- Date: в количестве 1\n",
      "--- Tue, в количестве 1\n",
      "--- 18 в количестве 1\n",
      "--- May в количестве 1\n",
      "--- 1993 в количестве 1\n",
      "--- 16:40:11 в количестве 1\n",
      "--- GMT в количестве 1\n",
      "--- Approved: в количестве 1\n",
      "--- bboard-news_gateway в количестве 1\n",
      "--- Lines: в количестве 1\n",
      "--- 29 в количестве 1\n",
      "--- Jeffrey в количестве 1\n",
      "--- L. в количестве 1\n",
      "--- Cook в количестве 1\n",
      "--- sez; в количестве 2\n",
      "--- >>This в количестве 1\n",
      "--- object в количестве 1\n",
      "--- would в количестве 7\n",
      "--- not в количестве 2\n",
      "--- interfere в количестве 1\n",
      "--- with в количестве 3\n"
     ]
    },
    {
     "name": "stdout",
     "output_type": "stream",
     "text": [
      "--- anyone's в количестве 1\n",
      "--- enjoyment в количестве 1\n",
      "--- of в количестве 8\n",
      "--- the в количестве 11\n",
      "--- night в количестве 1\n",
      "--- sky в количестве 1\n",
      "--- >>(it в количестве 1\n",
      "--- be в количестве 2\n",
      "--- invisible в количестве 1\n",
      "--- at в количестве 3\n",
      "--- night), в количестве 1\n",
      "--- nor в количестве 1\n",
      "--- it в количестве 4\n",
      "--- have в количестве 1\n",
      "--- any в количестве 1\n",
      "--- significant в количестве 1\n",
      "--- >>impact в количестве 1\n",
      "--- on в количестве 3\n",
      "--- astronomical в количестве 1\n",
      "--- observations. в количестве 1\n",
      "--- I в количестве 6\n",
      "--- suspect в количестве 1\n",
      "--- there в количестве 1\n",
      "--- must в количестве 1\n",
      "--- some в количестве 2\n",
      "--- kind в количестве 1\n",
      "--- >>of в количестве 1\n",
      "--- underlying в количестве 1\n",
      "--- agenda в количестве 1\n",
      "--- coming в количестве 1\n",
      "--- to в количестве 2\n",
      "--- surface в количестве 1\n",
      "--- when, в количестве 1\n",
      "--- in в количестве 2\n",
      "--- spite в количестве 1\n",
      "--- this, в количестве 1\n",
      "--- people в количестве 1\n",
      "--- >>are в количестве 1\n",
      "--- so в количестве 2\n",
      "--- quick в количестве 1\n",
      "--- shrilly в количестве 1\n",
      "--- denounce в количестве 1\n",
      "--- and в количестве 5\n",
      "--- condemn в количестве 1\n",
      "--- something в количестве 1\n",
      "--- that в количестве 3\n",
      "--- >>vividly в количестве 1\n",
      "--- demonstrate в количестве 2\n",
      "--- strength в количестве 4\n",
      "--- Western в количестве 3\n",
      "--- capitalism. в количестве 1\n",
      "--- Lazlo в количестве 1\n",
      "--- Nibble в количестве 1\n",
      "--- >Buying в количестве 1\n",
      "--- Lichtenstein в количестве 2\n",
      "--- paving в количестве 2\n",
      "--- over в количестве 2\n",
      "--- ground в количестве 2\n",
      "--- glass в количестве 2\n",
      "--- also в количестве 1\n",
      "--- >\"demonstrate в количестве 1\n",
      "--- capitalism\", в количестве 1\n",
      "--- but в количестве 3\n",
      "--- doesn't в количестве 1\n",
      "--- make в количестве 1\n",
      "--- >a в количестве 1\n",
      "--- particularly в количестве 1\n",
      "--- attractive в количестве 1\n",
      "--- idea. в количестве 1\n",
      "--- Is в количестве 1\n",
      "--- what в количестве 1\n",
      "--- this в количестве 1\n",
      "--- country в количестве 1\n",
      "--- has в количестве 1\n",
      "--- been в количестве 1\n",
      "--- reduced в количестве 1\n",
      "--- >to? в количестве 1\n",
      "--- The в количестве 1\n",
      "--- planetary в количестве 1\n",
      "--- equivalent в количестве 1\n",
      "--- a в количестве 2\n",
      "--- guy в количестве 1\n",
      "--- who в количестве 1\n",
      "--- gets в количестве 1\n",
      "--- his в количестве 1\n",
      "--- penis в количестве 1\n",
      "--- out в количестве 1\n",
      "--- parties? в количестве 1\n",
      "--- Actually, в количестве 1\n",
      "--- wouldn't в количестве 1\n",
      "--- Capitalism, в количестве 1\n",
      "--- since в количестве 1\n",
      "--- it's в количестве 1\n",
      "--- depends в количестве 1\n",
      "--- use в количестве 1\n",
      "--- mind в количестве 1\n",
      "--- materials в количестве 1\n",
      "--- fulfillment в количестве 1\n",
      "--- needs в количестве 1\n",
      "--- desires. в количестве 1\n",
      "--- Mind в количестве 1\n",
      "--- you, в количестве 1\n",
      "--- I'm в количестве 1\n",
      "--- saying в количестве 1\n",
      "--- *no-one* в количестве 1\n",
      "--- benefit в количестве 1\n",
      "--- from в количестве 2\n",
      "--- glassed-over в количестве 1\n",
      "--- land, в количестве 1\n",
      "--- don't в количестве 2\n",
      "--- think в количестве 1\n",
      "--- anyone в количестве 1\n",
      "--- actually в количестве 1\n",
      "--- pay в количестве 1\n",
      "--- for в количестве 1\n",
      "--- it, в количестве 1\n",
      "--- unlike в количестве 1\n",
      "--- (potential) в количестве 1\n",
      "--- billsats. в количестве 1\n",
      "--- quite в количестве 1\n",
      "--- follow в количестве 1\n",
      "--- you в количестве 1\n",
      "--- part в количестве 1\n",
      "--- about в количестве 1\n",
      "--- someone в количестве 1\n",
      "--- exposing в количестве 1\n",
      "--- their в количестве 1\n",
      "--- genitals в количестве 1\n",
      "--- parties, в количестве 1\n",
      "--- got в количестве 1\n",
      "--- chuckle в количестве 1\n",
      "--- anyway. в количестве 1\n",
      "--- And в количестве 1\n",
      "--- thought в количестве 1\n",
      "--- had в количестве 1\n",
      "--- strange в количестве 1\n",
      "--- friends в количестве 1\n",
      "--- :-) в количестве 1\n",
      "--- -Tommy в количестве 1\n",
      "--- Mac в количестве 1\n",
      "--- ------------------------------------------------------------------------- в количестве 2\n",
      "--- Tom в количестве 1\n",
      "--- McWilliams в количестве 1\n",
      "--- 517-355-2178 в количестве 1\n",
      "--- wk в количестве 1\n",
      "--- \\ в количестве 2\n",
      "--- They в количестве 1\n",
      "--- communicated в количестве 1\n",
      "--- communists, в количестве 1\n",
      "--- 18084tm@ibm.cl.msu.edu в количестве 1\n",
      "--- 336-9591 в количестве 1\n",
      "--- hm в количестве 1\n",
      "--- pacified в количестве 1\n",
      "--- pacifists. в количестве 1\n",
      "--- -TimBuk3 в количестве 1\n",
      "\n",
      "В ./20_newsgroups/sci.space/62614 есть слова: \n",
      "--- Path: в количестве 1\n",
      "--- cantaloupe.srv.cs.cmu.edu!das-news.harvard.edu!noc.near.net!howland.reston.ans.net!zaphod.mps.ohio-state.edu!cs.utexas.edu!tamsun.tamu.edu!zeus.tamu.edu!i0c0256 в количестве 1\n",
      "--- From: в количестве 1\n",
      "--- i0c0256@zeus.tamu.edu в количестве 1\n",
      "--- (IGOR) в количестве 1\n",
      "--- Newsgroups: в количестве 1\n",
      "--- sci.space в количестве 1\n",
      "--- Subject: в количестве 1\n",
      "--- Re: в количестве 1\n",
      "--- Questions в количестве 1\n",
      "--- for в количестве 3\n",
      "--- KC-135 в количестве 2\n",
      "--- veterans в количестве 1\n",
      "--- Date: в количестве 1\n",
      "--- 18 в количестве 1\n",
      "--- May в количестве 1\n",
      "--- 1993 в количестве 1\n",
      "--- 13:02 в количестве 1\n",
      "--- CDT в количестве 1\n",
      "--- Organization: в количестве 1\n",
      "--- Texas в количестве 2\n",
      "--- A&M в количестве 2\n",
      "--- University, в количестве 1\n",
      "--- Academic в количестве 1\n",
      "--- Computing в количестве 1\n",
      "--- Services в количестве 1\n",
      "--- Lines: в количестве 1\n",
      "--- 26 в количестве 1\n",
      "--- Distribution: в количестве 1\n",
      "--- world в количестве 1\n",
      "--- Message-ID: в количестве 1\n",
      "--- <18MAY199313024752@zeus.tamu.edu> в количестве 1\n",
      "--- References: в количестве 1\n",
      "--- <1t8h49$a2n@aurora.engr.LaTech.edu> в количестве 1\n",
      "--- <qHNP4B1w165w@shakala.com> в количестве 1\n",
      "--- <17MAY199318160445@zeus.tamu.edu> в количестве 1\n",
      "--- <1993May18.113849.15908@mksol.dseg.ti.com> в количестве 1\n",
      "--- NNTP-Posting-Host: в количестве 1\n",
      "--- zeus.tamu.edu в количестве 1\n",
      "--- Keywords: в количестве 1\n",
      "--- experiments в количестве 1\n",
      "--- research в количестве 1\n",
      "--- News-Software: в количестве 1\n",
      "--- VAX/VMS в количестве 1\n",
      "--- VNEWS в количестве 1\n",
      "--- 1.41 в количестве 1\n",
      "--- >>if в количестве 1\n",
      "--- you в количестве 5\n",
      "--- think в количестве 2\n",
      "--- may в количестве 2\n",
      "--- have в количестве 2\n",
      "--- some в количестве 2\n",
      "--- problems в количестве 1\n",
      "--- want в количестве 1\n",
      "--- to в количестве 9\n",
      "--- make в количестве 2\n",
      "--- it в количестве 2\n",
      "--- stand в количестве 2\n",
      "--- up в количестве 1\n",
      "--- on в количестве 6\n",
      "--- the в количестве 14\n",
      "--- >>side в количестве 1\n",
      "--- so в количестве 1\n",
      "--- that в количестве 4\n",
      "--- Gees в количестве 1\n",
      "--- won't в количестве 1\n",
      "--- affect в количестве 1\n",
      "--- too в количестве 1\n",
      "--- much в количестве 1\n",
      "--- writing в количестве 1\n",
      "--- disk в количестве 1\n",
      "--- or в количестве 1\n",
      "--- >>hard в количестве 1\n",
      "--- disk.... в количестве 1\n",
      "--- > в количестве 1\n",
      "--- >Hmm. в количестве 1\n",
      "--- I в количестве 3\n",
      "--- would в количестве 2\n",
      "--- being в количестве 1\n",
      "--- edge в количестве 1\n",
      "--- be в количестве 2\n",
      "--- *worse*, в количестве 1\n",
      "--- since в количестве 1\n",
      "--- might в количестве 2\n",
      "--- >make в количестве 1\n",
      "--- tracks в количестве 1\n",
      "--- unsymmetrical в количестве 1\n",
      "--- around в количестве 1\n",
      "--- spindle в количестве 1\n",
      "--- due в количестве 1\n",
      "--- sideways в количестве 1\n",
      "--- >force в количестве 1\n",
      "--- head. в количестве 1\n",
      "--- Older в количестве 1\n",
      "--- drives в количестве 1\n",
      "--- used в количестве 1\n",
      "--- tell в количестве 1\n",
      "--- reformat в количестве 1\n",
      "--- if в количестве 1\n",
      "--- >were в количестве 1\n",
      "--- going в количестве 1\n",
      "--- drive в количестве 1\n",
      "--- edge; в количестве 1\n",
      "--- at в количестве 1\n",
      "--- 3+g, в количестве 1\n",
      "--- this в количестве 1\n",
      "--- side в количестве 1\n",
      "--- force в количестве 1\n",
      "--- >even в количестве 1\n",
      "--- a в количестве 1\n",
      "--- problem в количестве 1\n",
      "--- new в количестве 1\n",
      "--- drives. в количестве 1\n",
      "--- well в количестве 1\n",
      "--- seemed в количестве 1\n",
      "--- work в количестве 1\n",
      "--- Mac в количестве 1\n",
      "--- II в количестве 1\n",
      "--- installation в количестве 1\n",
      "--- was в количестве 1\n",
      "--- talking в количестве 1\n",
      "--- about. в количестве 1\n",
      "--- Oh в количестве 1\n",
      "--- yeah в количестве 1\n",
      "--- there в количестве 2\n",
      "--- is в количестве 2\n",
      "--- something в количестве 1\n",
      "--- forgot в количестве 1\n",
      "--- mention в количестве 1\n",
      "--- : в количестве 1\n",
      "--- even в количестве 1\n",
      "--- though в количестве 1\n",
      "--- you're в количестве 1\n",
      "--- not в количестве 1\n",
      "--- suppposed в количестве 1\n",
      "--- water в количестве 1\n",
      "--- around, в количестве 1\n",
      "--- IS в количестве 1\n",
      "--- condenstion в количестве 1\n",
      "--- d в количестве 1\n",
      "--- dripping в количестве 1\n",
      "--- from в количестве 2\n",
      "--- roof в количестве 1\n",
      "--- of в количестве 2\n",
      "--- plane в количестве 1\n",
      "--- sure в количестве 2\n",
      "--- your в количестве 2\n",
      "--- hardware в количестве 1\n",
      "--- covered. в количестве 1\n",
      "--- Make в количестве 1\n",
      "--- also в количестве 1\n",
      "--- keyboards в количестве 1\n",
      "--- are в количестве 1\n",
      "--- protected в количестве 1\n",
      "--- two-phase в количестве 1\n",
      "--- flow в количестве 1\n",
      "--- coming в количестве 1\n",
      "--- out в количестве 1\n",
      "--- sick в количестве 1\n",
      "--- people. в количестве 1\n",
      "--- It в количестве 1\n",
      "--- happened в количестве 1\n",
      "--- us..... в количестве 1\n",
      "--- Good в количестве 1\n",
      "--- luck. в количестве 1\n",
      "--- Igor в количестве 1\n",
      "--- Carron в количестве 1\n",
      "--- University в количестве 1\n",
      "\n"
     ]
    }
   ],
   "source": [
    "# Ваш код здесь\n",
    "from collections import Counter, defaultdict\n",
    "import glob\n",
    "\n",
    "\n",
    "files = glob.glob(\"./20_newsgroups/sci.space/*\")\n",
    "# print(files)\n",
    "\n",
    "dofc = defaultdict(Counter)\n",
    "\n",
    "for f in files:\n",
    "    dofc[f] = Counter()\n",
    "    with open(f, mode=\"r\") as fl:\n",
    "        for line in fl:\n",
    "            for w in line.split():\n",
    "                dofc[f][w] += 1\n",
    "\n",
    "# print(dofc)\n",
    "for text in dofc:\n",
    "    print(\"В\", text, \"есть слова: \")\n",
    "    for word in dofc[text]:\n",
    "        print(\"---\", word, \"в количестве\", dofc[text][word])\n",
    "    print()"
   ]
  },
  {
   "cell_type": "markdown",
   "metadata": {},
   "source": [
    "---"
   ]
  },
  {
   "cell_type": "markdown",
   "metadata": {},
   "source": [
    "То, что Вы реализовали выше, есть ни что иное, как простая реализация **bag-of-words (мешок слов)** для корпуса из 9 документов."
   ]
  },
  {
   "cell_type": "markdown",
   "metadata": {},
   "source": [
    "## Список материалов для самостоятельного изучения"
   ]
  },
  {
   "cell_type": "markdown",
   "metadata": {},
   "source": [
    "* *Сайт языка Python* - https://www.python.org/"
   ]
  },
  {
   "cell_type": "markdown",
   "metadata": {},
   "source": [
    "* *Курс Python с нуля, можно выполнять задания в интерактивном режиме* - http://pythontutor.ru/"
   ]
  },
  {
   "cell_type": "markdown",
   "metadata": {},
   "source": [
    "* *Новый онлайн-курс по Питону на Coursera от Mail.Ru Group* - https://www.coursera.org/learn/programming-in-python"
   ]
  },
  {
   "cell_type": "markdown",
   "metadata": {},
   "source": [
    "* *Самоучитель Python* - https://pythonworld.ru/samouchitel-python"
   ]
  },
  {
   "cell_type": "markdown",
   "metadata": {},
   "source": [
    "* *Статья про коварности Python* - https://habrahabr.ru/company/mailru/blog/337364/"
   ]
  },
  {
   "cell_type": "markdown",
   "metadata": {},
   "source": [
    "* *Очень полезные трюки в Jupyter Notebook*: https://www.dataquest.io/blog/jupyter-notebook-tips-tricks-shortcuts/"
   ]
  }
 ],
 "metadata": {
  "kernelspec": {
   "display_name": "Python 3",
   "language": "python",
   "name": "python3"
  },
  "language_info": {
   "codemirror_mode": {
    "name": "ipython",
    "version": 3
   },
   "file_extension": ".py",
   "mimetype": "text/x-python",
   "name": "python",
   "nbconvert_exporter": "python",
   "pygments_lexer": "ipython3",
   "version": "3.6.3"
  }
 },
 "nbformat": 4,
 "nbformat_minor": 2
}
